{
 "cells": [
  {
   "cell_type": "code",
   "execution_count": 89,
   "id": "52343d68",
   "metadata": {},
   "outputs": [],
   "source": [
    "import numpy as np\n",
    "from keras.models import Sequential\n",
    "from keras.layers import Dense\n",
    "from keras.optimizers import SGD\n",
    "from sklearn.metrics import accuracy_score\n",
    "from itertools import product\n",
    "from random import random, uniform\n",
    "from sklearn.datasets import make_classification\n",
    "from sklearn.model_selection import train_test_split\n",
    "from keras.callbacks import Callback\n",
    "import pandas as pd\n",
    "import math\n",
    "import copy\n",
    "data=pd.read_csv(r\"C:\\Users\\Gabriel\\OneDrive\\Documents\\loan_preprocessed.csv\")\n",
    " \n",
    "X = data.drop('Personal Loan',axis=1).values\n",
    "Y = data['Personal Loan'].values\n",
    "X_train, X_test, y_train, y_test = train_test_split( X, Y, test_size=0.33, random_state=42)\n",
    "\n",
    "\n",
    "def create_model():\n",
    "    model = Sequential()\n",
    "    model.add(Dense(4, input_dim=12, activation='sigmoid'))\n",
    "    model.add(Dense(1, activation='sigmoid'))\n",
    "    return model\n"
   ]
  },
  {
   "cell_type": "code",
   "execution_count": 90,
   "id": "470a6923",
   "metadata": {},
   "outputs": [
    {
     "data": {
      "text/plain": [
       "((3350, 12), (3350,), (1650, 12), (1650,))"
      ]
     },
     "execution_count": 90,
     "metadata": {},
     "output_type": "execute_result"
    }
   ],
   "source": [
    "X_train.shape,y_train.shape,X_test.shape,y_test.shape"
   ]
  },
  {
   "cell_type": "code",
   "execution_count": 91,
   "id": "eb2171f4",
   "metadata": {},
   "outputs": [
    {
     "name": "stdout",
     "output_type": "stream",
     "text": [
      "Model: \"sequential_7\"\n",
      "_________________________________________________________________\n",
      " Layer (type)                Output Shape              Param #   \n",
      "=================================================================\n",
      " dense_14 (Dense)            (None, 4)                 52        \n",
      "                                                                 \n",
      " dense_15 (Dense)            (None, 1)                 5         \n",
      "                                                                 \n",
      "=================================================================\n",
      "Total params: 57\n",
      "Trainable params: 57\n",
      "Non-trainable params: 0\n",
      "_________________________________________________________________\n"
     ]
    }
   ],
   "source": [
    "model = create_model()\n",
    "model.summary()"
   ]
  },
  {
   "cell_type": "code",
   "execution_count": 76,
   "id": "058acc93",
   "metadata": {},
   "outputs": [],
   "source": [
    "\n",
    "def fitness_function(model, weights):\n",
    "    model.set_weights(weights)\n",
    "    inputs = X\n",
    "    targets = Y.reshape(-1,1)\n",
    "    model.compile(loss='binary_crossentropy', optimizer=SGD(lr=0.1), metrics=['accuracy'])\n",
    "    class FitnessCallback(Callback):\n",
    "        def on_epoch_end(self, epoch, logs={}):\n",
    "            self.fitness_score = logs.get('accuracy')\n",
    "\n",
    "    fitness_callback = FitnessCallback()\n",
    "    model.fit(inputs, targets, epochs=1, batch_size=1, callbacks=[fitness_callback], verbose=0)\n",
    "    y_pred = np.round(model.predict(inputs).ravel())\n",
    "    accuracy = accuracy_score(targets, y_pred)\n",
    "    return accuracy\n",
    "\n"
   ]
  },
  {
   "cell_type": "code",
   "execution_count": 77,
   "id": "4f93a6cd",
   "metadata": {},
   "outputs": [],
   "source": [
    "\n",
    "def genetic_algorithm(model, pop_size=50, num_generations=100, mutation_rate=0.1):\n",
    "    # Initialize the population with random weights\n",
    "    population = [model.get_weights() for i in range(pop_size)]\n",
    "\n",
    "    for gen in range(num_generations):\n",
    "        # Evaluate the fitness of each candidate solution\n",
    "        fitness = [fitness_function(model, weights) for weights in population]\n",
    "\n",
    "        # Print the best fitness in the current generation\n",
    "        best_fitness = max(fitness)\n",
    "        print(f\"Generation {gen}: Best Fitness = {best_fitness}\")\n",
    "\n",
    "        # Select the parents for crossover using roulette wheel selection\n",
    "        fitness_sum = sum(fitness)\n",
    "        parents = []\n",
    "        for i in range(pop_size):\n",
    "            cumulative_fitness = 0\n",
    "            for j in range(pop_size):\n",
    "                cumulative_fitness += fitness[j]\n",
    "                if random() < (cumulative_fitness / fitness_sum):\n",
    "                    parents.append(population[j])\n",
    "                    break\n",
    "\n",
    "        # Generate the offspring through single-point crossover\n",
    "        offspring = []\n",
    "        parent1=[]\n",
    "        parent2=[]\n",
    "        for i in range(0, pop_size, 2):\n",
    "            parent1 = parents[i]\n",
    "            parent2 = parents[i+1]\n",
    "            crossover_point = np.random.randint(0, len(parent1))\n",
    "            print(parent1,parent2)\n",
    "            p1=parent1[:crossover_point]\n",
    "            p2=parent2[crossover_point:]\n",
    "            p3=parent2[:crossover_point]\n",
    "            p4=parent1[crossover_point:]\n",
    "            child1=p1+p2\n",
    "            child2=p3+p4\n",
    "            \n",
    "#             child1 = np.concatenate((parent1[:crossover_point], parent2[crossover_point:]))\n",
    "#             child2 = np.concatenate((parent2[:crossover_point], parent1[crossover_point:]))\n",
    "            offspring.append(child1)\n",
    "            offspring.append(child2)\n",
    "\n",
    "        # Mutate the offspring by randomly perturbing each weight\n",
    "        for i in range(pop_size):\n",
    "            for j in range(len(offspring[i])):\n",
    "                if random() < mutation_rate:\n",
    "                    offspring[i][j] += uniform(-0.5, 0.5)\n",
    "\n",
    "        # Combine the parents and offspring\n",
    "        combined_population = parents + offspring\n",
    "\n",
    "        # Select the next generation using elitist truncation selection\n",
    "        combined_fitness = [fitness_function(model, weights) for weights in combined_population]\n",
    "        sorted_indices = np.argsort(combined_fitness)[::-1]\n",
    "        population = [combined_population[i] for i in sorted_indices[:pop_size]]\n",
    "\n",
    "        # Return the best weights found by the genetic algorithm\n",
    "        best_weights = population[np.argmax([fitness_function(model, weights) for weights in population])]\n",
    "        return best_weights\n",
    "        \n"
   ]
  },
  {
   "cell_type": "code",
   "execution_count": 78,
   "id": "191457b5",
   "metadata": {},
   "outputs": [
    {
     "name": "stdout",
     "output_type": "stream",
     "text": [
      "Training with genetic algorithm...\n",
      "157/157 [==============================] - 0s 1ms/step\n"
     ]
    },
    {
     "name": "stderr",
     "output_type": "stream",
     "text": [
      "C:\\Users\\Gabriel\\AppData\\Roaming\\Python\\Python39\\site-packages\\keras\\optimizers\\legacy\\gradient_descent.py:114: UserWarning: The `lr` argument is deprecated, use `learning_rate` instead.\n",
      "  super().__init__(name, **kwargs)\n"
     ]
    },
    {
     "name": "stdout",
     "output_type": "stream",
     "text": [
      "157/157 [==============================] - 0s 1ms/step\n"
     ]
    },
    {
     "name": "stderr",
     "output_type": "stream",
     "text": [
      "C:\\Users\\Gabriel\\AppData\\Roaming\\Python\\Python39\\site-packages\\keras\\optimizers\\legacy\\gradient_descent.py:114: UserWarning: The `lr` argument is deprecated, use `learning_rate` instead.\n",
      "  super().__init__(name, **kwargs)\n"
     ]
    },
    {
     "name": "stdout",
     "output_type": "stream",
     "text": [
      "157/157 [==============================] - 0s 1ms/step\n"
     ]
    },
    {
     "name": "stderr",
     "output_type": "stream",
     "text": [
      "C:\\Users\\Gabriel\\AppData\\Roaming\\Python\\Python39\\site-packages\\keras\\optimizers\\legacy\\gradient_descent.py:114: UserWarning: The `lr` argument is deprecated, use `learning_rate` instead.\n",
      "  super().__init__(name, **kwargs)\n"
     ]
    },
    {
     "name": "stdout",
     "output_type": "stream",
     "text": [
      "157/157 [==============================] - 0s 1ms/step\n"
     ]
    },
    {
     "name": "stderr",
     "output_type": "stream",
     "text": [
      "C:\\Users\\Gabriel\\AppData\\Roaming\\Python\\Python39\\site-packages\\keras\\optimizers\\legacy\\gradient_descent.py:114: UserWarning: The `lr` argument is deprecated, use `learning_rate` instead.\n",
      "  super().__init__(name, **kwargs)\n"
     ]
    },
    {
     "name": "stdout",
     "output_type": "stream",
     "text": [
      "157/157 [==============================] - 0s 1ms/step\n"
     ]
    },
    {
     "name": "stderr",
     "output_type": "stream",
     "text": [
      "C:\\Users\\Gabriel\\AppData\\Roaming\\Python\\Python39\\site-packages\\keras\\optimizers\\legacy\\gradient_descent.py:114: UserWarning: The `lr` argument is deprecated, use `learning_rate` instead.\n",
      "  super().__init__(name, **kwargs)\n"
     ]
    },
    {
     "name": "stdout",
     "output_type": "stream",
     "text": [
      "157/157 [==============================] - 0s 1ms/step\n"
     ]
    },
    {
     "name": "stderr",
     "output_type": "stream",
     "text": [
      "C:\\Users\\Gabriel\\AppData\\Roaming\\Python\\Python39\\site-packages\\keras\\optimizers\\legacy\\gradient_descent.py:114: UserWarning: The `lr` argument is deprecated, use `learning_rate` instead.\n",
      "  super().__init__(name, **kwargs)\n"
     ]
    },
    {
     "name": "stdout",
     "output_type": "stream",
     "text": [
      "157/157 [==============================] - 0s 1ms/step\n"
     ]
    },
    {
     "name": "stderr",
     "output_type": "stream",
     "text": [
      "C:\\Users\\Gabriel\\AppData\\Roaming\\Python\\Python39\\site-packages\\keras\\optimizers\\legacy\\gradient_descent.py:114: UserWarning: The `lr` argument is deprecated, use `learning_rate` instead.\n",
      "  super().__init__(name, **kwargs)\n"
     ]
    },
    {
     "name": "stdout",
     "output_type": "stream",
     "text": [
      "157/157 [==============================] - 0s 1ms/step\n"
     ]
    },
    {
     "name": "stderr",
     "output_type": "stream",
     "text": [
      "C:\\Users\\Gabriel\\AppData\\Roaming\\Python\\Python39\\site-packages\\keras\\optimizers\\legacy\\gradient_descent.py:114: UserWarning: The `lr` argument is deprecated, use `learning_rate` instead.\n",
      "  super().__init__(name, **kwargs)\n"
     ]
    },
    {
     "name": "stdout",
     "output_type": "stream",
     "text": [
      "157/157 [==============================] - 0s 1ms/step\n"
     ]
    },
    {
     "name": "stderr",
     "output_type": "stream",
     "text": [
      "C:\\Users\\Gabriel\\AppData\\Roaming\\Python\\Python39\\site-packages\\keras\\optimizers\\legacy\\gradient_descent.py:114: UserWarning: The `lr` argument is deprecated, use `learning_rate` instead.\n",
      "  super().__init__(name, **kwargs)\n"
     ]
    },
    {
     "name": "stdout",
     "output_type": "stream",
     "text": [
      "157/157 [==============================] - 0s 1ms/step\n"
     ]
    },
    {
     "name": "stderr",
     "output_type": "stream",
     "text": [
      "C:\\Users\\Gabriel\\AppData\\Roaming\\Python\\Python39\\site-packages\\keras\\optimizers\\legacy\\gradient_descent.py:114: UserWarning: The `lr` argument is deprecated, use `learning_rate` instead.\n",
      "  super().__init__(name, **kwargs)\n"
     ]
    },
    {
     "name": "stdout",
     "output_type": "stream",
     "text": [
      "157/157 [==============================] - 0s 1ms/step\n"
     ]
    },
    {
     "name": "stderr",
     "output_type": "stream",
     "text": [
      "C:\\Users\\Gabriel\\AppData\\Roaming\\Python\\Python39\\site-packages\\keras\\optimizers\\legacy\\gradient_descent.py:114: UserWarning: The `lr` argument is deprecated, use `learning_rate` instead.\n",
      "  super().__init__(name, **kwargs)\n"
     ]
    },
    {
     "name": "stdout",
     "output_type": "stream",
     "text": [
      "157/157 [==============================] - 0s 1ms/step\n"
     ]
    },
    {
     "name": "stderr",
     "output_type": "stream",
     "text": [
      "C:\\Users\\Gabriel\\AppData\\Roaming\\Python\\Python39\\site-packages\\keras\\optimizers\\legacy\\gradient_descent.py:114: UserWarning: The `lr` argument is deprecated, use `learning_rate` instead.\n",
      "  super().__init__(name, **kwargs)\n"
     ]
    },
    {
     "name": "stdout",
     "output_type": "stream",
     "text": [
      "157/157 [==============================] - 0s 1ms/step\n"
     ]
    },
    {
     "name": "stderr",
     "output_type": "stream",
     "text": [
      "C:\\Users\\Gabriel\\AppData\\Roaming\\Python\\Python39\\site-packages\\keras\\optimizers\\legacy\\gradient_descent.py:114: UserWarning: The `lr` argument is deprecated, use `learning_rate` instead.\n",
      "  super().__init__(name, **kwargs)\n"
     ]
    },
    {
     "name": "stdout",
     "output_type": "stream",
     "text": [
      "157/157 [==============================] - 0s 1ms/step\n"
     ]
    },
    {
     "name": "stderr",
     "output_type": "stream",
     "text": [
      "C:\\Users\\Gabriel\\AppData\\Roaming\\Python\\Python39\\site-packages\\keras\\optimizers\\legacy\\gradient_descent.py:114: UserWarning: The `lr` argument is deprecated, use `learning_rate` instead.\n",
      "  super().__init__(name, **kwargs)\n"
     ]
    },
    {
     "name": "stdout",
     "output_type": "stream",
     "text": [
      "157/157 [==============================] - 0s 1ms/step\n"
     ]
    },
    {
     "name": "stderr",
     "output_type": "stream",
     "text": [
      "C:\\Users\\Gabriel\\AppData\\Roaming\\Python\\Python39\\site-packages\\keras\\optimizers\\legacy\\gradient_descent.py:114: UserWarning: The `lr` argument is deprecated, use `learning_rate` instead.\n",
      "  super().__init__(name, **kwargs)\n"
     ]
    },
    {
     "name": "stdout",
     "output_type": "stream",
     "text": [
      "157/157 [==============================] - 0s 1ms/step\n"
     ]
    },
    {
     "name": "stderr",
     "output_type": "stream",
     "text": [
      "C:\\Users\\Gabriel\\AppData\\Roaming\\Python\\Python39\\site-packages\\keras\\optimizers\\legacy\\gradient_descent.py:114: UserWarning: The `lr` argument is deprecated, use `learning_rate` instead.\n",
      "  super().__init__(name, **kwargs)\n"
     ]
    },
    {
     "name": "stdout",
     "output_type": "stream",
     "text": [
      "157/157 [==============================] - 0s 1ms/step\n"
     ]
    },
    {
     "name": "stderr",
     "output_type": "stream",
     "text": [
      "C:\\Users\\Gabriel\\AppData\\Roaming\\Python\\Python39\\site-packages\\keras\\optimizers\\legacy\\gradient_descent.py:114: UserWarning: The `lr` argument is deprecated, use `learning_rate` instead.\n",
      "  super().__init__(name, **kwargs)\n"
     ]
    },
    {
     "name": "stdout",
     "output_type": "stream",
     "text": [
      "157/157 [==============================] - 0s 1ms/step\n"
     ]
    },
    {
     "name": "stderr",
     "output_type": "stream",
     "text": [
      "C:\\Users\\Gabriel\\AppData\\Roaming\\Python\\Python39\\site-packages\\keras\\optimizers\\legacy\\gradient_descent.py:114: UserWarning: The `lr` argument is deprecated, use `learning_rate` instead.\n",
      "  super().__init__(name, **kwargs)\n"
     ]
    },
    {
     "name": "stdout",
     "output_type": "stream",
     "text": [
      "157/157 [==============================] - 0s 2ms/step\n"
     ]
    },
    {
     "name": "stderr",
     "output_type": "stream",
     "text": [
      "C:\\Users\\Gabriel\\AppData\\Roaming\\Python\\Python39\\site-packages\\keras\\optimizers\\legacy\\gradient_descent.py:114: UserWarning: The `lr` argument is deprecated, use `learning_rate` instead.\n",
      "  super().__init__(name, **kwargs)\n"
     ]
    },
    {
     "name": "stdout",
     "output_type": "stream",
     "text": [
      "157/157 [==============================] - 0s 1ms/step\n"
     ]
    },
    {
     "name": "stderr",
     "output_type": "stream",
     "text": [
      "C:\\Users\\Gabriel\\AppData\\Roaming\\Python\\Python39\\site-packages\\keras\\optimizers\\legacy\\gradient_descent.py:114: UserWarning: The `lr` argument is deprecated, use `learning_rate` instead.\n",
      "  super().__init__(name, **kwargs)\n"
     ]
    },
    {
     "name": "stdout",
     "output_type": "stream",
     "text": [
      "157/157 [==============================] - 0s 1ms/step\n"
     ]
    },
    {
     "name": "stderr",
     "output_type": "stream",
     "text": [
      "C:\\Users\\Gabriel\\AppData\\Roaming\\Python\\Python39\\site-packages\\keras\\optimizers\\legacy\\gradient_descent.py:114: UserWarning: The `lr` argument is deprecated, use `learning_rate` instead.\n",
      "  super().__init__(name, **kwargs)\n"
     ]
    },
    {
     "name": "stdout",
     "output_type": "stream",
     "text": [
      "157/157 [==============================] - 0s 1ms/step\n"
     ]
    },
    {
     "name": "stderr",
     "output_type": "stream",
     "text": [
      "C:\\Users\\Gabriel\\AppData\\Roaming\\Python\\Python39\\site-packages\\keras\\optimizers\\legacy\\gradient_descent.py:114: UserWarning: The `lr` argument is deprecated, use `learning_rate` instead.\n",
      "  super().__init__(name, **kwargs)\n"
     ]
    },
    {
     "name": "stdout",
     "output_type": "stream",
     "text": [
      "157/157 [==============================] - 0s 1ms/step\n"
     ]
    },
    {
     "name": "stderr",
     "output_type": "stream",
     "text": [
      "C:\\Users\\Gabriel\\AppData\\Roaming\\Python\\Python39\\site-packages\\keras\\optimizers\\legacy\\gradient_descent.py:114: UserWarning: The `lr` argument is deprecated, use `learning_rate` instead.\n",
      "  super().__init__(name, **kwargs)\n"
     ]
    },
    {
     "name": "stdout",
     "output_type": "stream",
     "text": [
      "157/157 [==============================] - 0s 1ms/step\n"
     ]
    },
    {
     "name": "stderr",
     "output_type": "stream",
     "text": [
      "C:\\Users\\Gabriel\\AppData\\Roaming\\Python\\Python39\\site-packages\\keras\\optimizers\\legacy\\gradient_descent.py:114: UserWarning: The `lr` argument is deprecated, use `learning_rate` instead.\n",
      "  super().__init__(name, **kwargs)\n"
     ]
    },
    {
     "name": "stdout",
     "output_type": "stream",
     "text": [
      "157/157 [==============================] - 0s 1ms/step\n"
     ]
    },
    {
     "name": "stderr",
     "output_type": "stream",
     "text": [
      "C:\\Users\\Gabriel\\AppData\\Roaming\\Python\\Python39\\site-packages\\keras\\optimizers\\legacy\\gradient_descent.py:114: UserWarning: The `lr` argument is deprecated, use `learning_rate` instead.\n",
      "  super().__init__(name, **kwargs)\n"
     ]
    },
    {
     "name": "stdout",
     "output_type": "stream",
     "text": [
      "157/157 [==============================] - 0s 1ms/step\n"
     ]
    },
    {
     "name": "stderr",
     "output_type": "stream",
     "text": [
      "C:\\Users\\Gabriel\\AppData\\Roaming\\Python\\Python39\\site-packages\\keras\\optimizers\\legacy\\gradient_descent.py:114: UserWarning: The `lr` argument is deprecated, use `learning_rate` instead.\n",
      "  super().__init__(name, **kwargs)\n"
     ]
    },
    {
     "name": "stdout",
     "output_type": "stream",
     "text": [
      "157/157 [==============================] - 0s 1ms/step\n"
     ]
    },
    {
     "name": "stderr",
     "output_type": "stream",
     "text": [
      "C:\\Users\\Gabriel\\AppData\\Roaming\\Python\\Python39\\site-packages\\keras\\optimizers\\legacy\\gradient_descent.py:114: UserWarning: The `lr` argument is deprecated, use `learning_rate` instead.\n",
      "  super().__init__(name, **kwargs)\n"
     ]
    },
    {
     "name": "stdout",
     "output_type": "stream",
     "text": [
      "157/157 [==============================] - 0s 1ms/step\n"
     ]
    },
    {
     "name": "stderr",
     "output_type": "stream",
     "text": [
      "C:\\Users\\Gabriel\\AppData\\Roaming\\Python\\Python39\\site-packages\\keras\\optimizers\\legacy\\gradient_descent.py:114: UserWarning: The `lr` argument is deprecated, use `learning_rate` instead.\n",
      "  super().__init__(name, **kwargs)\n"
     ]
    },
    {
     "name": "stdout",
     "output_type": "stream",
     "text": [
      "157/157 [==============================] - 0s 1ms/step\n"
     ]
    },
    {
     "name": "stderr",
     "output_type": "stream",
     "text": [
      "C:\\Users\\Gabriel\\AppData\\Roaming\\Python\\Python39\\site-packages\\keras\\optimizers\\legacy\\gradient_descent.py:114: UserWarning: The `lr` argument is deprecated, use `learning_rate` instead.\n",
      "  super().__init__(name, **kwargs)\n"
     ]
    },
    {
     "name": "stdout",
     "output_type": "stream",
     "text": [
      "157/157 [==============================] - 0s 1ms/step\n"
     ]
    },
    {
     "name": "stderr",
     "output_type": "stream",
     "text": [
      "C:\\Users\\Gabriel\\AppData\\Roaming\\Python\\Python39\\site-packages\\keras\\optimizers\\legacy\\gradient_descent.py:114: UserWarning: The `lr` argument is deprecated, use `learning_rate` instead.\n",
      "  super().__init__(name, **kwargs)\n"
     ]
    },
    {
     "name": "stdout",
     "output_type": "stream",
     "text": [
      "157/157 [==============================] - 0s 1ms/step\n"
     ]
    },
    {
     "name": "stderr",
     "output_type": "stream",
     "text": [
      "C:\\Users\\Gabriel\\AppData\\Roaming\\Python\\Python39\\site-packages\\keras\\optimizers\\legacy\\gradient_descent.py:114: UserWarning: The `lr` argument is deprecated, use `learning_rate` instead.\n",
      "  super().__init__(name, **kwargs)\n"
     ]
    },
    {
     "name": "stdout",
     "output_type": "stream",
     "text": [
      "157/157 [==============================] - 0s 1ms/step\n"
     ]
    },
    {
     "name": "stderr",
     "output_type": "stream",
     "text": [
      "C:\\Users\\Gabriel\\AppData\\Roaming\\Python\\Python39\\site-packages\\keras\\optimizers\\legacy\\gradient_descent.py:114: UserWarning: The `lr` argument is deprecated, use `learning_rate` instead.\n",
      "  super().__init__(name, **kwargs)\n"
     ]
    },
    {
     "name": "stdout",
     "output_type": "stream",
     "text": [
      "157/157 [==============================] - 0s 1ms/step\n"
     ]
    },
    {
     "name": "stderr",
     "output_type": "stream",
     "text": [
      "C:\\Users\\Gabriel\\AppData\\Roaming\\Python\\Python39\\site-packages\\keras\\optimizers\\legacy\\gradient_descent.py:114: UserWarning: The `lr` argument is deprecated, use `learning_rate` instead.\n",
      "  super().__init__(name, **kwargs)\n"
     ]
    },
    {
     "name": "stdout",
     "output_type": "stream",
     "text": [
      "157/157 [==============================] - 0s 1ms/step\n"
     ]
    },
    {
     "name": "stderr",
     "output_type": "stream",
     "text": [
      "C:\\Users\\Gabriel\\AppData\\Roaming\\Python\\Python39\\site-packages\\keras\\optimizers\\legacy\\gradient_descent.py:114: UserWarning: The `lr` argument is deprecated, use `learning_rate` instead.\n",
      "  super().__init__(name, **kwargs)\n"
     ]
    },
    {
     "name": "stdout",
     "output_type": "stream",
     "text": [
      "157/157 [==============================] - 0s 1ms/step\n"
     ]
    },
    {
     "name": "stderr",
     "output_type": "stream",
     "text": [
      "C:\\Users\\Gabriel\\AppData\\Roaming\\Python\\Python39\\site-packages\\keras\\optimizers\\legacy\\gradient_descent.py:114: UserWarning: The `lr` argument is deprecated, use `learning_rate` instead.\n",
      "  super().__init__(name, **kwargs)\n"
     ]
    },
    {
     "name": "stdout",
     "output_type": "stream",
     "text": [
      "157/157 [==============================] - 0s 1ms/step\n"
     ]
    },
    {
     "name": "stderr",
     "output_type": "stream",
     "text": [
      "C:\\Users\\Gabriel\\AppData\\Roaming\\Python\\Python39\\site-packages\\keras\\optimizers\\legacy\\gradient_descent.py:114: UserWarning: The `lr` argument is deprecated, use `learning_rate` instead.\n",
      "  super().__init__(name, **kwargs)\n"
     ]
    },
    {
     "name": "stdout",
     "output_type": "stream",
     "text": [
      "157/157 [==============================] - 0s 1ms/step\n"
     ]
    },
    {
     "name": "stderr",
     "output_type": "stream",
     "text": [
      "C:\\Users\\Gabriel\\AppData\\Roaming\\Python\\Python39\\site-packages\\keras\\optimizers\\legacy\\gradient_descent.py:114: UserWarning: The `lr` argument is deprecated, use `learning_rate` instead.\n",
      "  super().__init__(name, **kwargs)\n"
     ]
    },
    {
     "name": "stdout",
     "output_type": "stream",
     "text": [
      "157/157 [==============================] - 0s 1ms/step\n"
     ]
    },
    {
     "name": "stderr",
     "output_type": "stream",
     "text": [
      "C:\\Users\\Gabriel\\AppData\\Roaming\\Python\\Python39\\site-packages\\keras\\optimizers\\legacy\\gradient_descent.py:114: UserWarning: The `lr` argument is deprecated, use `learning_rate` instead.\n",
      "  super().__init__(name, **kwargs)\n"
     ]
    },
    {
     "name": "stdout",
     "output_type": "stream",
     "text": [
      "157/157 [==============================] - 0s 1ms/step\n"
     ]
    },
    {
     "name": "stderr",
     "output_type": "stream",
     "text": [
      "C:\\Users\\Gabriel\\AppData\\Roaming\\Python\\Python39\\site-packages\\keras\\optimizers\\legacy\\gradient_descent.py:114: UserWarning: The `lr` argument is deprecated, use `learning_rate` instead.\n",
      "  super().__init__(name, **kwargs)\n"
     ]
    },
    {
     "name": "stdout",
     "output_type": "stream",
     "text": [
      "157/157 [==============================] - 0s 1ms/step\n"
     ]
    },
    {
     "name": "stderr",
     "output_type": "stream",
     "text": [
      "C:\\Users\\Gabriel\\AppData\\Roaming\\Python\\Python39\\site-packages\\keras\\optimizers\\legacy\\gradient_descent.py:114: UserWarning: The `lr` argument is deprecated, use `learning_rate` instead.\n",
      "  super().__init__(name, **kwargs)\n"
     ]
    },
    {
     "name": "stdout",
     "output_type": "stream",
     "text": [
      "157/157 [==============================] - 0s 1ms/step\n"
     ]
    },
    {
     "name": "stderr",
     "output_type": "stream",
     "text": [
      "C:\\Users\\Gabriel\\AppData\\Roaming\\Python\\Python39\\site-packages\\keras\\optimizers\\legacy\\gradient_descent.py:114: UserWarning: The `lr` argument is deprecated, use `learning_rate` instead.\n",
      "  super().__init__(name, **kwargs)\n"
     ]
    },
    {
     "name": "stdout",
     "output_type": "stream",
     "text": [
      "157/157 [==============================] - 0s 1ms/step\n"
     ]
    },
    {
     "name": "stderr",
     "output_type": "stream",
     "text": [
      "C:\\Users\\Gabriel\\AppData\\Roaming\\Python\\Python39\\site-packages\\keras\\optimizers\\legacy\\gradient_descent.py:114: UserWarning: The `lr` argument is deprecated, use `learning_rate` instead.\n",
      "  super().__init__(name, **kwargs)\n"
     ]
    },
    {
     "name": "stdout",
     "output_type": "stream",
     "text": [
      "157/157 [==============================] - 0s 1ms/step\n"
     ]
    },
    {
     "name": "stderr",
     "output_type": "stream",
     "text": [
      "C:\\Users\\Gabriel\\AppData\\Roaming\\Python\\Python39\\site-packages\\keras\\optimizers\\legacy\\gradient_descent.py:114: UserWarning: The `lr` argument is deprecated, use `learning_rate` instead.\n",
      "  super().__init__(name, **kwargs)\n"
     ]
    },
    {
     "name": "stdout",
     "output_type": "stream",
     "text": [
      "157/157 [==============================] - 0s 1ms/step\n"
     ]
    },
    {
     "name": "stderr",
     "output_type": "stream",
     "text": [
      "C:\\Users\\Gabriel\\AppData\\Roaming\\Python\\Python39\\site-packages\\keras\\optimizers\\legacy\\gradient_descent.py:114: UserWarning: The `lr` argument is deprecated, use `learning_rate` instead.\n",
      "  super().__init__(name, **kwargs)\n"
     ]
    },
    {
     "name": "stdout",
     "output_type": "stream",
     "text": [
      "157/157 [==============================] - 0s 1ms/step\n"
     ]
    },
    {
     "name": "stderr",
     "output_type": "stream",
     "text": [
      "C:\\Users\\Gabriel\\AppData\\Roaming\\Python\\Python39\\site-packages\\keras\\optimizers\\legacy\\gradient_descent.py:114: UserWarning: The `lr` argument is deprecated, use `learning_rate` instead.\n",
      "  super().__init__(name, **kwargs)\n"
     ]
    },
    {
     "name": "stdout",
     "output_type": "stream",
     "text": [
      "157/157 [==============================] - 0s 1ms/step\n"
     ]
    },
    {
     "name": "stderr",
     "output_type": "stream",
     "text": [
      "C:\\Users\\Gabriel\\AppData\\Roaming\\Python\\Python39\\site-packages\\keras\\optimizers\\legacy\\gradient_descent.py:114: UserWarning: The `lr` argument is deprecated, use `learning_rate` instead.\n",
      "  super().__init__(name, **kwargs)\n"
     ]
    },
    {
     "name": "stdout",
     "output_type": "stream",
     "text": [
      "157/157 [==============================] - 0s 1ms/step\n"
     ]
    },
    {
     "name": "stderr",
     "output_type": "stream",
     "text": [
      "C:\\Users\\Gabriel\\AppData\\Roaming\\Python\\Python39\\site-packages\\keras\\optimizers\\legacy\\gradient_descent.py:114: UserWarning: The `lr` argument is deprecated, use `learning_rate` instead.\n",
      "  super().__init__(name, **kwargs)\n"
     ]
    },
    {
     "name": "stdout",
     "output_type": "stream",
     "text": [
      "157/157 [==============================] - 0s 1ms/step\n"
     ]
    },
    {
     "name": "stderr",
     "output_type": "stream",
     "text": [
      "C:\\Users\\Gabriel\\AppData\\Roaming\\Python\\Python39\\site-packages\\keras\\optimizers\\legacy\\gradient_descent.py:114: UserWarning: The `lr` argument is deprecated, use `learning_rate` instead.\n",
      "  super().__init__(name, **kwargs)\n"
     ]
    },
    {
     "name": "stdout",
     "output_type": "stream",
     "text": [
      "157/157 [==============================] - 0s 1ms/step\n"
     ]
    },
    {
     "name": "stderr",
     "output_type": "stream",
     "text": [
      "C:\\Users\\Gabriel\\AppData\\Roaming\\Python\\Python39\\site-packages\\keras\\optimizers\\legacy\\gradient_descent.py:114: UserWarning: The `lr` argument is deprecated, use `learning_rate` instead.\n",
      "  super().__init__(name, **kwargs)\n"
     ]
    },
    {
     "name": "stdout",
     "output_type": "stream",
     "text": [
      "157/157 [==============================] - 0s 1ms/step\n",
      "Generation 0: Best Fitness = 0.904\n",
      "[array([[ 0.45562774,  0.2987647 ,  0.40296167, -0.20802876],\n",
      "       [-0.61031616, -0.07742286,  0.5602358 ,  0.31132007],\n",
      "       [ 0.19185197,  0.17404205,  0.12312204,  0.5019476 ],\n",
      "       [ 0.00372142,  0.0057199 ,  0.38532692,  0.22238678],\n",
      "       [ 0.3293773 ,  0.35254157,  0.272075  , -0.37521738],\n",
      "       [-0.42373848,  0.59413344,  0.5464502 , -0.55988073],\n",
      "       [-0.48330176, -0.45354152, -0.18322289,  0.56275386],\n",
      "       [-0.33403766, -0.1645872 ,  0.37583774, -0.51590145],\n",
      "       [-0.2561581 ,  0.3890038 ,  0.5011069 ,  0.32292235],\n",
      "       [ 0.5617145 , -0.05228484,  0.5264433 , -0.11275756],\n",
      "       [ 0.5529346 ,  0.56283504, -0.11283875, -0.12136915],\n",
      "       [ 0.5601519 ,  0.28764194,  0.07500845, -0.39125633]],\n",
      "      dtype=float32), array([0., 0., 0., 0.], dtype=float32), array([[-0.52353966],\n",
      "       [ 0.51822376],\n",
      "       [ 0.06216574],\n",
      "       [ 0.45625567]], dtype=float32), array([0.], dtype=float32)] [array([[ 0.45562774,  0.2987647 ,  0.40296167, -0.20802876],\n",
      "       [-0.61031616, -0.07742286,  0.5602358 ,  0.31132007],\n",
      "       [ 0.19185197,  0.17404205,  0.12312204,  0.5019476 ],\n",
      "       [ 0.00372142,  0.0057199 ,  0.38532692,  0.22238678],\n",
      "       [ 0.3293773 ,  0.35254157,  0.272075  , -0.37521738],\n",
      "       [-0.42373848,  0.59413344,  0.5464502 , -0.55988073],\n",
      "       [-0.48330176, -0.45354152, -0.18322289,  0.56275386],\n",
      "       [-0.33403766, -0.1645872 ,  0.37583774, -0.51590145],\n",
      "       [-0.2561581 ,  0.3890038 ,  0.5011069 ,  0.32292235],\n",
      "       [ 0.5617145 , -0.05228484,  0.5264433 , -0.11275756],\n",
      "       [ 0.5529346 ,  0.56283504, -0.11283875, -0.12136915],\n",
      "       [ 0.5601519 ,  0.28764194,  0.07500845, -0.39125633]],\n",
      "      dtype=float32), array([0., 0., 0., 0.], dtype=float32), array([[-0.52353966],\n",
      "       [ 0.51822376],\n",
      "       [ 0.06216574],\n",
      "       [ 0.45625567]], dtype=float32), array([0.], dtype=float32)]\n",
      "[array([[ 0.45562774,  0.2987647 ,  0.40296167, -0.20802876],\n",
      "       [-0.61031616, -0.07742286,  0.5602358 ,  0.31132007],\n",
      "       [ 0.19185197,  0.17404205,  0.12312204,  0.5019476 ],\n",
      "       [ 0.00372142,  0.0057199 ,  0.38532692,  0.22238678],\n",
      "       [ 0.3293773 ,  0.35254157,  0.272075  , -0.37521738],\n",
      "       [-0.42373848,  0.59413344,  0.5464502 , -0.55988073],\n",
      "       [-0.48330176, -0.45354152, -0.18322289,  0.56275386],\n",
      "       [-0.33403766, -0.1645872 ,  0.37583774, -0.51590145],\n",
      "       [-0.2561581 ,  0.3890038 ,  0.5011069 ,  0.32292235],\n",
      "       [ 0.5617145 , -0.05228484,  0.5264433 , -0.11275756],\n",
      "       [ 0.5529346 ,  0.56283504, -0.11283875, -0.12136915],\n",
      "       [ 0.5601519 ,  0.28764194,  0.07500845, -0.39125633]],\n",
      "      dtype=float32), array([0., 0., 0., 0.], dtype=float32), array([[-0.52353966],\n",
      "       [ 0.51822376],\n",
      "       [ 0.06216574],\n",
      "       [ 0.45625567]], dtype=float32), array([0.], dtype=float32)] [array([[ 0.45562774,  0.2987647 ,  0.40296167, -0.20802876],\n",
      "       [-0.61031616, -0.07742286,  0.5602358 ,  0.31132007],\n",
      "       [ 0.19185197,  0.17404205,  0.12312204,  0.5019476 ],\n",
      "       [ 0.00372142,  0.0057199 ,  0.38532692,  0.22238678],\n",
      "       [ 0.3293773 ,  0.35254157,  0.272075  , -0.37521738],\n",
      "       [-0.42373848,  0.59413344,  0.5464502 , -0.55988073],\n",
      "       [-0.48330176, -0.45354152, -0.18322289,  0.56275386],\n",
      "       [-0.33403766, -0.1645872 ,  0.37583774, -0.51590145],\n",
      "       [-0.2561581 ,  0.3890038 ,  0.5011069 ,  0.32292235],\n",
      "       [ 0.5617145 , -0.05228484,  0.5264433 , -0.11275756],\n",
      "       [ 0.5529346 ,  0.56283504, -0.11283875, -0.12136915],\n",
      "       [ 0.5601519 ,  0.28764194,  0.07500845, -0.39125633]],\n",
      "      dtype=float32), array([0., 0., 0., 0.], dtype=float32), array([[-0.52353966],\n",
      "       [ 0.51822376],\n",
      "       [ 0.06216574],\n",
      "       [ 0.45625567]], dtype=float32), array([0.], dtype=float32)]\n",
      "[array([[ 0.45562774,  0.2987647 ,  0.40296167, -0.20802876],\n",
      "       [-0.61031616, -0.07742286,  0.5602358 ,  0.31132007],\n",
      "       [ 0.19185197,  0.17404205,  0.12312204,  0.5019476 ],\n",
      "       [ 0.00372142,  0.0057199 ,  0.38532692,  0.22238678],\n",
      "       [ 0.3293773 ,  0.35254157,  0.272075  , -0.37521738],\n",
      "       [-0.42373848,  0.59413344,  0.5464502 , -0.55988073],\n",
      "       [-0.48330176, -0.45354152, -0.18322289,  0.56275386],\n",
      "       [-0.33403766, -0.1645872 ,  0.37583774, -0.51590145],\n",
      "       [-0.2561581 ,  0.3890038 ,  0.5011069 ,  0.32292235],\n",
      "       [ 0.5617145 , -0.05228484,  0.5264433 , -0.11275756],\n",
      "       [ 0.5529346 ,  0.56283504, -0.11283875, -0.12136915],\n",
      "       [ 0.5601519 ,  0.28764194,  0.07500845, -0.39125633]],\n",
      "      dtype=float32), array([0., 0., 0., 0.], dtype=float32), array([[-0.52353966],\n",
      "       [ 0.51822376],\n",
      "       [ 0.06216574],\n",
      "       [ 0.45625567]], dtype=float32), array([0.], dtype=float32)] [array([[ 0.45562774,  0.2987647 ,  0.40296167, -0.20802876],\n",
      "       [-0.61031616, -0.07742286,  0.5602358 ,  0.31132007],\n",
      "       [ 0.19185197,  0.17404205,  0.12312204,  0.5019476 ],\n",
      "       [ 0.00372142,  0.0057199 ,  0.38532692,  0.22238678],\n",
      "       [ 0.3293773 ,  0.35254157,  0.272075  , -0.37521738],\n",
      "       [-0.42373848,  0.59413344,  0.5464502 , -0.55988073],\n",
      "       [-0.48330176, -0.45354152, -0.18322289,  0.56275386],\n",
      "       [-0.33403766, -0.1645872 ,  0.37583774, -0.51590145],\n",
      "       [-0.2561581 ,  0.3890038 ,  0.5011069 ,  0.32292235],\n",
      "       [ 0.5617145 , -0.05228484,  0.5264433 , -0.11275756],\n",
      "       [ 0.5529346 ,  0.56283504, -0.11283875, -0.12136915],\n",
      "       [ 0.5601519 ,  0.28764194,  0.07500845, -0.39125633]],\n",
      "      dtype=float32), array([0., 0., 0., 0.], dtype=float32), array([[-0.52353966],\n",
      "       [ 0.51822376],\n",
      "       [ 0.06216574],\n",
      "       [ 0.45625567]], dtype=float32), array([0.], dtype=float32)]\n",
      "[array([[ 0.45562774,  0.2987647 ,  0.40296167, -0.20802876],\n",
      "       [-0.61031616, -0.07742286,  0.5602358 ,  0.31132007],\n",
      "       [ 0.19185197,  0.17404205,  0.12312204,  0.5019476 ],\n",
      "       [ 0.00372142,  0.0057199 ,  0.38532692,  0.22238678],\n",
      "       [ 0.3293773 ,  0.35254157,  0.272075  , -0.37521738],\n",
      "       [-0.42373848,  0.59413344,  0.5464502 , -0.55988073],\n",
      "       [-0.48330176, -0.45354152, -0.18322289,  0.56275386],\n",
      "       [-0.33403766, -0.1645872 ,  0.37583774, -0.51590145],\n",
      "       [-0.2561581 ,  0.3890038 ,  0.5011069 ,  0.32292235],\n",
      "       [ 0.5617145 , -0.05228484,  0.5264433 , -0.11275756],\n",
      "       [ 0.5529346 ,  0.56283504, -0.11283875, -0.12136915],\n",
      "       [ 0.5601519 ,  0.28764194,  0.07500845, -0.39125633]],\n",
      "      dtype=float32), array([0., 0., 0., 0.], dtype=float32), array([[-0.52353966],\n",
      "       [ 0.51822376],\n",
      "       [ 0.06216574],\n",
      "       [ 0.45625567]], dtype=float32), array([0.], dtype=float32)] [array([[ 0.45562774,  0.2987647 ,  0.40296167, -0.20802876],\n",
      "       [-0.61031616, -0.07742286,  0.5602358 ,  0.31132007],\n",
      "       [ 0.19185197,  0.17404205,  0.12312204,  0.5019476 ],\n",
      "       [ 0.00372142,  0.0057199 ,  0.38532692,  0.22238678],\n",
      "       [ 0.3293773 ,  0.35254157,  0.272075  , -0.37521738],\n",
      "       [-0.42373848,  0.59413344,  0.5464502 , -0.55988073],\n",
      "       [-0.48330176, -0.45354152, -0.18322289,  0.56275386],\n",
      "       [-0.33403766, -0.1645872 ,  0.37583774, -0.51590145],\n",
      "       [-0.2561581 ,  0.3890038 ,  0.5011069 ,  0.32292235],\n",
      "       [ 0.5617145 , -0.05228484,  0.5264433 , -0.11275756],\n",
      "       [ 0.5529346 ,  0.56283504, -0.11283875, -0.12136915],\n",
      "       [ 0.5601519 ,  0.28764194,  0.07500845, -0.39125633]],\n",
      "      dtype=float32), array([0., 0., 0., 0.], dtype=float32), array([[-0.52353966],\n",
      "       [ 0.51822376],\n",
      "       [ 0.06216574],\n",
      "       [ 0.45625567]], dtype=float32), array([0.], dtype=float32)]\n",
      "[array([[ 0.45562774,  0.2987647 ,  0.40296167, -0.20802876],\n",
      "       [-0.61031616, -0.07742286,  0.5602358 ,  0.31132007],\n",
      "       [ 0.19185197,  0.17404205,  0.12312204,  0.5019476 ],\n",
      "       [ 0.00372142,  0.0057199 ,  0.38532692,  0.22238678],\n",
      "       [ 0.3293773 ,  0.35254157,  0.272075  , -0.37521738],\n",
      "       [-0.42373848,  0.59413344,  0.5464502 , -0.55988073],\n",
      "       [-0.48330176, -0.45354152, -0.18322289,  0.56275386],\n",
      "       [-0.33403766, -0.1645872 ,  0.37583774, -0.51590145],\n",
      "       [-0.2561581 ,  0.3890038 ,  0.5011069 ,  0.32292235],\n",
      "       [ 0.5617145 , -0.05228484,  0.5264433 , -0.11275756],\n",
      "       [ 0.5529346 ,  0.56283504, -0.11283875, -0.12136915],\n",
      "       [ 0.5601519 ,  0.28764194,  0.07500845, -0.39125633]],\n",
      "      dtype=float32), array([0., 0., 0., 0.], dtype=float32), array([[-0.52353966],\n",
      "       [ 0.51822376],\n",
      "       [ 0.06216574],\n",
      "       [ 0.45625567]], dtype=float32), array([0.], dtype=float32)] [array([[ 0.45562774,  0.2987647 ,  0.40296167, -0.20802876],\n",
      "       [-0.61031616, -0.07742286,  0.5602358 ,  0.31132007],\n",
      "       [ 0.19185197,  0.17404205,  0.12312204,  0.5019476 ],\n",
      "       [ 0.00372142,  0.0057199 ,  0.38532692,  0.22238678],\n",
      "       [ 0.3293773 ,  0.35254157,  0.272075  , -0.37521738],\n",
      "       [-0.42373848,  0.59413344,  0.5464502 , -0.55988073],\n",
      "       [-0.48330176, -0.45354152, -0.18322289,  0.56275386],\n",
      "       [-0.33403766, -0.1645872 ,  0.37583774, -0.51590145],\n",
      "       [-0.2561581 ,  0.3890038 ,  0.5011069 ,  0.32292235],\n",
      "       [ 0.5617145 , -0.05228484,  0.5264433 , -0.11275756],\n",
      "       [ 0.5529346 ,  0.56283504, -0.11283875, -0.12136915],\n",
      "       [ 0.5601519 ,  0.28764194,  0.07500845, -0.39125633]],\n",
      "      dtype=float32), array([0., 0., 0., 0.], dtype=float32), array([[-0.52353966],\n",
      "       [ 0.51822376],\n",
      "       [ 0.06216574],\n",
      "       [ 0.45625567]], dtype=float32), array([0.], dtype=float32)]\n",
      "[array([[ 0.45562774,  0.2987647 ,  0.40296167, -0.20802876],\n",
      "       [-0.61031616, -0.07742286,  0.5602358 ,  0.31132007],\n",
      "       [ 0.19185197,  0.17404205,  0.12312204,  0.5019476 ],\n",
      "       [ 0.00372142,  0.0057199 ,  0.38532692,  0.22238678],\n",
      "       [ 0.3293773 ,  0.35254157,  0.272075  , -0.37521738],\n",
      "       [-0.42373848,  0.59413344,  0.5464502 , -0.55988073],\n",
      "       [-0.48330176, -0.45354152, -0.18322289,  0.56275386],\n",
      "       [-0.33403766, -0.1645872 ,  0.37583774, -0.51590145],\n",
      "       [-0.2561581 ,  0.3890038 ,  0.5011069 ,  0.32292235],\n",
      "       [ 0.5617145 , -0.05228484,  0.5264433 , -0.11275756],\n",
      "       [ 0.5529346 ,  0.56283504, -0.11283875, -0.12136915],\n",
      "       [ 0.5601519 ,  0.28764194,  0.07500845, -0.39125633]],\n",
      "      dtype=float32), array([0., 0., 0., 0.], dtype=float32), array([[-0.52353966],\n",
      "       [ 0.51822376],\n",
      "       [ 0.06216574],\n",
      "       [ 0.45625567]], dtype=float32), array([0.], dtype=float32)] [array([[ 0.45562774,  0.2987647 ,  0.40296167, -0.20802876],\n",
      "       [-0.61031616, -0.07742286,  0.5602358 ,  0.31132007],\n",
      "       [ 0.19185197,  0.17404205,  0.12312204,  0.5019476 ],\n",
      "       [ 0.00372142,  0.0057199 ,  0.38532692,  0.22238678],\n",
      "       [ 0.3293773 ,  0.35254157,  0.272075  , -0.37521738],\n",
      "       [-0.42373848,  0.59413344,  0.5464502 , -0.55988073],\n",
      "       [-0.48330176, -0.45354152, -0.18322289,  0.56275386],\n",
      "       [-0.33403766, -0.1645872 ,  0.37583774, -0.51590145],\n",
      "       [-0.2561581 ,  0.3890038 ,  0.5011069 ,  0.32292235],\n",
      "       [ 0.5617145 , -0.05228484,  0.5264433 , -0.11275756],\n",
      "       [ 0.5529346 ,  0.56283504, -0.11283875, -0.12136915],\n",
      "       [ 0.5601519 ,  0.28764194,  0.07500845, -0.39125633]],\n",
      "      dtype=float32), array([0., 0., 0., 0.], dtype=float32), array([[-0.52353966],\n",
      "       [ 0.51822376],\n",
      "       [ 0.06216574],\n",
      "       [ 0.45625567]], dtype=float32), array([0.], dtype=float32)]\n",
      "[array([[ 0.45562774,  0.2987647 ,  0.40296167, -0.20802876],\n",
      "       [-0.61031616, -0.07742286,  0.5602358 ,  0.31132007],\n",
      "       [ 0.19185197,  0.17404205,  0.12312204,  0.5019476 ],\n",
      "       [ 0.00372142,  0.0057199 ,  0.38532692,  0.22238678],\n",
      "       [ 0.3293773 ,  0.35254157,  0.272075  , -0.37521738],\n",
      "       [-0.42373848,  0.59413344,  0.5464502 , -0.55988073],\n",
      "       [-0.48330176, -0.45354152, -0.18322289,  0.56275386],\n",
      "       [-0.33403766, -0.1645872 ,  0.37583774, -0.51590145],\n",
      "       [-0.2561581 ,  0.3890038 ,  0.5011069 ,  0.32292235],\n",
      "       [ 0.5617145 , -0.05228484,  0.5264433 , -0.11275756],\n",
      "       [ 0.5529346 ,  0.56283504, -0.11283875, -0.12136915],\n",
      "       [ 0.5601519 ,  0.28764194,  0.07500845, -0.39125633]],\n",
      "      dtype=float32), array([0., 0., 0., 0.], dtype=float32), array([[-0.52353966],\n",
      "       [ 0.51822376],\n",
      "       [ 0.06216574],\n",
      "       [ 0.45625567]], dtype=float32), array([0.], dtype=float32)] [array([[ 0.45562774,  0.2987647 ,  0.40296167, -0.20802876],\n",
      "       [-0.61031616, -0.07742286,  0.5602358 ,  0.31132007],\n",
      "       [ 0.19185197,  0.17404205,  0.12312204,  0.5019476 ],\n",
      "       [ 0.00372142,  0.0057199 ,  0.38532692,  0.22238678],\n",
      "       [ 0.3293773 ,  0.35254157,  0.272075  , -0.37521738],\n",
      "       [-0.42373848,  0.59413344,  0.5464502 , -0.55988073],\n",
      "       [-0.48330176, -0.45354152, -0.18322289,  0.56275386],\n",
      "       [-0.33403766, -0.1645872 ,  0.37583774, -0.51590145],\n",
      "       [-0.2561581 ,  0.3890038 ,  0.5011069 ,  0.32292235],\n",
      "       [ 0.5617145 , -0.05228484,  0.5264433 , -0.11275756],\n",
      "       [ 0.5529346 ,  0.56283504, -0.11283875, -0.12136915],\n",
      "       [ 0.5601519 ,  0.28764194,  0.07500845, -0.39125633]],\n",
      "      dtype=float32), array([0., 0., 0., 0.], dtype=float32), array([[-0.52353966],\n",
      "       [ 0.51822376],\n",
      "       [ 0.06216574],\n",
      "       [ 0.45625567]], dtype=float32), array([0.], dtype=float32)]\n",
      "[array([[ 0.45562774,  0.2987647 ,  0.40296167, -0.20802876],\n",
      "       [-0.61031616, -0.07742286,  0.5602358 ,  0.31132007],\n",
      "       [ 0.19185197,  0.17404205,  0.12312204,  0.5019476 ],\n",
      "       [ 0.00372142,  0.0057199 ,  0.38532692,  0.22238678],\n",
      "       [ 0.3293773 ,  0.35254157,  0.272075  , -0.37521738],\n",
      "       [-0.42373848,  0.59413344,  0.5464502 , -0.55988073],\n",
      "       [-0.48330176, -0.45354152, -0.18322289,  0.56275386],\n",
      "       [-0.33403766, -0.1645872 ,  0.37583774, -0.51590145],\n",
      "       [-0.2561581 ,  0.3890038 ,  0.5011069 ,  0.32292235],\n",
      "       [ 0.5617145 , -0.05228484,  0.5264433 , -0.11275756],\n",
      "       [ 0.5529346 ,  0.56283504, -0.11283875, -0.12136915],\n",
      "       [ 0.5601519 ,  0.28764194,  0.07500845, -0.39125633]],\n",
      "      dtype=float32), array([0., 0., 0., 0.], dtype=float32), array([[-0.52353966],\n",
      "       [ 0.51822376],\n",
      "       [ 0.06216574],\n",
      "       [ 0.45625567]], dtype=float32), array([0.], dtype=float32)] [array([[ 0.45562774,  0.2987647 ,  0.40296167, -0.20802876],\n",
      "       [-0.61031616, -0.07742286,  0.5602358 ,  0.31132007],\n",
      "       [ 0.19185197,  0.17404205,  0.12312204,  0.5019476 ],\n",
      "       [ 0.00372142,  0.0057199 ,  0.38532692,  0.22238678],\n",
      "       [ 0.3293773 ,  0.35254157,  0.272075  , -0.37521738],\n",
      "       [-0.42373848,  0.59413344,  0.5464502 , -0.55988073],\n",
      "       [-0.48330176, -0.45354152, -0.18322289,  0.56275386],\n",
      "       [-0.33403766, -0.1645872 ,  0.37583774, -0.51590145],\n",
      "       [-0.2561581 ,  0.3890038 ,  0.5011069 ,  0.32292235],\n",
      "       [ 0.5617145 , -0.05228484,  0.5264433 , -0.11275756],\n",
      "       [ 0.5529346 ,  0.56283504, -0.11283875, -0.12136915],\n",
      "       [ 0.5601519 ,  0.28764194,  0.07500845, -0.39125633]],\n",
      "      dtype=float32), array([0., 0., 0., 0.], dtype=float32), array([[-0.52353966],\n",
      "       [ 0.51822376],\n",
      "       [ 0.06216574],\n",
      "       [ 0.45625567]], dtype=float32), array([0.], dtype=float32)]\n",
      "[array([[ 0.45562774,  0.2987647 ,  0.40296167, -0.20802876],\n",
      "       [-0.61031616, -0.07742286,  0.5602358 ,  0.31132007],\n",
      "       [ 0.19185197,  0.17404205,  0.12312204,  0.5019476 ],\n",
      "       [ 0.00372142,  0.0057199 ,  0.38532692,  0.22238678],\n",
      "       [ 0.3293773 ,  0.35254157,  0.272075  , -0.37521738],\n",
      "       [-0.42373848,  0.59413344,  0.5464502 , -0.55988073],\n",
      "       [-0.48330176, -0.45354152, -0.18322289,  0.56275386],\n",
      "       [-0.33403766, -0.1645872 ,  0.37583774, -0.51590145],\n",
      "       [-0.2561581 ,  0.3890038 ,  0.5011069 ,  0.32292235],\n",
      "       [ 0.5617145 , -0.05228484,  0.5264433 , -0.11275756],\n",
      "       [ 0.5529346 ,  0.56283504, -0.11283875, -0.12136915],\n",
      "       [ 0.5601519 ,  0.28764194,  0.07500845, -0.39125633]],\n",
      "      dtype=float32), array([0., 0., 0., 0.], dtype=float32), array([[-0.52353966],\n",
      "       [ 0.51822376],\n",
      "       [ 0.06216574],\n",
      "       [ 0.45625567]], dtype=float32), array([0.], dtype=float32)] [array([[ 0.45562774,  0.2987647 ,  0.40296167, -0.20802876],\n",
      "       [-0.61031616, -0.07742286,  0.5602358 ,  0.31132007],\n",
      "       [ 0.19185197,  0.17404205,  0.12312204,  0.5019476 ],\n",
      "       [ 0.00372142,  0.0057199 ,  0.38532692,  0.22238678],\n",
      "       [ 0.3293773 ,  0.35254157,  0.272075  , -0.37521738],\n",
      "       [-0.42373848,  0.59413344,  0.5464502 , -0.55988073],\n",
      "       [-0.48330176, -0.45354152, -0.18322289,  0.56275386],\n",
      "       [-0.33403766, -0.1645872 ,  0.37583774, -0.51590145],\n",
      "       [-0.2561581 ,  0.3890038 ,  0.5011069 ,  0.32292235],\n",
      "       [ 0.5617145 , -0.05228484,  0.5264433 , -0.11275756],\n",
      "       [ 0.5529346 ,  0.56283504, -0.11283875, -0.12136915],\n",
      "       [ 0.5601519 ,  0.28764194,  0.07500845, -0.39125633]],\n",
      "      dtype=float32), array([0., 0., 0., 0.], dtype=float32), array([[-0.52353966],\n",
      "       [ 0.51822376],\n",
      "       [ 0.06216574],\n",
      "       [ 0.45625567]], dtype=float32), array([0.], dtype=float32)]\n",
      "[array([[ 0.45562774,  0.2987647 ,  0.40296167, -0.20802876],\n",
      "       [-0.61031616, -0.07742286,  0.5602358 ,  0.31132007],\n",
      "       [ 0.19185197,  0.17404205,  0.12312204,  0.5019476 ],\n",
      "       [ 0.00372142,  0.0057199 ,  0.38532692,  0.22238678],\n",
      "       [ 0.3293773 ,  0.35254157,  0.272075  , -0.37521738],\n",
      "       [-0.42373848,  0.59413344,  0.5464502 , -0.55988073],\n",
      "       [-0.48330176, -0.45354152, -0.18322289,  0.56275386],\n",
      "       [-0.33403766, -0.1645872 ,  0.37583774, -0.51590145],\n",
      "       [-0.2561581 ,  0.3890038 ,  0.5011069 ,  0.32292235],\n",
      "       [ 0.5617145 , -0.05228484,  0.5264433 , -0.11275756],\n",
      "       [ 0.5529346 ,  0.56283504, -0.11283875, -0.12136915],\n",
      "       [ 0.5601519 ,  0.28764194,  0.07500845, -0.39125633]],\n",
      "      dtype=float32), array([0., 0., 0., 0.], dtype=float32), array([[-0.52353966],\n",
      "       [ 0.51822376],\n",
      "       [ 0.06216574],\n",
      "       [ 0.45625567]], dtype=float32), array([0.], dtype=float32)] [array([[ 0.45562774,  0.2987647 ,  0.40296167, -0.20802876],\n",
      "       [-0.61031616, -0.07742286,  0.5602358 ,  0.31132007],\n",
      "       [ 0.19185197,  0.17404205,  0.12312204,  0.5019476 ],\n",
      "       [ 0.00372142,  0.0057199 ,  0.38532692,  0.22238678],\n",
      "       [ 0.3293773 ,  0.35254157,  0.272075  , -0.37521738],\n",
      "       [-0.42373848,  0.59413344,  0.5464502 , -0.55988073],\n",
      "       [-0.48330176, -0.45354152, -0.18322289,  0.56275386],\n",
      "       [-0.33403766, -0.1645872 ,  0.37583774, -0.51590145],\n",
      "       [-0.2561581 ,  0.3890038 ,  0.5011069 ,  0.32292235],\n",
      "       [ 0.5617145 , -0.05228484,  0.5264433 , -0.11275756],\n",
      "       [ 0.5529346 ,  0.56283504, -0.11283875, -0.12136915],\n",
      "       [ 0.5601519 ,  0.28764194,  0.07500845, -0.39125633]],\n",
      "      dtype=float32), array([0., 0., 0., 0.], dtype=float32), array([[-0.52353966],\n",
      "       [ 0.51822376],\n",
      "       [ 0.06216574],\n",
      "       [ 0.45625567]], dtype=float32), array([0.], dtype=float32)]\n",
      "[array([[ 0.45562774,  0.2987647 ,  0.40296167, -0.20802876],\n",
      "       [-0.61031616, -0.07742286,  0.5602358 ,  0.31132007],\n",
      "       [ 0.19185197,  0.17404205,  0.12312204,  0.5019476 ],\n",
      "       [ 0.00372142,  0.0057199 ,  0.38532692,  0.22238678],\n",
      "       [ 0.3293773 ,  0.35254157,  0.272075  , -0.37521738],\n",
      "       [-0.42373848,  0.59413344,  0.5464502 , -0.55988073],\n",
      "       [-0.48330176, -0.45354152, -0.18322289,  0.56275386],\n",
      "       [-0.33403766, -0.1645872 ,  0.37583774, -0.51590145],\n",
      "       [-0.2561581 ,  0.3890038 ,  0.5011069 ,  0.32292235],\n",
      "       [ 0.5617145 , -0.05228484,  0.5264433 , -0.11275756],\n",
      "       [ 0.5529346 ,  0.56283504, -0.11283875, -0.12136915],\n",
      "       [ 0.5601519 ,  0.28764194,  0.07500845, -0.39125633]],\n",
      "      dtype=float32), array([0., 0., 0., 0.], dtype=float32), array([[-0.52353966],\n",
      "       [ 0.51822376],\n",
      "       [ 0.06216574],\n",
      "       [ 0.45625567]], dtype=float32), array([0.], dtype=float32)] [array([[ 0.45562774,  0.2987647 ,  0.40296167, -0.20802876],\n",
      "       [-0.61031616, -0.07742286,  0.5602358 ,  0.31132007],\n",
      "       [ 0.19185197,  0.17404205,  0.12312204,  0.5019476 ],\n",
      "       [ 0.00372142,  0.0057199 ,  0.38532692,  0.22238678],\n",
      "       [ 0.3293773 ,  0.35254157,  0.272075  , -0.37521738],\n",
      "       [-0.42373848,  0.59413344,  0.5464502 , -0.55988073],\n",
      "       [-0.48330176, -0.45354152, -0.18322289,  0.56275386],\n",
      "       [-0.33403766, -0.1645872 ,  0.37583774, -0.51590145],\n",
      "       [-0.2561581 ,  0.3890038 ,  0.5011069 ,  0.32292235],\n",
      "       [ 0.5617145 , -0.05228484,  0.5264433 , -0.11275756],\n",
      "       [ 0.5529346 ,  0.56283504, -0.11283875, -0.12136915],\n",
      "       [ 0.5601519 ,  0.28764194,  0.07500845, -0.39125633]],\n",
      "      dtype=float32), array([0., 0., 0., 0.], dtype=float32), array([[-0.52353966],\n",
      "       [ 0.51822376],\n",
      "       [ 0.06216574],\n",
      "       [ 0.45625567]], dtype=float32), array([0.], dtype=float32)]\n",
      "[array([[ 0.45562774,  0.2987647 ,  0.40296167, -0.20802876],\n",
      "       [-0.61031616, -0.07742286,  0.5602358 ,  0.31132007],\n",
      "       [ 0.19185197,  0.17404205,  0.12312204,  0.5019476 ],\n",
      "       [ 0.00372142,  0.0057199 ,  0.38532692,  0.22238678],\n",
      "       [ 0.3293773 ,  0.35254157,  0.272075  , -0.37521738],\n",
      "       [-0.42373848,  0.59413344,  0.5464502 , -0.55988073],\n",
      "       [-0.48330176, -0.45354152, -0.18322289,  0.56275386],\n",
      "       [-0.33403766, -0.1645872 ,  0.37583774, -0.51590145],\n",
      "       [-0.2561581 ,  0.3890038 ,  0.5011069 ,  0.32292235],\n",
      "       [ 0.5617145 , -0.05228484,  0.5264433 , -0.11275756],\n",
      "       [ 0.5529346 ,  0.56283504, -0.11283875, -0.12136915],\n",
      "       [ 0.5601519 ,  0.28764194,  0.07500845, -0.39125633]],\n",
      "      dtype=float32), array([0., 0., 0., 0.], dtype=float32), array([[-0.52353966],\n",
      "       [ 0.51822376],\n",
      "       [ 0.06216574],\n",
      "       [ 0.45625567]], dtype=float32), array([0.], dtype=float32)] [array([[ 0.45562774,  0.2987647 ,  0.40296167, -0.20802876],\n",
      "       [-0.61031616, -0.07742286,  0.5602358 ,  0.31132007],\n",
      "       [ 0.19185197,  0.17404205,  0.12312204,  0.5019476 ],\n",
      "       [ 0.00372142,  0.0057199 ,  0.38532692,  0.22238678],\n",
      "       [ 0.3293773 ,  0.35254157,  0.272075  , -0.37521738],\n",
      "       [-0.42373848,  0.59413344,  0.5464502 , -0.55988073],\n",
      "       [-0.48330176, -0.45354152, -0.18322289,  0.56275386],\n",
      "       [-0.33403766, -0.1645872 ,  0.37583774, -0.51590145],\n",
      "       [-0.2561581 ,  0.3890038 ,  0.5011069 ,  0.32292235],\n",
      "       [ 0.5617145 , -0.05228484,  0.5264433 , -0.11275756],\n",
      "       [ 0.5529346 ,  0.56283504, -0.11283875, -0.12136915],\n",
      "       [ 0.5601519 ,  0.28764194,  0.07500845, -0.39125633]],\n",
      "      dtype=float32), array([0., 0., 0., 0.], dtype=float32), array([[-0.52353966],\n",
      "       [ 0.51822376],\n",
      "       [ 0.06216574],\n",
      "       [ 0.45625567]], dtype=float32), array([0.], dtype=float32)]\n",
      "[array([[ 0.45562774,  0.2987647 ,  0.40296167, -0.20802876],\n",
      "       [-0.61031616, -0.07742286,  0.5602358 ,  0.31132007],\n",
      "       [ 0.19185197,  0.17404205,  0.12312204,  0.5019476 ],\n",
      "       [ 0.00372142,  0.0057199 ,  0.38532692,  0.22238678],\n",
      "       [ 0.3293773 ,  0.35254157,  0.272075  , -0.37521738],\n",
      "       [-0.42373848,  0.59413344,  0.5464502 , -0.55988073],\n",
      "       [-0.48330176, -0.45354152, -0.18322289,  0.56275386],\n",
      "       [-0.33403766, -0.1645872 ,  0.37583774, -0.51590145],\n",
      "       [-0.2561581 ,  0.3890038 ,  0.5011069 ,  0.32292235],\n",
      "       [ 0.5617145 , -0.05228484,  0.5264433 , -0.11275756],\n",
      "       [ 0.5529346 ,  0.56283504, -0.11283875, -0.12136915],\n",
      "       [ 0.5601519 ,  0.28764194,  0.07500845, -0.39125633]],\n",
      "      dtype=float32), array([0., 0., 0., 0.], dtype=float32), array([[-0.52353966],\n",
      "       [ 0.51822376],\n",
      "       [ 0.06216574],\n",
      "       [ 0.45625567]], dtype=float32), array([0.], dtype=float32)] [array([[ 0.45562774,  0.2987647 ,  0.40296167, -0.20802876],\n",
      "       [-0.61031616, -0.07742286,  0.5602358 ,  0.31132007],\n",
      "       [ 0.19185197,  0.17404205,  0.12312204,  0.5019476 ],\n",
      "       [ 0.00372142,  0.0057199 ,  0.38532692,  0.22238678],\n",
      "       [ 0.3293773 ,  0.35254157,  0.272075  , -0.37521738],\n",
      "       [-0.42373848,  0.59413344,  0.5464502 , -0.55988073],\n",
      "       [-0.48330176, -0.45354152, -0.18322289,  0.56275386],\n",
      "       [-0.33403766, -0.1645872 ,  0.37583774, -0.51590145],\n",
      "       [-0.2561581 ,  0.3890038 ,  0.5011069 ,  0.32292235],\n",
      "       [ 0.5617145 , -0.05228484,  0.5264433 , -0.11275756],\n",
      "       [ 0.5529346 ,  0.56283504, -0.11283875, -0.12136915],\n",
      "       [ 0.5601519 ,  0.28764194,  0.07500845, -0.39125633]],\n",
      "      dtype=float32), array([0., 0., 0., 0.], dtype=float32), array([[-0.52353966],\n",
      "       [ 0.51822376],\n",
      "       [ 0.06216574],\n",
      "       [ 0.45625567]], dtype=float32), array([0.], dtype=float32)]\n",
      "[array([[ 0.45562774,  0.2987647 ,  0.40296167, -0.20802876],\n",
      "       [-0.61031616, -0.07742286,  0.5602358 ,  0.31132007],\n",
      "       [ 0.19185197,  0.17404205,  0.12312204,  0.5019476 ],\n",
      "       [ 0.00372142,  0.0057199 ,  0.38532692,  0.22238678],\n",
      "       [ 0.3293773 ,  0.35254157,  0.272075  , -0.37521738],\n",
      "       [-0.42373848,  0.59413344,  0.5464502 , -0.55988073],\n",
      "       [-0.48330176, -0.45354152, -0.18322289,  0.56275386],\n",
      "       [-0.33403766, -0.1645872 ,  0.37583774, -0.51590145],\n",
      "       [-0.2561581 ,  0.3890038 ,  0.5011069 ,  0.32292235],\n",
      "       [ 0.5617145 , -0.05228484,  0.5264433 , -0.11275756],\n",
      "       [ 0.5529346 ,  0.56283504, -0.11283875, -0.12136915],\n",
      "       [ 0.5601519 ,  0.28764194,  0.07500845, -0.39125633]],\n",
      "      dtype=float32), array([0., 0., 0., 0.], dtype=float32), array([[-0.52353966],\n",
      "       [ 0.51822376],\n",
      "       [ 0.06216574],\n",
      "       [ 0.45625567]], dtype=float32), array([0.], dtype=float32)] [array([[ 0.45562774,  0.2987647 ,  0.40296167, -0.20802876],\n",
      "       [-0.61031616, -0.07742286,  0.5602358 ,  0.31132007],\n",
      "       [ 0.19185197,  0.17404205,  0.12312204,  0.5019476 ],\n",
      "       [ 0.00372142,  0.0057199 ,  0.38532692,  0.22238678],\n",
      "       [ 0.3293773 ,  0.35254157,  0.272075  , -0.37521738],\n",
      "       [-0.42373848,  0.59413344,  0.5464502 , -0.55988073],\n",
      "       [-0.48330176, -0.45354152, -0.18322289,  0.56275386],\n",
      "       [-0.33403766, -0.1645872 ,  0.37583774, -0.51590145],\n",
      "       [-0.2561581 ,  0.3890038 ,  0.5011069 ,  0.32292235],\n",
      "       [ 0.5617145 , -0.05228484,  0.5264433 , -0.11275756],\n",
      "       [ 0.5529346 ,  0.56283504, -0.11283875, -0.12136915],\n",
      "       [ 0.5601519 ,  0.28764194,  0.07500845, -0.39125633]],\n",
      "      dtype=float32), array([0., 0., 0., 0.], dtype=float32), array([[-0.52353966],\n",
      "       [ 0.51822376],\n",
      "       [ 0.06216574],\n",
      "       [ 0.45625567]], dtype=float32), array([0.], dtype=float32)]\n",
      "[array([[ 0.45562774,  0.2987647 ,  0.40296167, -0.20802876],\n",
      "       [-0.61031616, -0.07742286,  0.5602358 ,  0.31132007],\n",
      "       [ 0.19185197,  0.17404205,  0.12312204,  0.5019476 ],\n",
      "       [ 0.00372142,  0.0057199 ,  0.38532692,  0.22238678],\n",
      "       [ 0.3293773 ,  0.35254157,  0.272075  , -0.37521738],\n",
      "       [-0.42373848,  0.59413344,  0.5464502 , -0.55988073],\n",
      "       [-0.48330176, -0.45354152, -0.18322289,  0.56275386],\n",
      "       [-0.33403766, -0.1645872 ,  0.37583774, -0.51590145],\n",
      "       [-0.2561581 ,  0.3890038 ,  0.5011069 ,  0.32292235],\n",
      "       [ 0.5617145 , -0.05228484,  0.5264433 , -0.11275756],\n",
      "       [ 0.5529346 ,  0.56283504, -0.11283875, -0.12136915],\n",
      "       [ 0.5601519 ,  0.28764194,  0.07500845, -0.39125633]],\n",
      "      dtype=float32), array([0., 0., 0., 0.], dtype=float32), array([[-0.52353966],\n",
      "       [ 0.51822376],\n",
      "       [ 0.06216574],\n",
      "       [ 0.45625567]], dtype=float32), array([0.], dtype=float32)] [array([[ 0.45562774,  0.2987647 ,  0.40296167, -0.20802876],\n",
      "       [-0.61031616, -0.07742286,  0.5602358 ,  0.31132007],\n",
      "       [ 0.19185197,  0.17404205,  0.12312204,  0.5019476 ],\n",
      "       [ 0.00372142,  0.0057199 ,  0.38532692,  0.22238678],\n",
      "       [ 0.3293773 ,  0.35254157,  0.272075  , -0.37521738],\n",
      "       [-0.42373848,  0.59413344,  0.5464502 , -0.55988073],\n",
      "       [-0.48330176, -0.45354152, -0.18322289,  0.56275386],\n",
      "       [-0.33403766, -0.1645872 ,  0.37583774, -0.51590145],\n",
      "       [-0.2561581 ,  0.3890038 ,  0.5011069 ,  0.32292235],\n",
      "       [ 0.5617145 , -0.05228484,  0.5264433 , -0.11275756],\n",
      "       [ 0.5529346 ,  0.56283504, -0.11283875, -0.12136915],\n",
      "       [ 0.5601519 ,  0.28764194,  0.07500845, -0.39125633]],\n",
      "      dtype=float32), array([0., 0., 0., 0.], dtype=float32), array([[-0.52353966],\n",
      "       [ 0.51822376],\n",
      "       [ 0.06216574],\n",
      "       [ 0.45625567]], dtype=float32), array([0.], dtype=float32)]\n",
      "[array([[ 0.45562774,  0.2987647 ,  0.40296167, -0.20802876],\n",
      "       [-0.61031616, -0.07742286,  0.5602358 ,  0.31132007],\n",
      "       [ 0.19185197,  0.17404205,  0.12312204,  0.5019476 ],\n",
      "       [ 0.00372142,  0.0057199 ,  0.38532692,  0.22238678],\n",
      "       [ 0.3293773 ,  0.35254157,  0.272075  , -0.37521738],\n",
      "       [-0.42373848,  0.59413344,  0.5464502 , -0.55988073],\n",
      "       [-0.48330176, -0.45354152, -0.18322289,  0.56275386],\n",
      "       [-0.33403766, -0.1645872 ,  0.37583774, -0.51590145],\n",
      "       [-0.2561581 ,  0.3890038 ,  0.5011069 ,  0.32292235],\n",
      "       [ 0.5617145 , -0.05228484,  0.5264433 , -0.11275756],\n",
      "       [ 0.5529346 ,  0.56283504, -0.11283875, -0.12136915],\n",
      "       [ 0.5601519 ,  0.28764194,  0.07500845, -0.39125633]],\n",
      "      dtype=float32), array([0., 0., 0., 0.], dtype=float32), array([[-0.52353966],\n",
      "       [ 0.51822376],\n",
      "       [ 0.06216574],\n",
      "       [ 0.45625567]], dtype=float32), array([0.], dtype=float32)] [array([[ 0.45562774,  0.2987647 ,  0.40296167, -0.20802876],\n",
      "       [-0.61031616, -0.07742286,  0.5602358 ,  0.31132007],\n",
      "       [ 0.19185197,  0.17404205,  0.12312204,  0.5019476 ],\n",
      "       [ 0.00372142,  0.0057199 ,  0.38532692,  0.22238678],\n",
      "       [ 0.3293773 ,  0.35254157,  0.272075  , -0.37521738],\n",
      "       [-0.42373848,  0.59413344,  0.5464502 , -0.55988073],\n",
      "       [-0.48330176, -0.45354152, -0.18322289,  0.56275386],\n",
      "       [-0.33403766, -0.1645872 ,  0.37583774, -0.51590145],\n",
      "       [-0.2561581 ,  0.3890038 ,  0.5011069 ,  0.32292235],\n",
      "       [ 0.5617145 , -0.05228484,  0.5264433 , -0.11275756],\n",
      "       [ 0.5529346 ,  0.56283504, -0.11283875, -0.12136915],\n",
      "       [ 0.5601519 ,  0.28764194,  0.07500845, -0.39125633]],\n",
      "      dtype=float32), array([0., 0., 0., 0.], dtype=float32), array([[-0.52353966],\n",
      "       [ 0.51822376],\n",
      "       [ 0.06216574],\n",
      "       [ 0.45625567]], dtype=float32), array([0.], dtype=float32)]\n",
      "[array([[ 0.45562774,  0.2987647 ,  0.40296167, -0.20802876],\n",
      "       [-0.61031616, -0.07742286,  0.5602358 ,  0.31132007],\n",
      "       [ 0.19185197,  0.17404205,  0.12312204,  0.5019476 ],\n",
      "       [ 0.00372142,  0.0057199 ,  0.38532692,  0.22238678],\n",
      "       [ 0.3293773 ,  0.35254157,  0.272075  , -0.37521738],\n",
      "       [-0.42373848,  0.59413344,  0.5464502 , -0.55988073],\n",
      "       [-0.48330176, -0.45354152, -0.18322289,  0.56275386],\n",
      "       [-0.33403766, -0.1645872 ,  0.37583774, -0.51590145],\n",
      "       [-0.2561581 ,  0.3890038 ,  0.5011069 ,  0.32292235],\n",
      "       [ 0.5617145 , -0.05228484,  0.5264433 , -0.11275756],\n",
      "       [ 0.5529346 ,  0.56283504, -0.11283875, -0.12136915],\n",
      "       [ 0.5601519 ,  0.28764194,  0.07500845, -0.39125633]],\n",
      "      dtype=float32), array([0., 0., 0., 0.], dtype=float32), array([[-0.52353966],\n",
      "       [ 0.51822376],\n",
      "       [ 0.06216574],\n",
      "       [ 0.45625567]], dtype=float32), array([0.], dtype=float32)] [array([[ 0.45562774,  0.2987647 ,  0.40296167, -0.20802876],\n",
      "       [-0.61031616, -0.07742286,  0.5602358 ,  0.31132007],\n",
      "       [ 0.19185197,  0.17404205,  0.12312204,  0.5019476 ],\n",
      "       [ 0.00372142,  0.0057199 ,  0.38532692,  0.22238678],\n",
      "       [ 0.3293773 ,  0.35254157,  0.272075  , -0.37521738],\n",
      "       [-0.42373848,  0.59413344,  0.5464502 , -0.55988073],\n",
      "       [-0.48330176, -0.45354152, -0.18322289,  0.56275386],\n",
      "       [-0.33403766, -0.1645872 ,  0.37583774, -0.51590145],\n",
      "       [-0.2561581 ,  0.3890038 ,  0.5011069 ,  0.32292235],\n",
      "       [ 0.5617145 , -0.05228484,  0.5264433 , -0.11275756],\n",
      "       [ 0.5529346 ,  0.56283504, -0.11283875, -0.12136915],\n",
      "       [ 0.5601519 ,  0.28764194,  0.07500845, -0.39125633]],\n",
      "      dtype=float32), array([0., 0., 0., 0.], dtype=float32), array([[-0.52353966],\n",
      "       [ 0.51822376],\n",
      "       [ 0.06216574],\n",
      "       [ 0.45625567]], dtype=float32), array([0.], dtype=float32)]\n",
      "[array([[ 0.45562774,  0.2987647 ,  0.40296167, -0.20802876],\n",
      "       [-0.61031616, -0.07742286,  0.5602358 ,  0.31132007],\n",
      "       [ 0.19185197,  0.17404205,  0.12312204,  0.5019476 ],\n",
      "       [ 0.00372142,  0.0057199 ,  0.38532692,  0.22238678],\n",
      "       [ 0.3293773 ,  0.35254157,  0.272075  , -0.37521738],\n",
      "       [-0.42373848,  0.59413344,  0.5464502 , -0.55988073],\n",
      "       [-0.48330176, -0.45354152, -0.18322289,  0.56275386],\n",
      "       [-0.33403766, -0.1645872 ,  0.37583774, -0.51590145],\n",
      "       [-0.2561581 ,  0.3890038 ,  0.5011069 ,  0.32292235],\n",
      "       [ 0.5617145 , -0.05228484,  0.5264433 , -0.11275756],\n",
      "       [ 0.5529346 ,  0.56283504, -0.11283875, -0.12136915],\n",
      "       [ 0.5601519 ,  0.28764194,  0.07500845, -0.39125633]],\n",
      "      dtype=float32), array([0., 0., 0., 0.], dtype=float32), array([[-0.52353966],\n",
      "       [ 0.51822376],\n",
      "       [ 0.06216574],\n",
      "       [ 0.45625567]], dtype=float32), array([0.], dtype=float32)] [array([[ 0.45562774,  0.2987647 ,  0.40296167, -0.20802876],\n",
      "       [-0.61031616, -0.07742286,  0.5602358 ,  0.31132007],\n",
      "       [ 0.19185197,  0.17404205,  0.12312204,  0.5019476 ],\n",
      "       [ 0.00372142,  0.0057199 ,  0.38532692,  0.22238678],\n",
      "       [ 0.3293773 ,  0.35254157,  0.272075  , -0.37521738],\n",
      "       [-0.42373848,  0.59413344,  0.5464502 , -0.55988073],\n",
      "       [-0.48330176, -0.45354152, -0.18322289,  0.56275386],\n",
      "       [-0.33403766, -0.1645872 ,  0.37583774, -0.51590145],\n",
      "       [-0.2561581 ,  0.3890038 ,  0.5011069 ,  0.32292235],\n",
      "       [ 0.5617145 , -0.05228484,  0.5264433 , -0.11275756],\n",
      "       [ 0.5529346 ,  0.56283504, -0.11283875, -0.12136915],\n",
      "       [ 0.5601519 ,  0.28764194,  0.07500845, -0.39125633]],\n",
      "      dtype=float32), array([0., 0., 0., 0.], dtype=float32), array([[-0.52353966],\n",
      "       [ 0.51822376],\n",
      "       [ 0.06216574],\n",
      "       [ 0.45625567]], dtype=float32), array([0.], dtype=float32)]\n",
      "[array([[ 0.45562774,  0.2987647 ,  0.40296167, -0.20802876],\n",
      "       [-0.61031616, -0.07742286,  0.5602358 ,  0.31132007],\n",
      "       [ 0.19185197,  0.17404205,  0.12312204,  0.5019476 ],\n",
      "       [ 0.00372142,  0.0057199 ,  0.38532692,  0.22238678],\n",
      "       [ 0.3293773 ,  0.35254157,  0.272075  , -0.37521738],\n",
      "       [-0.42373848,  0.59413344,  0.5464502 , -0.55988073],\n",
      "       [-0.48330176, -0.45354152, -0.18322289,  0.56275386],\n",
      "       [-0.33403766, -0.1645872 ,  0.37583774, -0.51590145],\n",
      "       [-0.2561581 ,  0.3890038 ,  0.5011069 ,  0.32292235],\n",
      "       [ 0.5617145 , -0.05228484,  0.5264433 , -0.11275756],\n",
      "       [ 0.5529346 ,  0.56283504, -0.11283875, -0.12136915],\n",
      "       [ 0.5601519 ,  0.28764194,  0.07500845, -0.39125633]],\n",
      "      dtype=float32), array([0., 0., 0., 0.], dtype=float32), array([[-0.52353966],\n",
      "       [ 0.51822376],\n",
      "       [ 0.06216574],\n",
      "       [ 0.45625567]], dtype=float32), array([0.], dtype=float32)] [array([[ 0.45562774,  0.2987647 ,  0.40296167, -0.20802876],\n",
      "       [-0.61031616, -0.07742286,  0.5602358 ,  0.31132007],\n",
      "       [ 0.19185197,  0.17404205,  0.12312204,  0.5019476 ],\n",
      "       [ 0.00372142,  0.0057199 ,  0.38532692,  0.22238678],\n",
      "       [ 0.3293773 ,  0.35254157,  0.272075  , -0.37521738],\n",
      "       [-0.42373848,  0.59413344,  0.5464502 , -0.55988073],\n",
      "       [-0.48330176, -0.45354152, -0.18322289,  0.56275386],\n",
      "       [-0.33403766, -0.1645872 ,  0.37583774, -0.51590145],\n",
      "       [-0.2561581 ,  0.3890038 ,  0.5011069 ,  0.32292235],\n",
      "       [ 0.5617145 , -0.05228484,  0.5264433 , -0.11275756],\n",
      "       [ 0.5529346 ,  0.56283504, -0.11283875, -0.12136915],\n",
      "       [ 0.5601519 ,  0.28764194,  0.07500845, -0.39125633]],\n",
      "      dtype=float32), array([0., 0., 0., 0.], dtype=float32), array([[-0.52353966],\n",
      "       [ 0.51822376],\n",
      "       [ 0.06216574],\n",
      "       [ 0.45625567]], dtype=float32), array([0.], dtype=float32)]\n",
      "[array([[ 0.45562774,  0.2987647 ,  0.40296167, -0.20802876],\n",
      "       [-0.61031616, -0.07742286,  0.5602358 ,  0.31132007],\n",
      "       [ 0.19185197,  0.17404205,  0.12312204,  0.5019476 ],\n",
      "       [ 0.00372142,  0.0057199 ,  0.38532692,  0.22238678],\n",
      "       [ 0.3293773 ,  0.35254157,  0.272075  , -0.37521738],\n",
      "       [-0.42373848,  0.59413344,  0.5464502 , -0.55988073],\n",
      "       [-0.48330176, -0.45354152, -0.18322289,  0.56275386],\n",
      "       [-0.33403766, -0.1645872 ,  0.37583774, -0.51590145],\n",
      "       [-0.2561581 ,  0.3890038 ,  0.5011069 ,  0.32292235],\n",
      "       [ 0.5617145 , -0.05228484,  0.5264433 , -0.11275756],\n",
      "       [ 0.5529346 ,  0.56283504, -0.11283875, -0.12136915],\n",
      "       [ 0.5601519 ,  0.28764194,  0.07500845, -0.39125633]],\n",
      "      dtype=float32), array([0., 0., 0., 0.], dtype=float32), array([[-0.52353966],\n",
      "       [ 0.51822376],\n",
      "       [ 0.06216574],\n",
      "       [ 0.45625567]], dtype=float32), array([0.], dtype=float32)] [array([[ 0.45562774,  0.2987647 ,  0.40296167, -0.20802876],\n",
      "       [-0.61031616, -0.07742286,  0.5602358 ,  0.31132007],\n",
      "       [ 0.19185197,  0.17404205,  0.12312204,  0.5019476 ],\n",
      "       [ 0.00372142,  0.0057199 ,  0.38532692,  0.22238678],\n",
      "       [ 0.3293773 ,  0.35254157,  0.272075  , -0.37521738],\n",
      "       [-0.42373848,  0.59413344,  0.5464502 , -0.55988073],\n",
      "       [-0.48330176, -0.45354152, -0.18322289,  0.56275386],\n",
      "       [-0.33403766, -0.1645872 ,  0.37583774, -0.51590145],\n",
      "       [-0.2561581 ,  0.3890038 ,  0.5011069 ,  0.32292235],\n",
      "       [ 0.5617145 , -0.05228484,  0.5264433 , -0.11275756],\n",
      "       [ 0.5529346 ,  0.56283504, -0.11283875, -0.12136915],\n",
      "       [ 0.5601519 ,  0.28764194,  0.07500845, -0.39125633]],\n",
      "      dtype=float32), array([0., 0., 0., 0.], dtype=float32), array([[-0.52353966],\n",
      "       [ 0.51822376],\n",
      "       [ 0.06216574],\n",
      "       [ 0.45625567]], dtype=float32), array([0.], dtype=float32)]\n",
      "[array([[ 0.45562774,  0.2987647 ,  0.40296167, -0.20802876],\n",
      "       [-0.61031616, -0.07742286,  0.5602358 ,  0.31132007],\n",
      "       [ 0.19185197,  0.17404205,  0.12312204,  0.5019476 ],\n",
      "       [ 0.00372142,  0.0057199 ,  0.38532692,  0.22238678],\n",
      "       [ 0.3293773 ,  0.35254157,  0.272075  , -0.37521738],\n",
      "       [-0.42373848,  0.59413344,  0.5464502 , -0.55988073],\n",
      "       [-0.48330176, -0.45354152, -0.18322289,  0.56275386],\n",
      "       [-0.33403766, -0.1645872 ,  0.37583774, -0.51590145],\n",
      "       [-0.2561581 ,  0.3890038 ,  0.5011069 ,  0.32292235],\n",
      "       [ 0.5617145 , -0.05228484,  0.5264433 , -0.11275756],\n",
      "       [ 0.5529346 ,  0.56283504, -0.11283875, -0.12136915],\n",
      "       [ 0.5601519 ,  0.28764194,  0.07500845, -0.39125633]],\n",
      "      dtype=float32), array([0., 0., 0., 0.], dtype=float32), array([[-0.52353966],\n",
      "       [ 0.51822376],\n",
      "       [ 0.06216574],\n",
      "       [ 0.45625567]], dtype=float32), array([0.], dtype=float32)] [array([[ 0.45562774,  0.2987647 ,  0.40296167, -0.20802876],\n",
      "       [-0.61031616, -0.07742286,  0.5602358 ,  0.31132007],\n",
      "       [ 0.19185197,  0.17404205,  0.12312204,  0.5019476 ],\n",
      "       [ 0.00372142,  0.0057199 ,  0.38532692,  0.22238678],\n",
      "       [ 0.3293773 ,  0.35254157,  0.272075  , -0.37521738],\n",
      "       [-0.42373848,  0.59413344,  0.5464502 , -0.55988073],\n",
      "       [-0.48330176, -0.45354152, -0.18322289,  0.56275386],\n",
      "       [-0.33403766, -0.1645872 ,  0.37583774, -0.51590145],\n",
      "       [-0.2561581 ,  0.3890038 ,  0.5011069 ,  0.32292235],\n",
      "       [ 0.5617145 , -0.05228484,  0.5264433 , -0.11275756],\n",
      "       [ 0.5529346 ,  0.56283504, -0.11283875, -0.12136915],\n",
      "       [ 0.5601519 ,  0.28764194,  0.07500845, -0.39125633]],\n",
      "      dtype=float32), array([0., 0., 0., 0.], dtype=float32), array([[-0.52353966],\n",
      "       [ 0.51822376],\n",
      "       [ 0.06216574],\n",
      "       [ 0.45625567]], dtype=float32), array([0.], dtype=float32)]\n",
      "[array([[ 0.45562774,  0.2987647 ,  0.40296167, -0.20802876],\n",
      "       [-0.61031616, -0.07742286,  0.5602358 ,  0.31132007],\n",
      "       [ 0.19185197,  0.17404205,  0.12312204,  0.5019476 ],\n",
      "       [ 0.00372142,  0.0057199 ,  0.38532692,  0.22238678],\n",
      "       [ 0.3293773 ,  0.35254157,  0.272075  , -0.37521738],\n",
      "       [-0.42373848,  0.59413344,  0.5464502 , -0.55988073],\n",
      "       [-0.48330176, -0.45354152, -0.18322289,  0.56275386],\n",
      "       [-0.33403766, -0.1645872 ,  0.37583774, -0.51590145],\n",
      "       [-0.2561581 ,  0.3890038 ,  0.5011069 ,  0.32292235],\n",
      "       [ 0.5617145 , -0.05228484,  0.5264433 , -0.11275756],\n",
      "       [ 0.5529346 ,  0.56283504, -0.11283875, -0.12136915],\n",
      "       [ 0.5601519 ,  0.28764194,  0.07500845, -0.39125633]],\n",
      "      dtype=float32), array([0., 0., 0., 0.], dtype=float32), array([[-0.52353966],\n",
      "       [ 0.51822376],\n",
      "       [ 0.06216574],\n",
      "       [ 0.45625567]], dtype=float32), array([0.], dtype=float32)] [array([[ 0.45562774,  0.2987647 ,  0.40296167, -0.20802876],\n",
      "       [-0.61031616, -0.07742286,  0.5602358 ,  0.31132007],\n",
      "       [ 0.19185197,  0.17404205,  0.12312204,  0.5019476 ],\n",
      "       [ 0.00372142,  0.0057199 ,  0.38532692,  0.22238678],\n",
      "       [ 0.3293773 ,  0.35254157,  0.272075  , -0.37521738],\n",
      "       [-0.42373848,  0.59413344,  0.5464502 , -0.55988073],\n",
      "       [-0.48330176, -0.45354152, -0.18322289,  0.56275386],\n",
      "       [-0.33403766, -0.1645872 ,  0.37583774, -0.51590145],\n",
      "       [-0.2561581 ,  0.3890038 ,  0.5011069 ,  0.32292235],\n",
      "       [ 0.5617145 , -0.05228484,  0.5264433 , -0.11275756],\n",
      "       [ 0.5529346 ,  0.56283504, -0.11283875, -0.12136915],\n",
      "       [ 0.5601519 ,  0.28764194,  0.07500845, -0.39125633]],\n",
      "      dtype=float32), array([0., 0., 0., 0.], dtype=float32), array([[-0.52353966],\n",
      "       [ 0.51822376],\n",
      "       [ 0.06216574],\n",
      "       [ 0.45625567]], dtype=float32), array([0.], dtype=float32)]\n",
      "[array([[ 0.45562774,  0.2987647 ,  0.40296167, -0.20802876],\n",
      "       [-0.61031616, -0.07742286,  0.5602358 ,  0.31132007],\n",
      "       [ 0.19185197,  0.17404205,  0.12312204,  0.5019476 ],\n",
      "       [ 0.00372142,  0.0057199 ,  0.38532692,  0.22238678],\n",
      "       [ 0.3293773 ,  0.35254157,  0.272075  , -0.37521738],\n",
      "       [-0.42373848,  0.59413344,  0.5464502 , -0.55988073],\n",
      "       [-0.48330176, -0.45354152, -0.18322289,  0.56275386],\n",
      "       [-0.33403766, -0.1645872 ,  0.37583774, -0.51590145],\n",
      "       [-0.2561581 ,  0.3890038 ,  0.5011069 ,  0.32292235],\n",
      "       [ 0.5617145 , -0.05228484,  0.5264433 , -0.11275756],\n",
      "       [ 0.5529346 ,  0.56283504, -0.11283875, -0.12136915],\n",
      "       [ 0.5601519 ,  0.28764194,  0.07500845, -0.39125633]],\n",
      "      dtype=float32), array([0., 0., 0., 0.], dtype=float32), array([[-0.52353966],\n",
      "       [ 0.51822376],\n",
      "       [ 0.06216574],\n",
      "       [ 0.45625567]], dtype=float32), array([0.], dtype=float32)] [array([[ 0.45562774,  0.2987647 ,  0.40296167, -0.20802876],\n",
      "       [-0.61031616, -0.07742286,  0.5602358 ,  0.31132007],\n",
      "       [ 0.19185197,  0.17404205,  0.12312204,  0.5019476 ],\n",
      "       [ 0.00372142,  0.0057199 ,  0.38532692,  0.22238678],\n",
      "       [ 0.3293773 ,  0.35254157,  0.272075  , -0.37521738],\n",
      "       [-0.42373848,  0.59413344,  0.5464502 , -0.55988073],\n",
      "       [-0.48330176, -0.45354152, -0.18322289,  0.56275386],\n",
      "       [-0.33403766, -0.1645872 ,  0.37583774, -0.51590145],\n",
      "       [-0.2561581 ,  0.3890038 ,  0.5011069 ,  0.32292235],\n",
      "       [ 0.5617145 , -0.05228484,  0.5264433 , -0.11275756],\n",
      "       [ 0.5529346 ,  0.56283504, -0.11283875, -0.12136915],\n",
      "       [ 0.5601519 ,  0.28764194,  0.07500845, -0.39125633]],\n",
      "      dtype=float32), array([0., 0., 0., 0.], dtype=float32), array([[-0.52353966],\n",
      "       [ 0.51822376],\n",
      "       [ 0.06216574],\n",
      "       [ 0.45625567]], dtype=float32), array([0.], dtype=float32)]\n",
      "[array([[ 0.45562774,  0.2987647 ,  0.40296167, -0.20802876],\n",
      "       [-0.61031616, -0.07742286,  0.5602358 ,  0.31132007],\n",
      "       [ 0.19185197,  0.17404205,  0.12312204,  0.5019476 ],\n",
      "       [ 0.00372142,  0.0057199 ,  0.38532692,  0.22238678],\n",
      "       [ 0.3293773 ,  0.35254157,  0.272075  , -0.37521738],\n",
      "       [-0.42373848,  0.59413344,  0.5464502 , -0.55988073],\n",
      "       [-0.48330176, -0.45354152, -0.18322289,  0.56275386],\n",
      "       [-0.33403766, -0.1645872 ,  0.37583774, -0.51590145],\n",
      "       [-0.2561581 ,  0.3890038 ,  0.5011069 ,  0.32292235],\n",
      "       [ 0.5617145 , -0.05228484,  0.5264433 , -0.11275756],\n",
      "       [ 0.5529346 ,  0.56283504, -0.11283875, -0.12136915],\n",
      "       [ 0.5601519 ,  0.28764194,  0.07500845, -0.39125633]],\n",
      "      dtype=float32), array([0., 0., 0., 0.], dtype=float32), array([[-0.52353966],\n",
      "       [ 0.51822376],\n",
      "       [ 0.06216574],\n",
      "       [ 0.45625567]], dtype=float32), array([0.], dtype=float32)] [array([[ 0.45562774,  0.2987647 ,  0.40296167, -0.20802876],\n",
      "       [-0.61031616, -0.07742286,  0.5602358 ,  0.31132007],\n",
      "       [ 0.19185197,  0.17404205,  0.12312204,  0.5019476 ],\n",
      "       [ 0.00372142,  0.0057199 ,  0.38532692,  0.22238678],\n",
      "       [ 0.3293773 ,  0.35254157,  0.272075  , -0.37521738],\n",
      "       [-0.42373848,  0.59413344,  0.5464502 , -0.55988073],\n",
      "       [-0.48330176, -0.45354152, -0.18322289,  0.56275386],\n",
      "       [-0.33403766, -0.1645872 ,  0.37583774, -0.51590145],\n",
      "       [-0.2561581 ,  0.3890038 ,  0.5011069 ,  0.32292235],\n",
      "       [ 0.5617145 , -0.05228484,  0.5264433 , -0.11275756],\n",
      "       [ 0.5529346 ,  0.56283504, -0.11283875, -0.12136915],\n",
      "       [ 0.5601519 ,  0.28764194,  0.07500845, -0.39125633]],\n",
      "      dtype=float32), array([0., 0., 0., 0.], dtype=float32), array([[-0.52353966],\n",
      "       [ 0.51822376],\n",
      "       [ 0.06216574],\n",
      "       [ 0.45625567]], dtype=float32), array([0.], dtype=float32)]\n",
      "[array([[ 0.45562774,  0.2987647 ,  0.40296167, -0.20802876],\n",
      "       [-0.61031616, -0.07742286,  0.5602358 ,  0.31132007],\n",
      "       [ 0.19185197,  0.17404205,  0.12312204,  0.5019476 ],\n",
      "       [ 0.00372142,  0.0057199 ,  0.38532692,  0.22238678],\n",
      "       [ 0.3293773 ,  0.35254157,  0.272075  , -0.37521738],\n",
      "       [-0.42373848,  0.59413344,  0.5464502 , -0.55988073],\n",
      "       [-0.48330176, -0.45354152, -0.18322289,  0.56275386],\n",
      "       [-0.33403766, -0.1645872 ,  0.37583774, -0.51590145],\n",
      "       [-0.2561581 ,  0.3890038 ,  0.5011069 ,  0.32292235],\n",
      "       [ 0.5617145 , -0.05228484,  0.5264433 , -0.11275756],\n",
      "       [ 0.5529346 ,  0.56283504, -0.11283875, -0.12136915],\n",
      "       [ 0.5601519 ,  0.28764194,  0.07500845, -0.39125633]],\n",
      "      dtype=float32), array([0., 0., 0., 0.], dtype=float32), array([[-0.52353966],\n",
      "       [ 0.51822376],\n",
      "       [ 0.06216574],\n",
      "       [ 0.45625567]], dtype=float32), array([0.], dtype=float32)] [array([[ 0.45562774,  0.2987647 ,  0.40296167, -0.20802876],\n",
      "       [-0.61031616, -0.07742286,  0.5602358 ,  0.31132007],\n",
      "       [ 0.19185197,  0.17404205,  0.12312204,  0.5019476 ],\n",
      "       [ 0.00372142,  0.0057199 ,  0.38532692,  0.22238678],\n",
      "       [ 0.3293773 ,  0.35254157,  0.272075  , -0.37521738],\n",
      "       [-0.42373848,  0.59413344,  0.5464502 , -0.55988073],\n",
      "       [-0.48330176, -0.45354152, -0.18322289,  0.56275386],\n",
      "       [-0.33403766, -0.1645872 ,  0.37583774, -0.51590145],\n",
      "       [-0.2561581 ,  0.3890038 ,  0.5011069 ,  0.32292235],\n",
      "       [ 0.5617145 , -0.05228484,  0.5264433 , -0.11275756],\n",
      "       [ 0.5529346 ,  0.56283504, -0.11283875, -0.12136915],\n",
      "       [ 0.5601519 ,  0.28764194,  0.07500845, -0.39125633]],\n",
      "      dtype=float32), array([0., 0., 0., 0.], dtype=float32), array([[-0.52353966],\n",
      "       [ 0.51822376],\n",
      "       [ 0.06216574],\n",
      "       [ 0.45625567]], dtype=float32), array([0.], dtype=float32)]\n"
     ]
    },
    {
     "name": "stderr",
     "output_type": "stream",
     "text": [
      "C:\\Users\\Gabriel\\AppData\\Roaming\\Python\\Python39\\site-packages\\keras\\optimizers\\legacy\\gradient_descent.py:114: UserWarning: The `lr` argument is deprecated, use `learning_rate` instead.\n",
      "  super().__init__(name, **kwargs)\n"
     ]
    },
    {
     "name": "stdout",
     "output_type": "stream",
     "text": [
      "157/157 [==============================] - 0s 1ms/step\n"
     ]
    },
    {
     "name": "stderr",
     "output_type": "stream",
     "text": [
      "C:\\Users\\Gabriel\\AppData\\Roaming\\Python\\Python39\\site-packages\\keras\\optimizers\\legacy\\gradient_descent.py:114: UserWarning: The `lr` argument is deprecated, use `learning_rate` instead.\n",
      "  super().__init__(name, **kwargs)\n"
     ]
    },
    {
     "name": "stdout",
     "output_type": "stream",
     "text": [
      "157/157 [==============================] - 0s 1ms/step\n"
     ]
    },
    {
     "name": "stderr",
     "output_type": "stream",
     "text": [
      "C:\\Users\\Gabriel\\AppData\\Roaming\\Python\\Python39\\site-packages\\keras\\optimizers\\legacy\\gradient_descent.py:114: UserWarning: The `lr` argument is deprecated, use `learning_rate` instead.\n",
      "  super().__init__(name, **kwargs)\n"
     ]
    },
    {
     "name": "stdout",
     "output_type": "stream",
     "text": [
      "157/157 [==============================] - 0s 1ms/step\n"
     ]
    },
    {
     "name": "stderr",
     "output_type": "stream",
     "text": [
      "C:\\Users\\Gabriel\\AppData\\Roaming\\Python\\Python39\\site-packages\\keras\\optimizers\\legacy\\gradient_descent.py:114: UserWarning: The `lr` argument is deprecated, use `learning_rate` instead.\n",
      "  super().__init__(name, **kwargs)\n"
     ]
    },
    {
     "name": "stdout",
     "output_type": "stream",
     "text": [
      "157/157 [==============================] - 0s 1ms/step\n"
     ]
    },
    {
     "name": "stderr",
     "output_type": "stream",
     "text": [
      "C:\\Users\\Gabriel\\AppData\\Roaming\\Python\\Python39\\site-packages\\keras\\optimizers\\legacy\\gradient_descent.py:114: UserWarning: The `lr` argument is deprecated, use `learning_rate` instead.\n",
      "  super().__init__(name, **kwargs)\n"
     ]
    },
    {
     "name": "stdout",
     "output_type": "stream",
     "text": [
      "157/157 [==============================] - 0s 1ms/step\n"
     ]
    },
    {
     "name": "stderr",
     "output_type": "stream",
     "text": [
      "C:\\Users\\Gabriel\\AppData\\Roaming\\Python\\Python39\\site-packages\\keras\\optimizers\\legacy\\gradient_descent.py:114: UserWarning: The `lr` argument is deprecated, use `learning_rate` instead.\n",
      "  super().__init__(name, **kwargs)\n"
     ]
    },
    {
     "name": "stdout",
     "output_type": "stream",
     "text": [
      "157/157 [==============================] - 0s 1ms/step\n"
     ]
    },
    {
     "name": "stderr",
     "output_type": "stream",
     "text": [
      "C:\\Users\\Gabriel\\AppData\\Roaming\\Python\\Python39\\site-packages\\keras\\optimizers\\legacy\\gradient_descent.py:114: UserWarning: The `lr` argument is deprecated, use `learning_rate` instead.\n",
      "  super().__init__(name, **kwargs)\n"
     ]
    },
    {
     "name": "stdout",
     "output_type": "stream",
     "text": [
      "157/157 [==============================] - 0s 1ms/step\n"
     ]
    },
    {
     "name": "stderr",
     "output_type": "stream",
     "text": [
      "C:\\Users\\Gabriel\\AppData\\Roaming\\Python\\Python39\\site-packages\\keras\\optimizers\\legacy\\gradient_descent.py:114: UserWarning: The `lr` argument is deprecated, use `learning_rate` instead.\n",
      "  super().__init__(name, **kwargs)\n"
     ]
    },
    {
     "name": "stdout",
     "output_type": "stream",
     "text": [
      "157/157 [==============================] - 0s 1ms/step\n"
     ]
    },
    {
     "name": "stderr",
     "output_type": "stream",
     "text": [
      "C:\\Users\\Gabriel\\AppData\\Roaming\\Python\\Python39\\site-packages\\keras\\optimizers\\legacy\\gradient_descent.py:114: UserWarning: The `lr` argument is deprecated, use `learning_rate` instead.\n",
      "  super().__init__(name, **kwargs)\n"
     ]
    },
    {
     "name": "stdout",
     "output_type": "stream",
     "text": [
      "157/157 [==============================] - 0s 1ms/step\n"
     ]
    },
    {
     "name": "stderr",
     "output_type": "stream",
     "text": [
      "C:\\Users\\Gabriel\\AppData\\Roaming\\Python\\Python39\\site-packages\\keras\\optimizers\\legacy\\gradient_descent.py:114: UserWarning: The `lr` argument is deprecated, use `learning_rate` instead.\n",
      "  super().__init__(name, **kwargs)\n"
     ]
    },
    {
     "name": "stdout",
     "output_type": "stream",
     "text": [
      "157/157 [==============================] - 0s 1ms/step\n"
     ]
    },
    {
     "name": "stderr",
     "output_type": "stream",
     "text": [
      "C:\\Users\\Gabriel\\AppData\\Roaming\\Python\\Python39\\site-packages\\keras\\optimizers\\legacy\\gradient_descent.py:114: UserWarning: The `lr` argument is deprecated, use `learning_rate` instead.\n",
      "  super().__init__(name, **kwargs)\n"
     ]
    },
    {
     "name": "stdout",
     "output_type": "stream",
     "text": [
      "157/157 [==============================] - 0s 1ms/step\n"
     ]
    },
    {
     "name": "stderr",
     "output_type": "stream",
     "text": [
      "C:\\Users\\Gabriel\\AppData\\Roaming\\Python\\Python39\\site-packages\\keras\\optimizers\\legacy\\gradient_descent.py:114: UserWarning: The `lr` argument is deprecated, use `learning_rate` instead.\n",
      "  super().__init__(name, **kwargs)\n"
     ]
    },
    {
     "name": "stdout",
     "output_type": "stream",
     "text": [
      "157/157 [==============================] - 0s 1ms/step\n"
     ]
    },
    {
     "name": "stderr",
     "output_type": "stream",
     "text": [
      "C:\\Users\\Gabriel\\AppData\\Roaming\\Python\\Python39\\site-packages\\keras\\optimizers\\legacy\\gradient_descent.py:114: UserWarning: The `lr` argument is deprecated, use `learning_rate` instead.\n",
      "  super().__init__(name, **kwargs)\n"
     ]
    },
    {
     "name": "stdout",
     "output_type": "stream",
     "text": [
      "157/157 [==============================] - 0s 1ms/step\n"
     ]
    },
    {
     "name": "stderr",
     "output_type": "stream",
     "text": [
      "C:\\Users\\Gabriel\\AppData\\Roaming\\Python\\Python39\\site-packages\\keras\\optimizers\\legacy\\gradient_descent.py:114: UserWarning: The `lr` argument is deprecated, use `learning_rate` instead.\n",
      "  super().__init__(name, **kwargs)\n"
     ]
    },
    {
     "name": "stdout",
     "output_type": "stream",
     "text": [
      "157/157 [==============================] - 0s 1ms/step\n"
     ]
    },
    {
     "name": "stderr",
     "output_type": "stream",
     "text": [
      "C:\\Users\\Gabriel\\AppData\\Roaming\\Python\\Python39\\site-packages\\keras\\optimizers\\legacy\\gradient_descent.py:114: UserWarning: The `lr` argument is deprecated, use `learning_rate` instead.\n",
      "  super().__init__(name, **kwargs)\n"
     ]
    },
    {
     "name": "stdout",
     "output_type": "stream",
     "text": [
      "157/157 [==============================] - 0s 1ms/step\n"
     ]
    },
    {
     "name": "stderr",
     "output_type": "stream",
     "text": [
      "C:\\Users\\Gabriel\\AppData\\Roaming\\Python\\Python39\\site-packages\\keras\\optimizers\\legacy\\gradient_descent.py:114: UserWarning: The `lr` argument is deprecated, use `learning_rate` instead.\n",
      "  super().__init__(name, **kwargs)\n"
     ]
    },
    {
     "name": "stdout",
     "output_type": "stream",
     "text": [
      "157/157 [==============================] - 0s 1ms/step\n"
     ]
    },
    {
     "name": "stderr",
     "output_type": "stream",
     "text": [
      "C:\\Users\\Gabriel\\AppData\\Roaming\\Python\\Python39\\site-packages\\keras\\optimizers\\legacy\\gradient_descent.py:114: UserWarning: The `lr` argument is deprecated, use `learning_rate` instead.\n",
      "  super().__init__(name, **kwargs)\n"
     ]
    },
    {
     "name": "stdout",
     "output_type": "stream",
     "text": [
      "157/157 [==============================] - 0s 1ms/step\n"
     ]
    },
    {
     "name": "stderr",
     "output_type": "stream",
     "text": [
      "C:\\Users\\Gabriel\\AppData\\Roaming\\Python\\Python39\\site-packages\\keras\\optimizers\\legacy\\gradient_descent.py:114: UserWarning: The `lr` argument is deprecated, use `learning_rate` instead.\n",
      "  super().__init__(name, **kwargs)\n"
     ]
    },
    {
     "name": "stdout",
     "output_type": "stream",
     "text": [
      "157/157 [==============================] - 0s 1ms/step\n"
     ]
    },
    {
     "name": "stderr",
     "output_type": "stream",
     "text": [
      "C:\\Users\\Gabriel\\AppData\\Roaming\\Python\\Python39\\site-packages\\keras\\optimizers\\legacy\\gradient_descent.py:114: UserWarning: The `lr` argument is deprecated, use `learning_rate` instead.\n",
      "  super().__init__(name, **kwargs)\n"
     ]
    },
    {
     "name": "stdout",
     "output_type": "stream",
     "text": [
      "157/157 [==============================] - 0s 1ms/step\n"
     ]
    },
    {
     "name": "stderr",
     "output_type": "stream",
     "text": [
      "C:\\Users\\Gabriel\\AppData\\Roaming\\Python\\Python39\\site-packages\\keras\\optimizers\\legacy\\gradient_descent.py:114: UserWarning: The `lr` argument is deprecated, use `learning_rate` instead.\n",
      "  super().__init__(name, **kwargs)\n"
     ]
    },
    {
     "name": "stdout",
     "output_type": "stream",
     "text": [
      "157/157 [==============================] - 0s 1ms/step\n"
     ]
    },
    {
     "name": "stderr",
     "output_type": "stream",
     "text": [
      "C:\\Users\\Gabriel\\AppData\\Roaming\\Python\\Python39\\site-packages\\keras\\optimizers\\legacy\\gradient_descent.py:114: UserWarning: The `lr` argument is deprecated, use `learning_rate` instead.\n",
      "  super().__init__(name, **kwargs)\n"
     ]
    },
    {
     "name": "stdout",
     "output_type": "stream",
     "text": [
      "157/157 [==============================] - 0s 1ms/step\n"
     ]
    },
    {
     "name": "stderr",
     "output_type": "stream",
     "text": [
      "C:\\Users\\Gabriel\\AppData\\Roaming\\Python\\Python39\\site-packages\\keras\\optimizers\\legacy\\gradient_descent.py:114: UserWarning: The `lr` argument is deprecated, use `learning_rate` instead.\n",
      "  super().__init__(name, **kwargs)\n"
     ]
    },
    {
     "name": "stdout",
     "output_type": "stream",
     "text": [
      "157/157 [==============================] - 0s 2ms/step\n"
     ]
    },
    {
     "name": "stderr",
     "output_type": "stream",
     "text": [
      "C:\\Users\\Gabriel\\AppData\\Roaming\\Python\\Python39\\site-packages\\keras\\optimizers\\legacy\\gradient_descent.py:114: UserWarning: The `lr` argument is deprecated, use `learning_rate` instead.\n",
      "  super().__init__(name, **kwargs)\n"
     ]
    },
    {
     "name": "stdout",
     "output_type": "stream",
     "text": [
      "157/157 [==============================] - 0s 1ms/step\n"
     ]
    },
    {
     "name": "stderr",
     "output_type": "stream",
     "text": [
      "C:\\Users\\Gabriel\\AppData\\Roaming\\Python\\Python39\\site-packages\\keras\\optimizers\\legacy\\gradient_descent.py:114: UserWarning: The `lr` argument is deprecated, use `learning_rate` instead.\n",
      "  super().__init__(name, **kwargs)\n"
     ]
    },
    {
     "name": "stdout",
     "output_type": "stream",
     "text": [
      "157/157 [==============================] - 0s 1ms/step\n"
     ]
    },
    {
     "name": "stderr",
     "output_type": "stream",
     "text": [
      "C:\\Users\\Gabriel\\AppData\\Roaming\\Python\\Python39\\site-packages\\keras\\optimizers\\legacy\\gradient_descent.py:114: UserWarning: The `lr` argument is deprecated, use `learning_rate` instead.\n",
      "  super().__init__(name, **kwargs)\n"
     ]
    },
    {
     "name": "stdout",
     "output_type": "stream",
     "text": [
      "157/157 [==============================] - 0s 1ms/step\n"
     ]
    },
    {
     "name": "stderr",
     "output_type": "stream",
     "text": [
      "C:\\Users\\Gabriel\\AppData\\Roaming\\Python\\Python39\\site-packages\\keras\\optimizers\\legacy\\gradient_descent.py:114: UserWarning: The `lr` argument is deprecated, use `learning_rate` instead.\n",
      "  super().__init__(name, **kwargs)\n"
     ]
    },
    {
     "name": "stdout",
     "output_type": "stream",
     "text": [
      "157/157 [==============================] - 0s 1ms/step\n"
     ]
    },
    {
     "name": "stderr",
     "output_type": "stream",
     "text": [
      "C:\\Users\\Gabriel\\AppData\\Roaming\\Python\\Python39\\site-packages\\keras\\optimizers\\legacy\\gradient_descent.py:114: UserWarning: The `lr` argument is deprecated, use `learning_rate` instead.\n",
      "  super().__init__(name, **kwargs)\n"
     ]
    },
    {
     "name": "stdout",
     "output_type": "stream",
     "text": [
      "157/157 [==============================] - 0s 1ms/step\n"
     ]
    },
    {
     "name": "stderr",
     "output_type": "stream",
     "text": [
      "C:\\Users\\Gabriel\\AppData\\Roaming\\Python\\Python39\\site-packages\\keras\\optimizers\\legacy\\gradient_descent.py:114: UserWarning: The `lr` argument is deprecated, use `learning_rate` instead.\n",
      "  super().__init__(name, **kwargs)\n"
     ]
    },
    {
     "name": "stdout",
     "output_type": "stream",
     "text": [
      "157/157 [==============================] - 0s 2ms/step\n"
     ]
    },
    {
     "name": "stderr",
     "output_type": "stream",
     "text": [
      "C:\\Users\\Gabriel\\AppData\\Roaming\\Python\\Python39\\site-packages\\keras\\optimizers\\legacy\\gradient_descent.py:114: UserWarning: The `lr` argument is deprecated, use `learning_rate` instead.\n",
      "  super().__init__(name, **kwargs)\n"
     ]
    },
    {
     "name": "stdout",
     "output_type": "stream",
     "text": [
      "157/157 [==============================] - 0s 1ms/step\n"
     ]
    },
    {
     "name": "stderr",
     "output_type": "stream",
     "text": [
      "C:\\Users\\Gabriel\\AppData\\Roaming\\Python\\Python39\\site-packages\\keras\\optimizers\\legacy\\gradient_descent.py:114: UserWarning: The `lr` argument is deprecated, use `learning_rate` instead.\n",
      "  super().__init__(name, **kwargs)\n"
     ]
    },
    {
     "name": "stdout",
     "output_type": "stream",
     "text": [
      "157/157 [==============================] - 0s 924us/step\n"
     ]
    },
    {
     "name": "stderr",
     "output_type": "stream",
     "text": [
      "C:\\Users\\Gabriel\\AppData\\Roaming\\Python\\Python39\\site-packages\\keras\\optimizers\\legacy\\gradient_descent.py:114: UserWarning: The `lr` argument is deprecated, use `learning_rate` instead.\n",
      "  super().__init__(name, **kwargs)\n"
     ]
    },
    {
     "name": "stdout",
     "output_type": "stream",
     "text": [
      "157/157 [==============================] - 0s 880us/step\n"
     ]
    },
    {
     "name": "stderr",
     "output_type": "stream",
     "text": [
      "C:\\Users\\Gabriel\\AppData\\Roaming\\Python\\Python39\\site-packages\\keras\\optimizers\\legacy\\gradient_descent.py:114: UserWarning: The `lr` argument is deprecated, use `learning_rate` instead.\n",
      "  super().__init__(name, **kwargs)\n"
     ]
    },
    {
     "name": "stdout",
     "output_type": "stream",
     "text": [
      "157/157 [==============================] - 0s 914us/step\n"
     ]
    },
    {
     "name": "stderr",
     "output_type": "stream",
     "text": [
      "C:\\Users\\Gabriel\\AppData\\Roaming\\Python\\Python39\\site-packages\\keras\\optimizers\\legacy\\gradient_descent.py:114: UserWarning: The `lr` argument is deprecated, use `learning_rate` instead.\n",
      "  super().__init__(name, **kwargs)\n"
     ]
    },
    {
     "name": "stdout",
     "output_type": "stream",
     "text": [
      "157/157 [==============================] - 0s 947us/step\n"
     ]
    },
    {
     "name": "stderr",
     "output_type": "stream",
     "text": [
      "C:\\Users\\Gabriel\\AppData\\Roaming\\Python\\Python39\\site-packages\\keras\\optimizers\\legacy\\gradient_descent.py:114: UserWarning: The `lr` argument is deprecated, use `learning_rate` instead.\n",
      "  super().__init__(name, **kwargs)\n"
     ]
    },
    {
     "name": "stdout",
     "output_type": "stream",
     "text": [
      "157/157 [==============================] - 0s 921us/step\n"
     ]
    },
    {
     "name": "stderr",
     "output_type": "stream",
     "text": [
      "C:\\Users\\Gabriel\\AppData\\Roaming\\Python\\Python39\\site-packages\\keras\\optimizers\\legacy\\gradient_descent.py:114: UserWarning: The `lr` argument is deprecated, use `learning_rate` instead.\n",
      "  super().__init__(name, **kwargs)\n"
     ]
    },
    {
     "name": "stdout",
     "output_type": "stream",
     "text": [
      "157/157 [==============================] - 0s 913us/step\n"
     ]
    },
    {
     "name": "stderr",
     "output_type": "stream",
     "text": [
      "C:\\Users\\Gabriel\\AppData\\Roaming\\Python\\Python39\\site-packages\\keras\\optimizers\\legacy\\gradient_descent.py:114: UserWarning: The `lr` argument is deprecated, use `learning_rate` instead.\n",
      "  super().__init__(name, **kwargs)\n"
     ]
    },
    {
     "name": "stdout",
     "output_type": "stream",
     "text": [
      "157/157 [==============================] - 0s 933us/step\n"
     ]
    },
    {
     "name": "stderr",
     "output_type": "stream",
     "text": [
      "C:\\Users\\Gabriel\\AppData\\Roaming\\Python\\Python39\\site-packages\\keras\\optimizers\\legacy\\gradient_descent.py:114: UserWarning: The `lr` argument is deprecated, use `learning_rate` instead.\n",
      "  super().__init__(name, **kwargs)\n"
     ]
    },
    {
     "name": "stdout",
     "output_type": "stream",
     "text": [
      "157/157 [==============================] - 0s 918us/step\n"
     ]
    },
    {
     "name": "stderr",
     "output_type": "stream",
     "text": [
      "C:\\Users\\Gabriel\\AppData\\Roaming\\Python\\Python39\\site-packages\\keras\\optimizers\\legacy\\gradient_descent.py:114: UserWarning: The `lr` argument is deprecated, use `learning_rate` instead.\n",
      "  super().__init__(name, **kwargs)\n"
     ]
    },
    {
     "name": "stdout",
     "output_type": "stream",
     "text": [
      "157/157 [==============================] - 0s 902us/step\n"
     ]
    },
    {
     "name": "stderr",
     "output_type": "stream",
     "text": [
      "C:\\Users\\Gabriel\\AppData\\Roaming\\Python\\Python39\\site-packages\\keras\\optimizers\\legacy\\gradient_descent.py:114: UserWarning: The `lr` argument is deprecated, use `learning_rate` instead.\n",
      "  super().__init__(name, **kwargs)\n"
     ]
    },
    {
     "name": "stdout",
     "output_type": "stream",
     "text": [
      "157/157 [==============================] - 0s 895us/step\n"
     ]
    },
    {
     "name": "stderr",
     "output_type": "stream",
     "text": [
      "C:\\Users\\Gabriel\\AppData\\Roaming\\Python\\Python39\\site-packages\\keras\\optimizers\\legacy\\gradient_descent.py:114: UserWarning: The `lr` argument is deprecated, use `learning_rate` instead.\n",
      "  super().__init__(name, **kwargs)\n"
     ]
    },
    {
     "name": "stdout",
     "output_type": "stream",
     "text": [
      "157/157 [==============================] - 0s 984us/step\n"
     ]
    },
    {
     "name": "stderr",
     "output_type": "stream",
     "text": [
      "C:\\Users\\Gabriel\\AppData\\Roaming\\Python\\Python39\\site-packages\\keras\\optimizers\\legacy\\gradient_descent.py:114: UserWarning: The `lr` argument is deprecated, use `learning_rate` instead.\n",
      "  super().__init__(name, **kwargs)\n"
     ]
    },
    {
     "name": "stdout",
     "output_type": "stream",
     "text": [
      "157/157 [==============================] - 0s 918us/step\n"
     ]
    },
    {
     "name": "stderr",
     "output_type": "stream",
     "text": [
      "C:\\Users\\Gabriel\\AppData\\Roaming\\Python\\Python39\\site-packages\\keras\\optimizers\\legacy\\gradient_descent.py:114: UserWarning: The `lr` argument is deprecated, use `learning_rate` instead.\n",
      "  super().__init__(name, **kwargs)\n"
     ]
    },
    {
     "name": "stdout",
     "output_type": "stream",
     "text": [
      "157/157 [==============================] - 0s 916us/step\n"
     ]
    },
    {
     "name": "stderr",
     "output_type": "stream",
     "text": [
      "C:\\Users\\Gabriel\\AppData\\Roaming\\Python\\Python39\\site-packages\\keras\\optimizers\\legacy\\gradient_descent.py:114: UserWarning: The `lr` argument is deprecated, use `learning_rate` instead.\n",
      "  super().__init__(name, **kwargs)\n"
     ]
    },
    {
     "name": "stdout",
     "output_type": "stream",
     "text": [
      "157/157 [==============================] - 0s 966us/step\n"
     ]
    },
    {
     "name": "stderr",
     "output_type": "stream",
     "text": [
      "C:\\Users\\Gabriel\\AppData\\Roaming\\Python\\Python39\\site-packages\\keras\\optimizers\\legacy\\gradient_descent.py:114: UserWarning: The `lr` argument is deprecated, use `learning_rate` instead.\n",
      "  super().__init__(name, **kwargs)\n"
     ]
    },
    {
     "name": "stdout",
     "output_type": "stream",
     "text": [
      "157/157 [==============================] - 0s 904us/step\n"
     ]
    },
    {
     "name": "stderr",
     "output_type": "stream",
     "text": [
      "C:\\Users\\Gabriel\\AppData\\Roaming\\Python\\Python39\\site-packages\\keras\\optimizers\\legacy\\gradient_descent.py:114: UserWarning: The `lr` argument is deprecated, use `learning_rate` instead.\n",
      "  super().__init__(name, **kwargs)\n"
     ]
    },
    {
     "name": "stdout",
     "output_type": "stream",
     "text": [
      "157/157 [==============================] - 0s 879us/step\n"
     ]
    },
    {
     "name": "stderr",
     "output_type": "stream",
     "text": [
      "C:\\Users\\Gabriel\\AppData\\Roaming\\Python\\Python39\\site-packages\\keras\\optimizers\\legacy\\gradient_descent.py:114: UserWarning: The `lr` argument is deprecated, use `learning_rate` instead.\n",
      "  super().__init__(name, **kwargs)\n"
     ]
    },
    {
     "name": "stdout",
     "output_type": "stream",
     "text": [
      "157/157 [==============================] - 0s 950us/step\n"
     ]
    },
    {
     "name": "stderr",
     "output_type": "stream",
     "text": [
      "C:\\Users\\Gabriel\\AppData\\Roaming\\Python\\Python39\\site-packages\\keras\\optimizers\\legacy\\gradient_descent.py:114: UserWarning: The `lr` argument is deprecated, use `learning_rate` instead.\n",
      "  super().__init__(name, **kwargs)\n"
     ]
    },
    {
     "name": "stdout",
     "output_type": "stream",
     "text": [
      "157/157 [==============================] - 0s 972us/step\n"
     ]
    },
    {
     "name": "stderr",
     "output_type": "stream",
     "text": [
      "C:\\Users\\Gabriel\\AppData\\Roaming\\Python\\Python39\\site-packages\\keras\\optimizers\\legacy\\gradient_descent.py:114: UserWarning: The `lr` argument is deprecated, use `learning_rate` instead.\n",
      "  super().__init__(name, **kwargs)\n"
     ]
    },
    {
     "name": "stdout",
     "output_type": "stream",
     "text": [
      "157/157 [==============================] - 0s 937us/step\n"
     ]
    },
    {
     "name": "stderr",
     "output_type": "stream",
     "text": [
      "C:\\Users\\Gabriel\\AppData\\Roaming\\Python\\Python39\\site-packages\\keras\\optimizers\\legacy\\gradient_descent.py:114: UserWarning: The `lr` argument is deprecated, use `learning_rate` instead.\n",
      "  super().__init__(name, **kwargs)\n"
     ]
    },
    {
     "name": "stdout",
     "output_type": "stream",
     "text": [
      "157/157 [==============================] - 0s 879us/step\n"
     ]
    },
    {
     "name": "stderr",
     "output_type": "stream",
     "text": [
      "C:\\Users\\Gabriel\\AppData\\Roaming\\Python\\Python39\\site-packages\\keras\\optimizers\\legacy\\gradient_descent.py:114: UserWarning: The `lr` argument is deprecated, use `learning_rate` instead.\n",
      "  super().__init__(name, **kwargs)\n"
     ]
    },
    {
     "name": "stdout",
     "output_type": "stream",
     "text": [
      "157/157 [==============================] - 0s 921us/step\n"
     ]
    },
    {
     "name": "stderr",
     "output_type": "stream",
     "text": [
      "C:\\Users\\Gabriel\\AppData\\Roaming\\Python\\Python39\\site-packages\\keras\\optimizers\\legacy\\gradient_descent.py:114: UserWarning: The `lr` argument is deprecated, use `learning_rate` instead.\n",
      "  super().__init__(name, **kwargs)\n"
     ]
    },
    {
     "name": "stdout",
     "output_type": "stream",
     "text": [
      "157/157 [==============================] - 0s 992us/step\n"
     ]
    },
    {
     "name": "stderr",
     "output_type": "stream",
     "text": [
      "C:\\Users\\Gabriel\\AppData\\Roaming\\Python\\Python39\\site-packages\\keras\\optimizers\\legacy\\gradient_descent.py:114: UserWarning: The `lr` argument is deprecated, use `learning_rate` instead.\n",
      "  super().__init__(name, **kwargs)\n"
     ]
    },
    {
     "name": "stdout",
     "output_type": "stream",
     "text": [
      "157/157 [==============================] - 0s 911us/step\n"
     ]
    },
    {
     "name": "stderr",
     "output_type": "stream",
     "text": [
      "C:\\Users\\Gabriel\\AppData\\Roaming\\Python\\Python39\\site-packages\\keras\\optimizers\\legacy\\gradient_descent.py:114: UserWarning: The `lr` argument is deprecated, use `learning_rate` instead.\n",
      "  super().__init__(name, **kwargs)\n"
     ]
    },
    {
     "name": "stdout",
     "output_type": "stream",
     "text": [
      "157/157 [==============================] - 0s 1ms/step\n"
     ]
    },
    {
     "name": "stderr",
     "output_type": "stream",
     "text": [
      "C:\\Users\\Gabriel\\AppData\\Roaming\\Python\\Python39\\site-packages\\keras\\optimizers\\legacy\\gradient_descent.py:114: UserWarning: The `lr` argument is deprecated, use `learning_rate` instead.\n",
      "  super().__init__(name, **kwargs)\n"
     ]
    },
    {
     "name": "stdout",
     "output_type": "stream",
     "text": [
      "157/157 [==============================] - 0s 934us/step\n"
     ]
    },
    {
     "name": "stderr",
     "output_type": "stream",
     "text": [
      "C:\\Users\\Gabriel\\AppData\\Roaming\\Python\\Python39\\site-packages\\keras\\optimizers\\legacy\\gradient_descent.py:114: UserWarning: The `lr` argument is deprecated, use `learning_rate` instead.\n",
      "  super().__init__(name, **kwargs)\n"
     ]
    },
    {
     "name": "stdout",
     "output_type": "stream",
     "text": [
      "157/157 [==============================] - 0s 1ms/step\n"
     ]
    },
    {
     "name": "stderr",
     "output_type": "stream",
     "text": [
      "C:\\Users\\Gabriel\\AppData\\Roaming\\Python\\Python39\\site-packages\\keras\\optimizers\\legacy\\gradient_descent.py:114: UserWarning: The `lr` argument is deprecated, use `learning_rate` instead.\n",
      "  super().__init__(name, **kwargs)\n"
     ]
    },
    {
     "name": "stdout",
     "output_type": "stream",
     "text": [
      "157/157 [==============================] - 0s 937us/step\n"
     ]
    },
    {
     "name": "stderr",
     "output_type": "stream",
     "text": [
      "C:\\Users\\Gabriel\\AppData\\Roaming\\Python\\Python39\\site-packages\\keras\\optimizers\\legacy\\gradient_descent.py:114: UserWarning: The `lr` argument is deprecated, use `learning_rate` instead.\n",
      "  super().__init__(name, **kwargs)\n"
     ]
    },
    {
     "name": "stdout",
     "output_type": "stream",
     "text": [
      "157/157 [==============================] - 0s 878us/step\n"
     ]
    },
    {
     "name": "stderr",
     "output_type": "stream",
     "text": [
      "C:\\Users\\Gabriel\\AppData\\Roaming\\Python\\Python39\\site-packages\\keras\\optimizers\\legacy\\gradient_descent.py:114: UserWarning: The `lr` argument is deprecated, use `learning_rate` instead.\n",
      "  super().__init__(name, **kwargs)\n"
     ]
    },
    {
     "name": "stdout",
     "output_type": "stream",
     "text": [
      "157/157 [==============================] - 0s 881us/step\n"
     ]
    },
    {
     "name": "stderr",
     "output_type": "stream",
     "text": [
      "C:\\Users\\Gabriel\\AppData\\Roaming\\Python\\Python39\\site-packages\\keras\\optimizers\\legacy\\gradient_descent.py:114: UserWarning: The `lr` argument is deprecated, use `learning_rate` instead.\n",
      "  super().__init__(name, **kwargs)\n"
     ]
    },
    {
     "name": "stdout",
     "output_type": "stream",
     "text": [
      "157/157 [==============================] - 0s 901us/step\n"
     ]
    },
    {
     "name": "stderr",
     "output_type": "stream",
     "text": [
      "C:\\Users\\Gabriel\\AppData\\Roaming\\Python\\Python39\\site-packages\\keras\\optimizers\\legacy\\gradient_descent.py:114: UserWarning: The `lr` argument is deprecated, use `learning_rate` instead.\n",
      "  super().__init__(name, **kwargs)\n"
     ]
    },
    {
     "name": "stdout",
     "output_type": "stream",
     "text": [
      "157/157 [==============================] - 0s 859us/step\n"
     ]
    },
    {
     "name": "stderr",
     "output_type": "stream",
     "text": [
      "C:\\Users\\Gabriel\\AppData\\Roaming\\Python\\Python39\\site-packages\\keras\\optimizers\\legacy\\gradient_descent.py:114: UserWarning: The `lr` argument is deprecated, use `learning_rate` instead.\n",
      "  super().__init__(name, **kwargs)\n"
     ]
    },
    {
     "name": "stdout",
     "output_type": "stream",
     "text": [
      "157/157 [==============================] - 0s 892us/step\n"
     ]
    },
    {
     "name": "stderr",
     "output_type": "stream",
     "text": [
      "C:\\Users\\Gabriel\\AppData\\Roaming\\Python\\Python39\\site-packages\\keras\\optimizers\\legacy\\gradient_descent.py:114: UserWarning: The `lr` argument is deprecated, use `learning_rate` instead.\n",
      "  super().__init__(name, **kwargs)\n"
     ]
    },
    {
     "name": "stdout",
     "output_type": "stream",
     "text": [
      "157/157 [==============================] - 0s 923us/step\n"
     ]
    },
    {
     "name": "stderr",
     "output_type": "stream",
     "text": [
      "C:\\Users\\Gabriel\\AppData\\Roaming\\Python\\Python39\\site-packages\\keras\\optimizers\\legacy\\gradient_descent.py:114: UserWarning: The `lr` argument is deprecated, use `learning_rate` instead.\n",
      "  super().__init__(name, **kwargs)\n"
     ]
    },
    {
     "name": "stdout",
     "output_type": "stream",
     "text": [
      "157/157 [==============================] - 0s 938us/step\n"
     ]
    },
    {
     "name": "stderr",
     "output_type": "stream",
     "text": [
      "C:\\Users\\Gabriel\\AppData\\Roaming\\Python\\Python39\\site-packages\\keras\\optimizers\\legacy\\gradient_descent.py:114: UserWarning: The `lr` argument is deprecated, use `learning_rate` instead.\n",
      "  super().__init__(name, **kwargs)\n"
     ]
    },
    {
     "name": "stdout",
     "output_type": "stream",
     "text": [
      "157/157 [==============================] - 0s 896us/step\n"
     ]
    },
    {
     "name": "stderr",
     "output_type": "stream",
     "text": [
      "C:\\Users\\Gabriel\\AppData\\Roaming\\Python\\Python39\\site-packages\\keras\\optimizers\\legacy\\gradient_descent.py:114: UserWarning: The `lr` argument is deprecated, use `learning_rate` instead.\n",
      "  super().__init__(name, **kwargs)\n"
     ]
    },
    {
     "name": "stdout",
     "output_type": "stream",
     "text": [
      "157/157 [==============================] - 0s 953us/step\n"
     ]
    },
    {
     "name": "stderr",
     "output_type": "stream",
     "text": [
      "C:\\Users\\Gabriel\\AppData\\Roaming\\Python\\Python39\\site-packages\\keras\\optimizers\\legacy\\gradient_descent.py:114: UserWarning: The `lr` argument is deprecated, use `learning_rate` instead.\n",
      "  super().__init__(name, **kwargs)\n"
     ]
    },
    {
     "name": "stdout",
     "output_type": "stream",
     "text": [
      "157/157 [==============================] - 0s 946us/step\n"
     ]
    },
    {
     "name": "stderr",
     "output_type": "stream",
     "text": [
      "C:\\Users\\Gabriel\\AppData\\Roaming\\Python\\Python39\\site-packages\\keras\\optimizers\\legacy\\gradient_descent.py:114: UserWarning: The `lr` argument is deprecated, use `learning_rate` instead.\n",
      "  super().__init__(name, **kwargs)\n"
     ]
    },
    {
     "name": "stdout",
     "output_type": "stream",
     "text": [
      "157/157 [==============================] - 0s 863us/step\n"
     ]
    },
    {
     "name": "stderr",
     "output_type": "stream",
     "text": [
      "C:\\Users\\Gabriel\\AppData\\Roaming\\Python\\Python39\\site-packages\\keras\\optimizers\\legacy\\gradient_descent.py:114: UserWarning: The `lr` argument is deprecated, use `learning_rate` instead.\n",
      "  super().__init__(name, **kwargs)\n"
     ]
    },
    {
     "name": "stdout",
     "output_type": "stream",
     "text": [
      "157/157 [==============================] - 0s 935us/step\n"
     ]
    },
    {
     "name": "stderr",
     "output_type": "stream",
     "text": [
      "C:\\Users\\Gabriel\\AppData\\Roaming\\Python\\Python39\\site-packages\\keras\\optimizers\\legacy\\gradient_descent.py:114: UserWarning: The `lr` argument is deprecated, use `learning_rate` instead.\n",
      "  super().__init__(name, **kwargs)\n"
     ]
    },
    {
     "name": "stdout",
     "output_type": "stream",
     "text": [
      "157/157 [==============================] - 0s 999us/step\n"
     ]
    },
    {
     "name": "stderr",
     "output_type": "stream",
     "text": [
      "C:\\Users\\Gabriel\\AppData\\Roaming\\Python\\Python39\\site-packages\\keras\\optimizers\\legacy\\gradient_descent.py:114: UserWarning: The `lr` argument is deprecated, use `learning_rate` instead.\n",
      "  super().__init__(name, **kwargs)\n"
     ]
    },
    {
     "name": "stdout",
     "output_type": "stream",
     "text": [
      "157/157 [==============================] - 0s 913us/step\n"
     ]
    },
    {
     "name": "stderr",
     "output_type": "stream",
     "text": [
      "C:\\Users\\Gabriel\\AppData\\Roaming\\Python\\Python39\\site-packages\\keras\\optimizers\\legacy\\gradient_descent.py:114: UserWarning: The `lr` argument is deprecated, use `learning_rate` instead.\n",
      "  super().__init__(name, **kwargs)\n"
     ]
    },
    {
     "name": "stdout",
     "output_type": "stream",
     "text": [
      "157/157 [==============================] - 0s 896us/step\n"
     ]
    },
    {
     "name": "stderr",
     "output_type": "stream",
     "text": [
      "C:\\Users\\Gabriel\\AppData\\Roaming\\Python\\Python39\\site-packages\\keras\\optimizers\\legacy\\gradient_descent.py:114: UserWarning: The `lr` argument is deprecated, use `learning_rate` instead.\n",
      "  super().__init__(name, **kwargs)\n"
     ]
    },
    {
     "name": "stdout",
     "output_type": "stream",
     "text": [
      "157/157 [==============================] - 0s 871us/step\n"
     ]
    },
    {
     "name": "stderr",
     "output_type": "stream",
     "text": [
      "C:\\Users\\Gabriel\\AppData\\Roaming\\Python\\Python39\\site-packages\\keras\\optimizers\\legacy\\gradient_descent.py:114: UserWarning: The `lr` argument is deprecated, use `learning_rate` instead.\n",
      "  super().__init__(name, **kwargs)\n"
     ]
    },
    {
     "name": "stdout",
     "output_type": "stream",
     "text": [
      "157/157 [==============================] - 0s 1ms/step\n"
     ]
    },
    {
     "name": "stderr",
     "output_type": "stream",
     "text": [
      "C:\\Users\\Gabriel\\AppData\\Roaming\\Python\\Python39\\site-packages\\keras\\optimizers\\legacy\\gradient_descent.py:114: UserWarning: The `lr` argument is deprecated, use `learning_rate` instead.\n",
      "  super().__init__(name, **kwargs)\n"
     ]
    },
    {
     "name": "stdout",
     "output_type": "stream",
     "text": [
      "157/157 [==============================] - 0s 892us/step\n"
     ]
    },
    {
     "name": "stderr",
     "output_type": "stream",
     "text": [
      "C:\\Users\\Gabriel\\AppData\\Roaming\\Python\\Python39\\site-packages\\keras\\optimizers\\legacy\\gradient_descent.py:114: UserWarning: The `lr` argument is deprecated, use `learning_rate` instead.\n",
      "  super().__init__(name, **kwargs)\n"
     ]
    },
    {
     "name": "stdout",
     "output_type": "stream",
     "text": [
      "157/157 [==============================] - 0s 888us/step\n"
     ]
    },
    {
     "name": "stderr",
     "output_type": "stream",
     "text": [
      "C:\\Users\\Gabriel\\AppData\\Roaming\\Python\\Python39\\site-packages\\keras\\optimizers\\legacy\\gradient_descent.py:114: UserWarning: The `lr` argument is deprecated, use `learning_rate` instead.\n",
      "  super().__init__(name, **kwargs)\n"
     ]
    },
    {
     "name": "stdout",
     "output_type": "stream",
     "text": [
      "157/157 [==============================] - 0s 950us/step\n"
     ]
    },
    {
     "name": "stderr",
     "output_type": "stream",
     "text": [
      "C:\\Users\\Gabriel\\AppData\\Roaming\\Python\\Python39\\site-packages\\keras\\optimizers\\legacy\\gradient_descent.py:114: UserWarning: The `lr` argument is deprecated, use `learning_rate` instead.\n",
      "  super().__init__(name, **kwargs)\n"
     ]
    },
    {
     "name": "stdout",
     "output_type": "stream",
     "text": [
      "157/157 [==============================] - 0s 916us/step\n"
     ]
    },
    {
     "name": "stderr",
     "output_type": "stream",
     "text": [
      "C:\\Users\\Gabriel\\AppData\\Roaming\\Python\\Python39\\site-packages\\keras\\optimizers\\legacy\\gradient_descent.py:114: UserWarning: The `lr` argument is deprecated, use `learning_rate` instead.\n",
      "  super().__init__(name, **kwargs)\n"
     ]
    },
    {
     "name": "stdout",
     "output_type": "stream",
     "text": [
      "157/157 [==============================] - 0s 932us/step\n"
     ]
    },
    {
     "name": "stderr",
     "output_type": "stream",
     "text": [
      "C:\\Users\\Gabriel\\AppData\\Roaming\\Python\\Python39\\site-packages\\keras\\optimizers\\legacy\\gradient_descent.py:114: UserWarning: The `lr` argument is deprecated, use `learning_rate` instead.\n",
      "  super().__init__(name, **kwargs)\n"
     ]
    },
    {
     "name": "stdout",
     "output_type": "stream",
     "text": [
      "157/157 [==============================] - 0s 904us/step\n"
     ]
    },
    {
     "name": "stderr",
     "output_type": "stream",
     "text": [
      "C:\\Users\\Gabriel\\AppData\\Roaming\\Python\\Python39\\site-packages\\keras\\optimizers\\legacy\\gradient_descent.py:114: UserWarning: The `lr` argument is deprecated, use `learning_rate` instead.\n",
      "  super().__init__(name, **kwargs)\n"
     ]
    },
    {
     "name": "stdout",
     "output_type": "stream",
     "text": [
      "157/157 [==============================] - 0s 929us/step\n"
     ]
    },
    {
     "name": "stderr",
     "output_type": "stream",
     "text": [
      "C:\\Users\\Gabriel\\AppData\\Roaming\\Python\\Python39\\site-packages\\keras\\optimizers\\legacy\\gradient_descent.py:114: UserWarning: The `lr` argument is deprecated, use `learning_rate` instead.\n",
      "  super().__init__(name, **kwargs)\n"
     ]
    },
    {
     "name": "stdout",
     "output_type": "stream",
     "text": [
      "157/157 [==============================] - 0s 927us/step\n"
     ]
    },
    {
     "name": "stderr",
     "output_type": "stream",
     "text": [
      "C:\\Users\\Gabriel\\AppData\\Roaming\\Python\\Python39\\site-packages\\keras\\optimizers\\legacy\\gradient_descent.py:114: UserWarning: The `lr` argument is deprecated, use `learning_rate` instead.\n",
      "  super().__init__(name, **kwargs)\n"
     ]
    },
    {
     "name": "stdout",
     "output_type": "stream",
     "text": [
      "157/157 [==============================] - 0s 895us/step\n"
     ]
    },
    {
     "name": "stderr",
     "output_type": "stream",
     "text": [
      "C:\\Users\\Gabriel\\AppData\\Roaming\\Python\\Python39\\site-packages\\keras\\optimizers\\legacy\\gradient_descent.py:114: UserWarning: The `lr` argument is deprecated, use `learning_rate` instead.\n",
      "  super().__init__(name, **kwargs)\n"
     ]
    },
    {
     "name": "stdout",
     "output_type": "stream",
     "text": [
      "157/157 [==============================] - 0s 888us/step\n"
     ]
    },
    {
     "name": "stderr",
     "output_type": "stream",
     "text": [
      "C:\\Users\\Gabriel\\AppData\\Roaming\\Python\\Python39\\site-packages\\keras\\optimizers\\legacy\\gradient_descent.py:114: UserWarning: The `lr` argument is deprecated, use `learning_rate` instead.\n",
      "  super().__init__(name, **kwargs)\n"
     ]
    },
    {
     "name": "stdout",
     "output_type": "stream",
     "text": [
      "157/157 [==============================] - 0s 1ms/step\n"
     ]
    },
    {
     "name": "stderr",
     "output_type": "stream",
     "text": [
      "C:\\Users\\Gabriel\\AppData\\Roaming\\Python\\Python39\\site-packages\\keras\\optimizers\\legacy\\gradient_descent.py:114: UserWarning: The `lr` argument is deprecated, use `learning_rate` instead.\n",
      "  super().__init__(name, **kwargs)\n"
     ]
    },
    {
     "name": "stdout",
     "output_type": "stream",
     "text": [
      "157/157 [==============================] - 0s 931us/step\n"
     ]
    },
    {
     "name": "stderr",
     "output_type": "stream",
     "text": [
      "C:\\Users\\Gabriel\\AppData\\Roaming\\Python\\Python39\\site-packages\\keras\\optimizers\\legacy\\gradient_descent.py:114: UserWarning: The `lr` argument is deprecated, use `learning_rate` instead.\n",
      "  super().__init__(name, **kwargs)\n"
     ]
    },
    {
     "name": "stdout",
     "output_type": "stream",
     "text": [
      "157/157 [==============================] - 0s 914us/step\n"
     ]
    },
    {
     "name": "stderr",
     "output_type": "stream",
     "text": [
      "C:\\Users\\Gabriel\\AppData\\Roaming\\Python\\Python39\\site-packages\\keras\\optimizers\\legacy\\gradient_descent.py:114: UserWarning: The `lr` argument is deprecated, use `learning_rate` instead.\n",
      "  super().__init__(name, **kwargs)\n"
     ]
    },
    {
     "name": "stdout",
     "output_type": "stream",
     "text": [
      "157/157 [==============================] - 0s 931us/step\n"
     ]
    },
    {
     "name": "stderr",
     "output_type": "stream",
     "text": [
      "C:\\Users\\Gabriel\\AppData\\Roaming\\Python\\Python39\\site-packages\\keras\\optimizers\\legacy\\gradient_descent.py:114: UserWarning: The `lr` argument is deprecated, use `learning_rate` instead.\n",
      "  super().__init__(name, **kwargs)\n"
     ]
    },
    {
     "name": "stdout",
     "output_type": "stream",
     "text": [
      "157/157 [==============================] - 0s 1ms/step\n"
     ]
    },
    {
     "name": "stderr",
     "output_type": "stream",
     "text": [
      "C:\\Users\\Gabriel\\AppData\\Roaming\\Python\\Python39\\site-packages\\keras\\optimizers\\legacy\\gradient_descent.py:114: UserWarning: The `lr` argument is deprecated, use `learning_rate` instead.\n",
      "  super().__init__(name, **kwargs)\n"
     ]
    },
    {
     "name": "stdout",
     "output_type": "stream",
     "text": [
      "157/157 [==============================] - 0s 1ms/step\n"
     ]
    },
    {
     "name": "stderr",
     "output_type": "stream",
     "text": [
      "C:\\Users\\Gabriel\\AppData\\Roaming\\Python\\Python39\\site-packages\\keras\\optimizers\\legacy\\gradient_descent.py:114: UserWarning: The `lr` argument is deprecated, use `learning_rate` instead.\n",
      "  super().__init__(name, **kwargs)\n"
     ]
    },
    {
     "name": "stdout",
     "output_type": "stream",
     "text": [
      "157/157 [==============================] - 0s 892us/step\n"
     ]
    },
    {
     "name": "stderr",
     "output_type": "stream",
     "text": [
      "C:\\Users\\Gabriel\\AppData\\Roaming\\Python\\Python39\\site-packages\\keras\\optimizers\\legacy\\gradient_descent.py:114: UserWarning: The `lr` argument is deprecated, use `learning_rate` instead.\n",
      "  super().__init__(name, **kwargs)\n"
     ]
    },
    {
     "name": "stdout",
     "output_type": "stream",
     "text": [
      "157/157 [==============================] - 0s 868us/step\n"
     ]
    },
    {
     "name": "stderr",
     "output_type": "stream",
     "text": [
      "C:\\Users\\Gabriel\\AppData\\Roaming\\Python\\Python39\\site-packages\\keras\\optimizers\\legacy\\gradient_descent.py:114: UserWarning: The `lr` argument is deprecated, use `learning_rate` instead.\n",
      "  super().__init__(name, **kwargs)\n"
     ]
    },
    {
     "name": "stdout",
     "output_type": "stream",
     "text": [
      "157/157 [==============================] - 0s 861us/step\n"
     ]
    },
    {
     "name": "stderr",
     "output_type": "stream",
     "text": [
      "C:\\Users\\Gabriel\\AppData\\Roaming\\Python\\Python39\\site-packages\\keras\\optimizers\\legacy\\gradient_descent.py:114: UserWarning: The `lr` argument is deprecated, use `learning_rate` instead.\n",
      "  super().__init__(name, **kwargs)\n"
     ]
    },
    {
     "name": "stdout",
     "output_type": "stream",
     "text": [
      "157/157 [==============================] - 0s 931us/step\n"
     ]
    },
    {
     "name": "stderr",
     "output_type": "stream",
     "text": [
      "C:\\Users\\Gabriel\\AppData\\Roaming\\Python\\Python39\\site-packages\\keras\\optimizers\\legacy\\gradient_descent.py:114: UserWarning: The `lr` argument is deprecated, use `learning_rate` instead.\n",
      "  super().__init__(name, **kwargs)\n"
     ]
    },
    {
     "name": "stdout",
     "output_type": "stream",
     "text": [
      "157/157 [==============================] - 0s 872us/step\n"
     ]
    },
    {
     "name": "stderr",
     "output_type": "stream",
     "text": [
      "C:\\Users\\Gabriel\\AppData\\Roaming\\Python\\Python39\\site-packages\\keras\\optimizers\\legacy\\gradient_descent.py:114: UserWarning: The `lr` argument is deprecated, use `learning_rate` instead.\n",
      "  super().__init__(name, **kwargs)\n"
     ]
    },
    {
     "name": "stdout",
     "output_type": "stream",
     "text": [
      "157/157 [==============================] - 0s 1ms/step\n"
     ]
    },
    {
     "name": "stderr",
     "output_type": "stream",
     "text": [
      "C:\\Users\\Gabriel\\AppData\\Roaming\\Python\\Python39\\site-packages\\keras\\optimizers\\legacy\\gradient_descent.py:114: UserWarning: The `lr` argument is deprecated, use `learning_rate` instead.\n",
      "  super().__init__(name, **kwargs)\n"
     ]
    },
    {
     "name": "stdout",
     "output_type": "stream",
     "text": [
      "157/157 [==============================] - 0s 878us/step\n"
     ]
    },
    {
     "name": "stderr",
     "output_type": "stream",
     "text": [
      "C:\\Users\\Gabriel\\AppData\\Roaming\\Python\\Python39\\site-packages\\keras\\optimizers\\legacy\\gradient_descent.py:114: UserWarning: The `lr` argument is deprecated, use `learning_rate` instead.\n",
      "  super().__init__(name, **kwargs)\n"
     ]
    },
    {
     "name": "stdout",
     "output_type": "stream",
     "text": [
      "157/157 [==============================] - 0s 975us/step\n"
     ]
    },
    {
     "name": "stderr",
     "output_type": "stream",
     "text": [
      "C:\\Users\\Gabriel\\AppData\\Roaming\\Python\\Python39\\site-packages\\keras\\optimizers\\legacy\\gradient_descent.py:114: UserWarning: The `lr` argument is deprecated, use `learning_rate` instead.\n",
      "  super().__init__(name, **kwargs)\n"
     ]
    },
    {
     "name": "stdout",
     "output_type": "stream",
     "text": [
      "157/157 [==============================] - 0s 965us/step\n"
     ]
    },
    {
     "name": "stderr",
     "output_type": "stream",
     "text": [
      "C:\\Users\\Gabriel\\AppData\\Roaming\\Python\\Python39\\site-packages\\keras\\optimizers\\legacy\\gradient_descent.py:114: UserWarning: The `lr` argument is deprecated, use `learning_rate` instead.\n",
      "  super().__init__(name, **kwargs)\n"
     ]
    },
    {
     "name": "stdout",
     "output_type": "stream",
     "text": [
      "157/157 [==============================] - 0s 1ms/step\n"
     ]
    },
    {
     "name": "stderr",
     "output_type": "stream",
     "text": [
      "C:\\Users\\Gabriel\\AppData\\Roaming\\Python\\Python39\\site-packages\\keras\\optimizers\\legacy\\gradient_descent.py:114: UserWarning: The `lr` argument is deprecated, use `learning_rate` instead.\n",
      "  super().__init__(name, **kwargs)\n"
     ]
    },
    {
     "name": "stdout",
     "output_type": "stream",
     "text": [
      "157/157 [==============================] - 0s 946us/step\n"
     ]
    },
    {
     "name": "stderr",
     "output_type": "stream",
     "text": [
      "C:\\Users\\Gabriel\\AppData\\Roaming\\Python\\Python39\\site-packages\\keras\\optimizers\\legacy\\gradient_descent.py:114: UserWarning: The `lr` argument is deprecated, use `learning_rate` instead.\n",
      "  super().__init__(name, **kwargs)\n"
     ]
    },
    {
     "name": "stdout",
     "output_type": "stream",
     "text": [
      "157/157 [==============================] - 0s 817us/step\n"
     ]
    },
    {
     "name": "stderr",
     "output_type": "stream",
     "text": [
      "C:\\Users\\Gabriel\\AppData\\Roaming\\Python\\Python39\\site-packages\\keras\\optimizers\\legacy\\gradient_descent.py:114: UserWarning: The `lr` argument is deprecated, use `learning_rate` instead.\n",
      "  super().__init__(name, **kwargs)\n"
     ]
    },
    {
     "name": "stdout",
     "output_type": "stream",
     "text": [
      "157/157 [==============================] - 0s 1ms/step\n"
     ]
    },
    {
     "name": "stderr",
     "output_type": "stream",
     "text": [
      "C:\\Users\\Gabriel\\AppData\\Roaming\\Python\\Python39\\site-packages\\keras\\optimizers\\legacy\\gradient_descent.py:114: UserWarning: The `lr` argument is deprecated, use `learning_rate` instead.\n",
      "  super().__init__(name, **kwargs)\n"
     ]
    },
    {
     "name": "stdout",
     "output_type": "stream",
     "text": [
      "157/157 [==============================] - 0s 1ms/step\n"
     ]
    },
    {
     "name": "stderr",
     "output_type": "stream",
     "text": [
      "C:\\Users\\Gabriel\\AppData\\Roaming\\Python\\Python39\\site-packages\\keras\\optimizers\\legacy\\gradient_descent.py:114: UserWarning: The `lr` argument is deprecated, use `learning_rate` instead.\n",
      "  super().__init__(name, **kwargs)\n"
     ]
    },
    {
     "name": "stdout",
     "output_type": "stream",
     "text": [
      "157/157 [==============================] - 0s 1ms/step\n"
     ]
    },
    {
     "name": "stderr",
     "output_type": "stream",
     "text": [
      "C:\\Users\\Gabriel\\AppData\\Roaming\\Python\\Python39\\site-packages\\keras\\optimizers\\legacy\\gradient_descent.py:114: UserWarning: The `lr` argument is deprecated, use `learning_rate` instead.\n",
      "  super().__init__(name, **kwargs)\n"
     ]
    },
    {
     "name": "stdout",
     "output_type": "stream",
     "text": [
      "157/157 [==============================] - 0s 843us/step\n"
     ]
    },
    {
     "name": "stderr",
     "output_type": "stream",
     "text": [
      "C:\\Users\\Gabriel\\AppData\\Roaming\\Python\\Python39\\site-packages\\keras\\optimizers\\legacy\\gradient_descent.py:114: UserWarning: The `lr` argument is deprecated, use `learning_rate` instead.\n",
      "  super().__init__(name, **kwargs)\n"
     ]
    },
    {
     "name": "stdout",
     "output_type": "stream",
     "text": [
      "157/157 [==============================] - 0s 927us/step\n"
     ]
    },
    {
     "name": "stderr",
     "output_type": "stream",
     "text": [
      "C:\\Users\\Gabriel\\AppData\\Roaming\\Python\\Python39\\site-packages\\keras\\optimizers\\legacy\\gradient_descent.py:114: UserWarning: The `lr` argument is deprecated, use `learning_rate` instead.\n",
      "  super().__init__(name, **kwargs)\n"
     ]
    },
    {
     "name": "stdout",
     "output_type": "stream",
     "text": [
      "157/157 [==============================] - 0s 907us/step\n"
     ]
    },
    {
     "name": "stderr",
     "output_type": "stream",
     "text": [
      "C:\\Users\\Gabriel\\AppData\\Roaming\\Python\\Python39\\site-packages\\keras\\optimizers\\legacy\\gradient_descent.py:114: UserWarning: The `lr` argument is deprecated, use `learning_rate` instead.\n",
      "  super().__init__(name, **kwargs)\n"
     ]
    },
    {
     "name": "stdout",
     "output_type": "stream",
     "text": [
      "157/157 [==============================] - 0s 829us/step\n"
     ]
    },
    {
     "name": "stderr",
     "output_type": "stream",
     "text": [
      "C:\\Users\\Gabriel\\AppData\\Roaming\\Python\\Python39\\site-packages\\keras\\optimizers\\legacy\\gradient_descent.py:114: UserWarning: The `lr` argument is deprecated, use `learning_rate` instead.\n",
      "  super().__init__(name, **kwargs)\n"
     ]
    },
    {
     "name": "stdout",
     "output_type": "stream",
     "text": [
      "157/157 [==============================] - 0s 916us/step\n"
     ]
    },
    {
     "name": "stderr",
     "output_type": "stream",
     "text": [
      "C:\\Users\\Gabriel\\AppData\\Roaming\\Python\\Python39\\site-packages\\keras\\optimizers\\legacy\\gradient_descent.py:114: UserWarning: The `lr` argument is deprecated, use `learning_rate` instead.\n",
      "  super().__init__(name, **kwargs)\n"
     ]
    },
    {
     "name": "stdout",
     "output_type": "stream",
     "text": [
      "157/157 [==============================] - 0s 867us/step\n"
     ]
    },
    {
     "name": "stderr",
     "output_type": "stream",
     "text": [
      "C:\\Users\\Gabriel\\AppData\\Roaming\\Python\\Python39\\site-packages\\keras\\optimizers\\legacy\\gradient_descent.py:114: UserWarning: The `lr` argument is deprecated, use `learning_rate` instead.\n",
      "  super().__init__(name, **kwargs)\n"
     ]
    },
    {
     "name": "stdout",
     "output_type": "stream",
     "text": [
      "157/157 [==============================] - 0s 864us/step\n"
     ]
    },
    {
     "name": "stderr",
     "output_type": "stream",
     "text": [
      "C:\\Users\\Gabriel\\AppData\\Roaming\\Python\\Python39\\site-packages\\keras\\optimizers\\legacy\\gradient_descent.py:114: UserWarning: The `lr` argument is deprecated, use `learning_rate` instead.\n",
      "  super().__init__(name, **kwargs)\n"
     ]
    },
    {
     "name": "stdout",
     "output_type": "stream",
     "text": [
      "157/157 [==============================] - 0s 845us/step\n"
     ]
    },
    {
     "name": "stderr",
     "output_type": "stream",
     "text": [
      "C:\\Users\\Gabriel\\AppData\\Roaming\\Python\\Python39\\site-packages\\keras\\optimizers\\legacy\\gradient_descent.py:114: UserWarning: The `lr` argument is deprecated, use `learning_rate` instead.\n",
      "  super().__init__(name, **kwargs)\n"
     ]
    },
    {
     "name": "stdout",
     "output_type": "stream",
     "text": [
      "157/157 [==============================] - 0s 916us/step\n"
     ]
    },
    {
     "name": "stderr",
     "output_type": "stream",
     "text": [
      "C:\\Users\\Gabriel\\AppData\\Roaming\\Python\\Python39\\site-packages\\keras\\optimizers\\legacy\\gradient_descent.py:114: UserWarning: The `lr` argument is deprecated, use `learning_rate` instead.\n",
      "  super().__init__(name, **kwargs)\n"
     ]
    },
    {
     "name": "stdout",
     "output_type": "stream",
     "text": [
      "157/157 [==============================] - 0s 910us/step\n"
     ]
    },
    {
     "name": "stderr",
     "output_type": "stream",
     "text": [
      "C:\\Users\\Gabriel\\AppData\\Roaming\\Python\\Python39\\site-packages\\keras\\optimizers\\legacy\\gradient_descent.py:114: UserWarning: The `lr` argument is deprecated, use `learning_rate` instead.\n",
      "  super().__init__(name, **kwargs)\n"
     ]
    },
    {
     "name": "stdout",
     "output_type": "stream",
     "text": [
      "157/157 [==============================] - 0s 950us/step\n"
     ]
    },
    {
     "name": "stderr",
     "output_type": "stream",
     "text": [
      "C:\\Users\\Gabriel\\AppData\\Roaming\\Python\\Python39\\site-packages\\keras\\optimizers\\legacy\\gradient_descent.py:114: UserWarning: The `lr` argument is deprecated, use `learning_rate` instead.\n",
      "  super().__init__(name, **kwargs)\n"
     ]
    },
    {
     "name": "stdout",
     "output_type": "stream",
     "text": [
      "157/157 [==============================] - 0s 787us/step\n"
     ]
    },
    {
     "name": "stderr",
     "output_type": "stream",
     "text": [
      "C:\\Users\\Gabriel\\AppData\\Roaming\\Python\\Python39\\site-packages\\keras\\optimizers\\legacy\\gradient_descent.py:114: UserWarning: The `lr` argument is deprecated, use `learning_rate` instead.\n",
      "  super().__init__(name, **kwargs)\n"
     ]
    },
    {
     "name": "stdout",
     "output_type": "stream",
     "text": [
      "157/157 [==============================] - 0s 879us/step\n"
     ]
    },
    {
     "name": "stderr",
     "output_type": "stream",
     "text": [
      "C:\\Users\\Gabriel\\AppData\\Roaming\\Python\\Python39\\site-packages\\keras\\optimizers\\legacy\\gradient_descent.py:114: UserWarning: The `lr` argument is deprecated, use `learning_rate` instead.\n",
      "  super().__init__(name, **kwargs)\n"
     ]
    },
    {
     "name": "stdout",
     "output_type": "stream",
     "text": [
      "157/157 [==============================] - 0s 877us/step\n"
     ]
    },
    {
     "name": "stderr",
     "output_type": "stream",
     "text": [
      "C:\\Users\\Gabriel\\AppData\\Roaming\\Python\\Python39\\site-packages\\keras\\optimizers\\legacy\\gradient_descent.py:114: UserWarning: The `lr` argument is deprecated, use `learning_rate` instead.\n",
      "  super().__init__(name, **kwargs)\n"
     ]
    },
    {
     "name": "stdout",
     "output_type": "stream",
     "text": [
      "157/157 [==============================] - 0s 890us/step\n"
     ]
    },
    {
     "name": "stderr",
     "output_type": "stream",
     "text": [
      "C:\\Users\\Gabriel\\AppData\\Roaming\\Python\\Python39\\site-packages\\keras\\optimizers\\legacy\\gradient_descent.py:114: UserWarning: The `lr` argument is deprecated, use `learning_rate` instead.\n",
      "  super().__init__(name, **kwargs)\n"
     ]
    },
    {
     "name": "stdout",
     "output_type": "stream",
     "text": [
      "157/157 [==============================] - 0s 896us/step\n"
     ]
    },
    {
     "name": "stderr",
     "output_type": "stream",
     "text": [
      "C:\\Users\\Gabriel\\AppData\\Roaming\\Python\\Python39\\site-packages\\keras\\optimizers\\legacy\\gradient_descent.py:114: UserWarning: The `lr` argument is deprecated, use `learning_rate` instead.\n",
      "  super().__init__(name, **kwargs)\n"
     ]
    },
    {
     "name": "stdout",
     "output_type": "stream",
     "text": [
      "157/157 [==============================] - 0s 826us/step\n"
     ]
    },
    {
     "name": "stderr",
     "output_type": "stream",
     "text": [
      "C:\\Users\\Gabriel\\AppData\\Roaming\\Python\\Python39\\site-packages\\keras\\optimizers\\legacy\\gradient_descent.py:114: UserWarning: The `lr` argument is deprecated, use `learning_rate` instead.\n",
      "  super().__init__(name, **kwargs)\n"
     ]
    },
    {
     "name": "stdout",
     "output_type": "stream",
     "text": [
      "157/157 [==============================] - 0s 852us/step\n"
     ]
    },
    {
     "name": "stderr",
     "output_type": "stream",
     "text": [
      "C:\\Users\\Gabriel\\AppData\\Roaming\\Python\\Python39\\site-packages\\keras\\optimizers\\legacy\\gradient_descent.py:114: UserWarning: The `lr` argument is deprecated, use `learning_rate` instead.\n",
      "  super().__init__(name, **kwargs)\n"
     ]
    },
    {
     "name": "stdout",
     "output_type": "stream",
     "text": [
      "157/157 [==============================] - 0s 897us/step\n"
     ]
    },
    {
     "name": "stderr",
     "output_type": "stream",
     "text": [
      "C:\\Users\\Gabriel\\AppData\\Roaming\\Python\\Python39\\site-packages\\keras\\optimizers\\legacy\\gradient_descent.py:114: UserWarning: The `lr` argument is deprecated, use `learning_rate` instead.\n",
      "  super().__init__(name, **kwargs)\n"
     ]
    },
    {
     "name": "stdout",
     "output_type": "stream",
     "text": [
      "157/157 [==============================] - 0s 874us/step\n"
     ]
    },
    {
     "name": "stderr",
     "output_type": "stream",
     "text": [
      "C:\\Users\\Gabriel\\AppData\\Roaming\\Python\\Python39\\site-packages\\keras\\optimizers\\legacy\\gradient_descent.py:114: UserWarning: The `lr` argument is deprecated, use `learning_rate` instead.\n",
      "  super().__init__(name, **kwargs)\n"
     ]
    },
    {
     "name": "stdout",
     "output_type": "stream",
     "text": [
      "157/157 [==============================] - 0s 889us/step\n"
     ]
    },
    {
     "name": "stderr",
     "output_type": "stream",
     "text": [
      "C:\\Users\\Gabriel\\AppData\\Roaming\\Python\\Python39\\site-packages\\keras\\optimizers\\legacy\\gradient_descent.py:114: UserWarning: The `lr` argument is deprecated, use `learning_rate` instead.\n",
      "  super().__init__(name, **kwargs)\n"
     ]
    },
    {
     "name": "stdout",
     "output_type": "stream",
     "text": [
      "157/157 [==============================] - 0s 785us/step\n"
     ]
    },
    {
     "name": "stderr",
     "output_type": "stream",
     "text": [
      "C:\\Users\\Gabriel\\AppData\\Roaming\\Python\\Python39\\site-packages\\keras\\optimizers\\legacy\\gradient_descent.py:114: UserWarning: The `lr` argument is deprecated, use `learning_rate` instead.\n",
      "  super().__init__(name, **kwargs)\n"
     ]
    },
    {
     "name": "stdout",
     "output_type": "stream",
     "text": [
      "157/157 [==============================] - 0s 921us/step\n"
     ]
    },
    {
     "name": "stderr",
     "output_type": "stream",
     "text": [
      "C:\\Users\\Gabriel\\AppData\\Roaming\\Python\\Python39\\site-packages\\keras\\optimizers\\legacy\\gradient_descent.py:114: UserWarning: The `lr` argument is deprecated, use `learning_rate` instead.\n",
      "  super().__init__(name, **kwargs)\n"
     ]
    },
    {
     "name": "stdout",
     "output_type": "stream",
     "text": [
      "157/157 [==============================] - 0s 1ms/step\n"
     ]
    },
    {
     "name": "stderr",
     "output_type": "stream",
     "text": [
      "C:\\Users\\Gabriel\\AppData\\Roaming\\Python\\Python39\\site-packages\\keras\\optimizers\\legacy\\gradient_descent.py:114: UserWarning: The `lr` argument is deprecated, use `learning_rate` instead.\n",
      "  super().__init__(name, **kwargs)\n"
     ]
    },
    {
     "name": "stdout",
     "output_type": "stream",
     "text": [
      "157/157 [==============================] - 0s 901us/step\n"
     ]
    },
    {
     "name": "stderr",
     "output_type": "stream",
     "text": [
      "C:\\Users\\Gabriel\\AppData\\Roaming\\Python\\Python39\\site-packages\\keras\\optimizers\\legacy\\gradient_descent.py:114: UserWarning: The `lr` argument is deprecated, use `learning_rate` instead.\n",
      "  super().__init__(name, **kwargs)\n"
     ]
    },
    {
     "name": "stdout",
     "output_type": "stream",
     "text": [
      "157/157 [==============================] - 0s 803us/step\n"
     ]
    },
    {
     "name": "stderr",
     "output_type": "stream",
     "text": [
      "C:\\Users\\Gabriel\\AppData\\Roaming\\Python\\Python39\\site-packages\\keras\\optimizers\\legacy\\gradient_descent.py:114: UserWarning: The `lr` argument is deprecated, use `learning_rate` instead.\n",
      "  super().__init__(name, **kwargs)\n"
     ]
    },
    {
     "name": "stdout",
     "output_type": "stream",
     "text": [
      "157/157 [==============================] - 0s 873us/step\n"
     ]
    },
    {
     "name": "stderr",
     "output_type": "stream",
     "text": [
      "C:\\Users\\Gabriel\\AppData\\Roaming\\Python\\Python39\\site-packages\\keras\\optimizers\\legacy\\gradient_descent.py:114: UserWarning: The `lr` argument is deprecated, use `learning_rate` instead.\n",
      "  super().__init__(name, **kwargs)\n"
     ]
    },
    {
     "name": "stdout",
     "output_type": "stream",
     "text": [
      "157/157 [==============================] - 0s 839us/step\n"
     ]
    },
    {
     "name": "stderr",
     "output_type": "stream",
     "text": [
      "C:\\Users\\Gabriel\\AppData\\Roaming\\Python\\Python39\\site-packages\\keras\\optimizers\\legacy\\gradient_descent.py:114: UserWarning: The `lr` argument is deprecated, use `learning_rate` instead.\n",
      "  super().__init__(name, **kwargs)\n"
     ]
    },
    {
     "name": "stdout",
     "output_type": "stream",
     "text": [
      "157/157 [==============================] - 0s 881us/step\n"
     ]
    },
    {
     "name": "stderr",
     "output_type": "stream",
     "text": [
      "C:\\Users\\Gabriel\\AppData\\Roaming\\Python\\Python39\\site-packages\\keras\\optimizers\\legacy\\gradient_descent.py:114: UserWarning: The `lr` argument is deprecated, use `learning_rate` instead.\n",
      "  super().__init__(name, **kwargs)\n"
     ]
    },
    {
     "name": "stdout",
     "output_type": "stream",
     "text": [
      "157/157 [==============================] - 0s 871us/step\n"
     ]
    },
    {
     "name": "stderr",
     "output_type": "stream",
     "text": [
      "C:\\Users\\Gabriel\\AppData\\Roaming\\Python\\Python39\\site-packages\\keras\\optimizers\\legacy\\gradient_descent.py:114: UserWarning: The `lr` argument is deprecated, use `learning_rate` instead.\n",
      "  super().__init__(name, **kwargs)\n"
     ]
    },
    {
     "name": "stdout",
     "output_type": "stream",
     "text": [
      "157/157 [==============================] - 0s 902us/step\n"
     ]
    },
    {
     "name": "stderr",
     "output_type": "stream",
     "text": [
      "C:\\Users\\Gabriel\\AppData\\Roaming\\Python\\Python39\\site-packages\\keras\\optimizers\\legacy\\gradient_descent.py:114: UserWarning: The `lr` argument is deprecated, use `learning_rate` instead.\n",
      "  super().__init__(name, **kwargs)\n"
     ]
    },
    {
     "name": "stdout",
     "output_type": "stream",
     "text": [
      "157/157 [==============================] - 0s 908us/step\n"
     ]
    },
    {
     "name": "stderr",
     "output_type": "stream",
     "text": [
      "C:\\Users\\Gabriel\\AppData\\Roaming\\Python\\Python39\\site-packages\\keras\\optimizers\\legacy\\gradient_descent.py:114: UserWarning: The `lr` argument is deprecated, use `learning_rate` instead.\n",
      "  super().__init__(name, **kwargs)\n"
     ]
    },
    {
     "name": "stdout",
     "output_type": "stream",
     "text": [
      "157/157 [==============================] - 0s 901us/step\n"
     ]
    },
    {
     "name": "stderr",
     "output_type": "stream",
     "text": [
      "C:\\Users\\Gabriel\\AppData\\Roaming\\Python\\Python39\\site-packages\\keras\\optimizers\\legacy\\gradient_descent.py:114: UserWarning: The `lr` argument is deprecated, use `learning_rate` instead.\n",
      "  super().__init__(name, **kwargs)\n"
     ]
    },
    {
     "name": "stdout",
     "output_type": "stream",
     "text": [
      "157/157 [==============================] - 0s 906us/step\n"
     ]
    },
    {
     "name": "stderr",
     "output_type": "stream",
     "text": [
      "C:\\Users\\Gabriel\\AppData\\Roaming\\Python\\Python39\\site-packages\\keras\\optimizers\\legacy\\gradient_descent.py:114: UserWarning: The `lr` argument is deprecated, use `learning_rate` instead.\n",
      "  super().__init__(name, **kwargs)\n"
     ]
    },
    {
     "name": "stdout",
     "output_type": "stream",
     "text": [
      "157/157 [==============================] - 0s 846us/step\n"
     ]
    },
    {
     "name": "stderr",
     "output_type": "stream",
     "text": [
      "C:\\Users\\Gabriel\\AppData\\Roaming\\Python\\Python39\\site-packages\\keras\\optimizers\\legacy\\gradient_descent.py:114: UserWarning: The `lr` argument is deprecated, use `learning_rate` instead.\n",
      "  super().__init__(name, **kwargs)\n"
     ]
    },
    {
     "name": "stdout",
     "output_type": "stream",
     "text": [
      "157/157 [==============================] - 0s 900us/step\n"
     ]
    },
    {
     "name": "stderr",
     "output_type": "stream",
     "text": [
      "C:\\Users\\Gabriel\\AppData\\Roaming\\Python\\Python39\\site-packages\\keras\\optimizers\\legacy\\gradient_descent.py:114: UserWarning: The `lr` argument is deprecated, use `learning_rate` instead.\n",
      "  super().__init__(name, **kwargs)\n"
     ]
    },
    {
     "name": "stdout",
     "output_type": "stream",
     "text": [
      "157/157 [==============================] - 0s 883us/step\n"
     ]
    },
    {
     "name": "stderr",
     "output_type": "stream",
     "text": [
      "C:\\Users\\Gabriel\\AppData\\Roaming\\Python\\Python39\\site-packages\\keras\\optimizers\\legacy\\gradient_descent.py:114: UserWarning: The `lr` argument is deprecated, use `learning_rate` instead.\n",
      "  super().__init__(name, **kwargs)\n"
     ]
    },
    {
     "name": "stdout",
     "output_type": "stream",
     "text": [
      "157/157 [==============================] - 0s 940us/step\n"
     ]
    },
    {
     "name": "stderr",
     "output_type": "stream",
     "text": [
      "C:\\Users\\Gabriel\\AppData\\Roaming\\Python\\Python39\\site-packages\\keras\\optimizers\\legacy\\gradient_descent.py:114: UserWarning: The `lr` argument is deprecated, use `learning_rate` instead.\n",
      "  super().__init__(name, **kwargs)\n"
     ]
    },
    {
     "name": "stdout",
     "output_type": "stream",
     "text": [
      "157/157 [==============================] - 0s 885us/step\n"
     ]
    },
    {
     "name": "stderr",
     "output_type": "stream",
     "text": [
      "C:\\Users\\Gabriel\\AppData\\Roaming\\Python\\Python39\\site-packages\\keras\\optimizers\\legacy\\gradient_descent.py:114: UserWarning: The `lr` argument is deprecated, use `learning_rate` instead.\n",
      "  super().__init__(name, **kwargs)\n"
     ]
    },
    {
     "name": "stdout",
     "output_type": "stream",
     "text": [
      "157/157 [==============================] - 0s 864us/step\n"
     ]
    },
    {
     "name": "stderr",
     "output_type": "stream",
     "text": [
      "C:\\Users\\Gabriel\\AppData\\Roaming\\Python\\Python39\\site-packages\\keras\\optimizers\\legacy\\gradient_descent.py:114: UserWarning: The `lr` argument is deprecated, use `learning_rate` instead.\n",
      "  super().__init__(name, **kwargs)\n"
     ]
    },
    {
     "name": "stdout",
     "output_type": "stream",
     "text": [
      "157/157 [==============================] - 0s 894us/step\n"
     ]
    },
    {
     "name": "stderr",
     "output_type": "stream",
     "text": [
      "C:\\Users\\Gabriel\\AppData\\Roaming\\Python\\Python39\\site-packages\\keras\\optimizers\\legacy\\gradient_descent.py:114: UserWarning: The `lr` argument is deprecated, use `learning_rate` instead.\n",
      "  super().__init__(name, **kwargs)\n"
     ]
    },
    {
     "name": "stdout",
     "output_type": "stream",
     "text": [
      "157/157 [==============================] - 0s 846us/step\n"
     ]
    },
    {
     "name": "stderr",
     "output_type": "stream",
     "text": [
      "C:\\Users\\Gabriel\\AppData\\Roaming\\Python\\Python39\\site-packages\\keras\\optimizers\\legacy\\gradient_descent.py:114: UserWarning: The `lr` argument is deprecated, use `learning_rate` instead.\n",
      "  super().__init__(name, **kwargs)\n"
     ]
    },
    {
     "name": "stdout",
     "output_type": "stream",
     "text": [
      "157/157 [==============================] - 0s 875us/step\n"
     ]
    },
    {
     "name": "stderr",
     "output_type": "stream",
     "text": [
      "C:\\Users\\Gabriel\\AppData\\Roaming\\Python\\Python39\\site-packages\\keras\\optimizers\\legacy\\gradient_descent.py:114: UserWarning: The `lr` argument is deprecated, use `learning_rate` instead.\n",
      "  super().__init__(name, **kwargs)\n"
     ]
    },
    {
     "name": "stdout",
     "output_type": "stream",
     "text": [
      "157/157 [==============================] - 0s 873us/step\n"
     ]
    },
    {
     "name": "stderr",
     "output_type": "stream",
     "text": [
      "C:\\Users\\Gabriel\\AppData\\Roaming\\Python\\Python39\\site-packages\\keras\\optimizers\\legacy\\gradient_descent.py:114: UserWarning: The `lr` argument is deprecated, use `learning_rate` instead.\n",
      "  super().__init__(name, **kwargs)\n"
     ]
    },
    {
     "name": "stdout",
     "output_type": "stream",
     "text": [
      "157/157 [==============================] - 0s 740us/step\n"
     ]
    },
    {
     "name": "stderr",
     "output_type": "stream",
     "text": [
      "C:\\Users\\Gabriel\\AppData\\Roaming\\Python\\Python39\\site-packages\\keras\\optimizers\\legacy\\gradient_descent.py:114: UserWarning: The `lr` argument is deprecated, use `learning_rate` instead.\n",
      "  super().__init__(name, **kwargs)\n"
     ]
    },
    {
     "name": "stdout",
     "output_type": "stream",
     "text": [
      "157/157 [==============================] - 0s 905us/step\n",
      "52/52 [==============================] - 0s 926us/step\n",
      "Accuracy on test set: 0.8872727272727273\n"
     ]
    }
   ],
   "source": [
    "print(\"Training with genetic algorithm...\")\n",
    "ga_weights = genetic_algorithm(model, pop_size=50, num_generations=100)\n",
    "model.set_weights(ga_weights)\n",
    "print(\"Accuracy on test set:\", accuracy_score(y_test, model.predict(X_test).round()))"
   ]
  },
  {
   "cell_type": "code",
   "execution_count": 26,
   "id": "8c943639",
   "metadata": {},
   "outputs": [],
   "source": [
    "def cultural_algorithm(model, pop_size=50, num_generations=100, mutation_rate=0.1, num_cultures=10, culture_range=0.1):\n",
    "# Initialize the cultures with random weights\n",
    "    population=[]\n",
    "    population = [model.get_weights() for i in range(pop_size)]\n",
    "    cultures = [model.get_weights() for i in range(num_cultures)]\n",
    "    for gen in range(num_generations):\n",
    "        # Evaluate the fitness of each candidate solution in each culture\n",
    "        fitness = [[] for i in range(num_cultures)]\n",
    "        for i in range(pop_size):\n",
    "#             print(population)\n",
    "            weights = population[i]\n",
    "            print(weights)\n",
    "            culture_index = np.argmin([np.linalg.norm(weights - culture_weights) for culture_weights in cultures])\n",
    "            fitness[culture_index].append(fitness_function(model, weights))\n",
    "    \n",
    "        # Print the best fitness in each culture in the current generation\n",
    "        for i in range(num_cultures):\n",
    "            best_fitness = max(fitness[i])\n",
    "            print(f\"Generation {gen}: Culture {i}: Best Fitness = {best_fitness}\")\n",
    "    \n",
    "        # Update the cultures by selecting the best candidate solution in each culture\n",
    "        for i in range(num_cultures):\n",
    "            culture_fitness = fitness[i]\n",
    "            best_index = np.argmax(culture_fitness)\n",
    "            best_weights = population[best_index]\n",
    "            cultures[i] = best_weights\n",
    "    \n",
    "        # Select the parents for crossover using roulette wheel selection\n",
    "        fitness_sum = sum([len(fitness[i]) for i in range(num_cultures)])\n",
    "        parents = []\n",
    "        for i in range(pop_size):\n",
    "            cumulative_fitness = 0\n",
    "            for j in range(num_cultures):\n",
    "                cumulative_fitness += len(fitness[j])\n",
    "                if random() < (cumulative_fitness / fitness_sum):\n",
    "                    culture_weights = cultures[j]\n",
    "                    candidate_index = np.random.choice(len(fitness[j]))\n",
    "                    candidate_weights = population[candidate_index]\n",
    "                    parents.append((candidate_weights, culture_weights))\n",
    "                    break\n",
    "    \n",
    "        # Generate the offspring through single-point crossover\n",
    "        offspring = []\n",
    "        for i in range(0, pop_size, 2):\n",
    "            parent1, culture1 = parents[i]\n",
    "            parent2, culture2 = parents[i+1]\n",
    "            crossover_point = np.random.randint(0, len(parent1))\n",
    "            child1 = np.concatenate((parent1[:crossover_point], parent2[crossover_point:]))\n",
    "            child2 = np.concatenate((parent2[:crossover_point], parent1[crossover_point:]))\n",
    "            offspring.append(child1)\n",
    "            offspring.append(child2)\n",
    "    \n",
    "        # Mutate the offspring by randomly perturbing each weight\n",
    "        for i in range(pop_size):\n",
    "            for j in range(len(offspring[i])):\n",
    "                if random() < mutation_rate:\n",
    "                    offspring[i][j] += uniform(-culture_range, culture_range)\n",
    "    \n",
    "        # Combine the parents and offspring\n",
    "        combined_population = parents + offspring\n",
    "    \n",
    "        # Select the next generation using elitist truncation selection\n",
    "        combined_fitness = [fitness_function(model, weights) for weights in combined_population]\n",
    "        sorted_indices = np.argsort(combined_fitness)[::-1]\n",
    "        population = [combined_population[i] for i in sorted_indices[:pop_size]]\n",
    "    \n",
    "    # Return the best weights found by the cultural algorithm\n",
    "    best_weights = population[np.argmax([fitness_function(model,weights) for weights in population])]\n",
    "    return best_weights\n",
    "\n"
   ]
  },
  {
   "cell_type": "code",
   "execution_count": 27,
   "id": "c894476d",
   "metadata": {
    "scrolled": true
   },
   "outputs": [
    {
     "name": "stdout",
     "output_type": "stream",
     "text": [
      "Training with cultural algorithm...\n",
      "[array([[ 0.08079499, -0.17892185,  0.24507862,  0.44195843,  0.25272733,\n",
      "        -0.3902816 ,  0.3129056 ,  0.00383943, -0.42533424, -0.01766419],\n",
      "       [ 0.31299204,  0.3723052 , -0.13920173, -0.4314954 ,  0.3888772 ,\n",
      "         0.15908253,  0.4265927 ,  0.3585871 , -0.08176398, -0.29027858],\n",
      "       [-0.33459687, -0.00365859,  0.03485316, -0.3769537 ,  0.34256124,\n",
      "        -0.25831634,  0.12813455, -0.3957146 , -0.22756223, -0.0232029 ],\n",
      "       [ 0.07886583, -0.43907574,  0.41251856, -0.04720321, -0.3805081 ,\n",
      "         0.16496742, -0.4309401 , -0.14021817,  0.11678988,  0.24636418],\n",
      "       [-0.04613483,  0.41065305, -0.07113764, -0.36095828,  0.2435475 ,\n",
      "        -0.06932011, -0.32850406, -0.11865848, -0.24952112, -0.16288367],\n",
      "       [ 0.21725422, -0.33795893,  0.08155227, -0.08832052, -0.37042627,\n",
      "        -0.02079052,  0.12709361, -0.02630511, -0.18701598,  0.32419097],\n",
      "       [ 0.1354571 ,  0.26101613, -0.20333639, -0.24596362,  0.25938332,\n",
      "        -0.0010123 ,  0.16793764, -0.12992254, -0.29297513,  0.19700891],\n",
      "       [-0.20398882,  0.03415018, -0.34439987,  0.04853237, -0.19560882,\n",
      "        -0.4364853 , -0.27496672,  0.21024871,  0.27816737,  0.06426996],\n",
      "       [-0.03915074, -0.12273973,  0.290739  , -0.26167125, -0.01763669,\n",
      "         0.3187163 ,  0.28459883,  0.20490688,  0.17317832, -0.02628422],\n",
      "       [-0.03313512,  0.43926197, -0.22517502, -0.24175015,  0.19358933,\n",
      "         0.21872681, -0.03963417,  0.11957884, -0.17093751,  0.39831263],\n",
      "       [ 0.14346361,  0.11231661, -0.44425127, -0.14518899,  0.3701403 ,\n",
      "        -0.18838516, -0.44173366,  0.37578475,  0.22906989,  0.32176554],\n",
      "       [ 0.43854433, -0.3774944 , -0.16096058, -0.07211441,  0.3401478 ,\n",
      "         0.4222446 , -0.3375306 ,  0.05523306,  0.39680624,  0.35936677],\n",
      "       [ 0.17138278, -0.13733634, -0.3139276 ,  0.23336416, -0.33555743,\n",
      "         0.09157842, -0.16790044, -0.43305904,  0.3777061 , -0.10660741],\n",
      "       [-0.18003052,  0.13933128, -0.14017999,  0.33899146, -0.36594647,\n",
      "        -0.3460519 , -0.42374575,  0.19962984, -0.28222644,  0.04094043],\n",
      "       [ 0.30720323,  0.15804732,  0.38159245,  0.13258153, -0.41828254,\n",
      "         0.39982164, -0.3999944 , -0.20763846, -0.3294371 , -0.34487543],\n",
      "       [ 0.29317802,  0.42027885,  0.23597932, -0.01552871,  0.05071455,\n",
      "         0.41645855, -0.07208905,  0.06231928,  0.09041387,  0.252344  ],\n",
      "       [ 0.35033137,  0.30054283,  0.16717088, -0.02002475, -0.00194311,\n",
      "        -0.14051268, -0.39857394,  0.02341154, -0.31640565, -0.0831241 ],\n",
      "       [ 0.09062016,  0.30471092,  0.33699578,  0.07103443,  0.34893632,\n",
      "         0.15373605,  0.11794251,  0.31127626, -0.0325022 , -0.14593813],\n",
      "       [ 0.41837788,  0.2579019 ,  0.17049062, -0.13480401, -0.27215326,\n",
      "        -0.02932364,  0.06217909,  0.39037693, -0.4231397 , -0.25139418],\n",
      "       [-0.3745054 , -0.22770126, -0.3218777 ,  0.14973491, -0.21637972,\n",
      "        -0.02953389,  0.0877921 , -0.33141744, -0.43968603, -0.4353616 ]],\n",
      "      dtype=float32), array([0., 0., 0., 0., 0., 0., 0., 0., 0., 0.], dtype=float32), array([[ 0.0218066 ],\n",
      "       [-0.7181843 ],\n",
      "       [ 0.4687944 ],\n",
      "       [ 0.5284917 ],\n",
      "       [ 0.38843006],\n",
      "       [ 0.34027892],\n",
      "       [ 0.14624411],\n",
      "       [ 0.4073084 ],\n",
      "       [-0.08127481],\n",
      "       [ 0.47556335]], dtype=float32), array([0.], dtype=float32)]\n"
     ]
    },
    {
     "ename": "TypeError",
     "evalue": "unsupported operand type(s) for -: 'list' and 'list'",
     "output_type": "error",
     "traceback": [
      "\u001b[1;31m---------------------------------------------------------------------------\u001b[0m",
      "\u001b[1;31mTypeError\u001b[0m                                 Traceback (most recent call last)",
      "Input \u001b[1;32mIn [27]\u001b[0m, in \u001b[0;36m<cell line: 2>\u001b[1;34m()\u001b[0m\n\u001b[0;32m      1\u001b[0m \u001b[38;5;28mprint\u001b[39m(\u001b[38;5;124m\"\u001b[39m\u001b[38;5;124mTraining with cultural algorithm...\u001b[39m\u001b[38;5;124m\"\u001b[39m)\n\u001b[1;32m----> 2\u001b[0m cultural_weights \u001b[38;5;241m=\u001b[39m \u001b[43mcultural_algorithm\u001b[49m\u001b[43m(\u001b[49m\u001b[43mmodel\u001b[49m\u001b[43m,\u001b[49m\u001b[43m \u001b[49m\u001b[43mpop_size\u001b[49m\u001b[38;5;241;43m=\u001b[39;49m\u001b[38;5;241;43m50\u001b[39;49m\u001b[43m,\u001b[49m\u001b[43m \u001b[49m\u001b[43mnum_generations\u001b[49m\u001b[38;5;241;43m=\u001b[39;49m\u001b[38;5;241;43m100\u001b[39;49m\u001b[43m)\u001b[49m\n\u001b[0;32m      3\u001b[0m model\u001b[38;5;241m.\u001b[39mset_weights(cultural_weights)\n\u001b[0;32m      4\u001b[0m \u001b[38;5;28mprint\u001b[39m(\u001b[38;5;124m\"\u001b[39m\u001b[38;5;124mAccuracy on test set:\u001b[39m\u001b[38;5;124m\"\u001b[39m, accuracy_score(y_test, model\u001b[38;5;241m.\u001b[39mpredict(X_test)\u001b[38;5;241m.\u001b[39mround()))\n",
      "Input \u001b[1;32mIn [26]\u001b[0m, in \u001b[0;36mcultural_algorithm\u001b[1;34m(model, pop_size, num_generations, mutation_rate, num_cultures, culture_range)\u001b[0m\n\u001b[0;32m     11\u001b[0m     weights \u001b[38;5;241m=\u001b[39m population[i]\n\u001b[0;32m     12\u001b[0m     \u001b[38;5;28mprint\u001b[39m(weights)\n\u001b[1;32m---> 13\u001b[0m     culture_index \u001b[38;5;241m=\u001b[39m np\u001b[38;5;241m.\u001b[39margmin([np\u001b[38;5;241m.\u001b[39mlinalg\u001b[38;5;241m.\u001b[39mnorm(weights \u001b[38;5;241m-\u001b[39m culture_weights) \u001b[38;5;28;01mfor\u001b[39;00m culture_weights \u001b[38;5;129;01min\u001b[39;00m cultures])\n\u001b[0;32m     14\u001b[0m     fitness[culture_index]\u001b[38;5;241m.\u001b[39mappend(fitness_function(model, weights))\n\u001b[0;32m     16\u001b[0m \u001b[38;5;66;03m# Print the best fitness in each culture in the current generation\u001b[39;00m\n",
      "Input \u001b[1;32mIn [26]\u001b[0m, in \u001b[0;36m<listcomp>\u001b[1;34m(.0)\u001b[0m\n\u001b[0;32m     11\u001b[0m     weights \u001b[38;5;241m=\u001b[39m population[i]\n\u001b[0;32m     12\u001b[0m     \u001b[38;5;28mprint\u001b[39m(weights)\n\u001b[1;32m---> 13\u001b[0m     culture_index \u001b[38;5;241m=\u001b[39m np\u001b[38;5;241m.\u001b[39margmin([np\u001b[38;5;241m.\u001b[39mlinalg\u001b[38;5;241m.\u001b[39mnorm(\u001b[43mweights\u001b[49m\u001b[43m \u001b[49m\u001b[38;5;241;43m-\u001b[39;49m\u001b[43m \u001b[49m\u001b[43mculture_weights\u001b[49m) \u001b[38;5;28;01mfor\u001b[39;00m culture_weights \u001b[38;5;129;01min\u001b[39;00m cultures])\n\u001b[0;32m     14\u001b[0m     fitness[culture_index]\u001b[38;5;241m.\u001b[39mappend(fitness_function(model, weights))\n\u001b[0;32m     16\u001b[0m \u001b[38;5;66;03m# Print the best fitness in each culture in the current generation\u001b[39;00m\n",
      "\u001b[1;31mTypeError\u001b[0m: unsupported operand type(s) for -: 'list' and 'list'"
     ]
    }
   ],
   "source": [
    "print(\"Training with cultural algorithm...\")\n",
    "cultural_weights = cultural_algorithm(model, pop_size=50, num_generations=100)\n",
    "model.set_weights(cultural_weights)\n",
    "print(\"Accuracy on test set:\", accuracy_score(y_test, model.predict(X_test).round()))"
   ]
  },
  {
   "cell_type": "code",
   "execution_count": 123,
   "id": "1ff15ebd",
   "metadata": {},
   "outputs": [],
   "source": [
    "def ant_colony_optimization(model, pop_size=50, num_ants=50, num_generations=100, alpha=1.0, beta=3.0, evaporation_rate=0.1):\n",
    "# Initialize the pheromone matrix with equal values\n",
    "    num_weights = sum([len(layer.get_weights()[0].flatten()) for layer in model.layers])\n",
    "    pheromone = np.ones(num_weights)\n",
    "    \n",
    "    for gen in range(num_generations):\n",
    "        # Initialize the ant solutions and their fitness values\n",
    "        solutions = []\n",
    "        fitness = []\n",
    "        for ant in range(num_ants):\n",
    "            # Generate a candidate solution by applying a random perturbation to the pheromone levels\n",
    "            perturbation = np.random.normal(scale=1.0, size=num_weights)\n",
    "            candidate_weights = model.get_weights() + pheromone *perturbation\n",
    "            solutions.append(candidate_weights)\n",
    "    \n",
    "            # Evaluate the fitness of the candidate solution\n",
    "            fitness.append(fitness_function(model, candidate_weights))\n",
    "    \n",
    "        # Print the best fitness in the current generation\n",
    "        best_fitness = max(fitness)\n",
    "        print(f\"Generation {gen}: Best Fitness = {best_fitness}\")\n",
    "    \n",
    "        # Update the pheromone matrix by depositing pheromone proportional to the fitness of each solution\n",
    "        deposit = [fitness[i] / sum(fitness) for i in range(num_ants)]\n",
    "        pheromone *= (1 - evaporation_rate)\n",
    "        for i in range(num_ants):\n",
    "            weight_indices = 0\n",
    "            for layer in model.layers:\n",
    "                layer_weights = layer.get_weights()\n",
    "                for j in range(len(layer_weights)):\n",
    "                    shape = layer_weights[j].shape\n",
    "                    num_weights = shape[0] * shape[1]\n",
    "                    pheromone_indices = range(weight_indices, weight_indices + num_weights)\n",
    "                    pheromone[pheromone_indices] += alpha * deposit[i] * solutions[i][weight_indices:weight_indices+num_weights].flatten()\n",
    "                    weight_indices += num_weights\n",
    "    \n",
    "    # Return the best weights found by the ant colony optimization algorithm\n",
    "    best_weights = solutions[np.argmax(fitness)]\n",
    "    return best_weights"
   ]
  },
  {
   "cell_type": "code",
   "execution_count": 124,
   "id": "c0daf835",
   "metadata": {
    "scrolled": true
   },
   "outputs": [
    {
     "name": "stdout",
     "output_type": "stream",
     "text": [
      "Training with ant colony optimization...\n"
     ]
    },
    {
     "name": "stderr",
     "output_type": "stream",
     "text": [
      "C:\\Users\\Gabriel\\AppData\\Roaming\\Python\\Python39\\site-packages\\keras\\optimizers\\legacy\\gradient_descent.py:114: UserWarning: The `lr` argument is deprecated, use `learning_rate` instead.\n",
      "  super().__init__(name, **kwargs)\n"
     ]
    },
    {
     "name": "stdout",
     "output_type": "stream",
     "text": [
      "157/157 [==============================] - 0s 1ms/step\n"
     ]
    },
    {
     "name": "stderr",
     "output_type": "stream",
     "text": [
      "C:\\Users\\Gabriel\\AppData\\Roaming\\Python\\Python39\\site-packages\\keras\\optimizers\\legacy\\gradient_descent.py:114: UserWarning: The `lr` argument is deprecated, use `learning_rate` instead.\n",
      "  super().__init__(name, **kwargs)\n"
     ]
    },
    {
     "name": "stdout",
     "output_type": "stream",
     "text": [
      "157/157 [==============================] - 0s 1ms/step\n"
     ]
    },
    {
     "name": "stderr",
     "output_type": "stream",
     "text": [
      "C:\\Users\\Gabriel\\AppData\\Roaming\\Python\\Python39\\site-packages\\keras\\optimizers\\legacy\\gradient_descent.py:114: UserWarning: The `lr` argument is deprecated, use `learning_rate` instead.\n",
      "  super().__init__(name, **kwargs)\n"
     ]
    },
    {
     "name": "stdout",
     "output_type": "stream",
     "text": [
      "157/157 [==============================] - 0s 2ms/step\n"
     ]
    },
    {
     "name": "stderr",
     "output_type": "stream",
     "text": [
      "C:\\Users\\Gabriel\\AppData\\Roaming\\Python\\Python39\\site-packages\\keras\\optimizers\\legacy\\gradient_descent.py:114: UserWarning: The `lr` argument is deprecated, use `learning_rate` instead.\n",
      "  super().__init__(name, **kwargs)\n"
     ]
    },
    {
     "name": "stdout",
     "output_type": "stream",
     "text": [
      "157/157 [==============================] - 0s 1ms/step\n"
     ]
    },
    {
     "name": "stderr",
     "output_type": "stream",
     "text": [
      "C:\\Users\\Gabriel\\AppData\\Roaming\\Python\\Python39\\site-packages\\keras\\optimizers\\legacy\\gradient_descent.py:114: UserWarning: The `lr` argument is deprecated, use `learning_rate` instead.\n",
      "  super().__init__(name, **kwargs)\n"
     ]
    },
    {
     "name": "stdout",
     "output_type": "stream",
     "text": [
      "157/157 [==============================] - 0s 1ms/step\n"
     ]
    },
    {
     "name": "stderr",
     "output_type": "stream",
     "text": [
      "C:\\Users\\Gabriel\\AppData\\Roaming\\Python\\Python39\\site-packages\\keras\\optimizers\\legacy\\gradient_descent.py:114: UserWarning: The `lr` argument is deprecated, use `learning_rate` instead.\n",
      "  super().__init__(name, **kwargs)\n"
     ]
    },
    {
     "name": "stdout",
     "output_type": "stream",
     "text": [
      "157/157 [==============================] - 0s 2ms/step\n"
     ]
    },
    {
     "name": "stderr",
     "output_type": "stream",
     "text": [
      "C:\\Users\\Gabriel\\AppData\\Roaming\\Python\\Python39\\site-packages\\keras\\optimizers\\legacy\\gradient_descent.py:114: UserWarning: The `lr` argument is deprecated, use `learning_rate` instead.\n",
      "  super().__init__(name, **kwargs)\n"
     ]
    },
    {
     "name": "stdout",
     "output_type": "stream",
     "text": [
      "157/157 [==============================] - 0s 1ms/step\n"
     ]
    },
    {
     "name": "stderr",
     "output_type": "stream",
     "text": [
      "C:\\Users\\Gabriel\\AppData\\Roaming\\Python\\Python39\\site-packages\\keras\\optimizers\\legacy\\gradient_descent.py:114: UserWarning: The `lr` argument is deprecated, use `learning_rate` instead.\n",
      "  super().__init__(name, **kwargs)\n"
     ]
    },
    {
     "name": "stdout",
     "output_type": "stream",
     "text": [
      "157/157 [==============================] - 0s 1ms/step\n"
     ]
    },
    {
     "name": "stderr",
     "output_type": "stream",
     "text": [
      "C:\\Users\\Gabriel\\AppData\\Roaming\\Python\\Python39\\site-packages\\keras\\optimizers\\legacy\\gradient_descent.py:114: UserWarning: The `lr` argument is deprecated, use `learning_rate` instead.\n",
      "  super().__init__(name, **kwargs)\n"
     ]
    },
    {
     "name": "stdout",
     "output_type": "stream",
     "text": [
      "157/157 [==============================] - 0s 1ms/step\n"
     ]
    },
    {
     "name": "stderr",
     "output_type": "stream",
     "text": [
      "C:\\Users\\Gabriel\\AppData\\Roaming\\Python\\Python39\\site-packages\\keras\\optimizers\\legacy\\gradient_descent.py:114: UserWarning: The `lr` argument is deprecated, use `learning_rate` instead.\n",
      "  super().__init__(name, **kwargs)\n"
     ]
    },
    {
     "name": "stdout",
     "output_type": "stream",
     "text": [
      "157/157 [==============================] - 0s 1ms/step\n"
     ]
    },
    {
     "name": "stderr",
     "output_type": "stream",
     "text": [
      "C:\\Users\\Gabriel\\AppData\\Roaming\\Python\\Python39\\site-packages\\keras\\optimizers\\legacy\\gradient_descent.py:114: UserWarning: The `lr` argument is deprecated, use `learning_rate` instead.\n",
      "  super().__init__(name, **kwargs)\n"
     ]
    },
    {
     "name": "stdout",
     "output_type": "stream",
     "text": [
      "157/157 [==============================] - 0s 2ms/step\n"
     ]
    },
    {
     "name": "stderr",
     "output_type": "stream",
     "text": [
      "C:\\Users\\Gabriel\\AppData\\Roaming\\Python\\Python39\\site-packages\\keras\\optimizers\\legacy\\gradient_descent.py:114: UserWarning: The `lr` argument is deprecated, use `learning_rate` instead.\n",
      "  super().__init__(name, **kwargs)\n"
     ]
    },
    {
     "name": "stdout",
     "output_type": "stream",
     "text": [
      "157/157 [==============================] - 0s 2ms/step\n"
     ]
    },
    {
     "name": "stderr",
     "output_type": "stream",
     "text": [
      "C:\\Users\\Gabriel\\AppData\\Roaming\\Python\\Python39\\site-packages\\keras\\optimizers\\legacy\\gradient_descent.py:114: UserWarning: The `lr` argument is deprecated, use `learning_rate` instead.\n",
      "  super().__init__(name, **kwargs)\n"
     ]
    },
    {
     "name": "stdout",
     "output_type": "stream",
     "text": [
      "157/157 [==============================] - 0s 1ms/step\n"
     ]
    },
    {
     "name": "stderr",
     "output_type": "stream",
     "text": [
      "C:\\Users\\Gabriel\\AppData\\Roaming\\Python\\Python39\\site-packages\\keras\\optimizers\\legacy\\gradient_descent.py:114: UserWarning: The `lr` argument is deprecated, use `learning_rate` instead.\n",
      "  super().__init__(name, **kwargs)\n"
     ]
    },
    {
     "name": "stdout",
     "output_type": "stream",
     "text": [
      "157/157 [==============================] - 0s 2ms/step\n"
     ]
    },
    {
     "name": "stderr",
     "output_type": "stream",
     "text": [
      "C:\\Users\\Gabriel\\AppData\\Roaming\\Python\\Python39\\site-packages\\keras\\optimizers\\legacy\\gradient_descent.py:114: UserWarning: The `lr` argument is deprecated, use `learning_rate` instead.\n",
      "  super().__init__(name, **kwargs)\n"
     ]
    },
    {
     "name": "stdout",
     "output_type": "stream",
     "text": [
      "157/157 [==============================] - 0s 1ms/step\n"
     ]
    },
    {
     "name": "stderr",
     "output_type": "stream",
     "text": [
      "C:\\Users\\Gabriel\\AppData\\Roaming\\Python\\Python39\\site-packages\\keras\\optimizers\\legacy\\gradient_descent.py:114: UserWarning: The `lr` argument is deprecated, use `learning_rate` instead.\n",
      "  super().__init__(name, **kwargs)\n"
     ]
    },
    {
     "name": "stdout",
     "output_type": "stream",
     "text": [
      "157/157 [==============================] - 0s 2ms/step\n"
     ]
    },
    {
     "name": "stderr",
     "output_type": "stream",
     "text": [
      "C:\\Users\\Gabriel\\AppData\\Roaming\\Python\\Python39\\site-packages\\keras\\optimizers\\legacy\\gradient_descent.py:114: UserWarning: The `lr` argument is deprecated, use `learning_rate` instead.\n",
      "  super().__init__(name, **kwargs)\n"
     ]
    },
    {
     "name": "stdout",
     "output_type": "stream",
     "text": [
      "157/157 [==============================] - 0s 1ms/step\n"
     ]
    },
    {
     "name": "stderr",
     "output_type": "stream",
     "text": [
      "C:\\Users\\Gabriel\\AppData\\Roaming\\Python\\Python39\\site-packages\\keras\\optimizers\\legacy\\gradient_descent.py:114: UserWarning: The `lr` argument is deprecated, use `learning_rate` instead.\n",
      "  super().__init__(name, **kwargs)\n"
     ]
    },
    {
     "name": "stdout",
     "output_type": "stream",
     "text": [
      "157/157 [==============================] - 0s 1ms/step\n"
     ]
    },
    {
     "name": "stderr",
     "output_type": "stream",
     "text": [
      "C:\\Users\\Gabriel\\AppData\\Roaming\\Python\\Python39\\site-packages\\keras\\optimizers\\legacy\\gradient_descent.py:114: UserWarning: The `lr` argument is deprecated, use `learning_rate` instead.\n",
      "  super().__init__(name, **kwargs)\n"
     ]
    },
    {
     "name": "stdout",
     "output_type": "stream",
     "text": [
      "157/157 [==============================] - 0s 1ms/step\n"
     ]
    },
    {
     "name": "stderr",
     "output_type": "stream",
     "text": [
      "C:\\Users\\Gabriel\\AppData\\Roaming\\Python\\Python39\\site-packages\\keras\\optimizers\\legacy\\gradient_descent.py:114: UserWarning: The `lr` argument is deprecated, use `learning_rate` instead.\n",
      "  super().__init__(name, **kwargs)\n"
     ]
    },
    {
     "name": "stdout",
     "output_type": "stream",
     "text": [
      "157/157 [==============================] - 0s 1ms/step\n"
     ]
    },
    {
     "name": "stderr",
     "output_type": "stream",
     "text": [
      "C:\\Users\\Gabriel\\AppData\\Roaming\\Python\\Python39\\site-packages\\keras\\optimizers\\legacy\\gradient_descent.py:114: UserWarning: The `lr` argument is deprecated, use `learning_rate` instead.\n",
      "  super().__init__(name, **kwargs)\n"
     ]
    },
    {
     "name": "stdout",
     "output_type": "stream",
     "text": [
      "157/157 [==============================] - 0s 2ms/step\n"
     ]
    },
    {
     "name": "stderr",
     "output_type": "stream",
     "text": [
      "C:\\Users\\Gabriel\\AppData\\Roaming\\Python\\Python39\\site-packages\\keras\\optimizers\\legacy\\gradient_descent.py:114: UserWarning: The `lr` argument is deprecated, use `learning_rate` instead.\n",
      "  super().__init__(name, **kwargs)\n"
     ]
    },
    {
     "name": "stdout",
     "output_type": "stream",
     "text": [
      "157/157 [==============================] - 0s 2ms/step\n"
     ]
    },
    {
     "name": "stderr",
     "output_type": "stream",
     "text": [
      "C:\\Users\\Gabriel\\AppData\\Roaming\\Python\\Python39\\site-packages\\keras\\optimizers\\legacy\\gradient_descent.py:114: UserWarning: The `lr` argument is deprecated, use `learning_rate` instead.\n",
      "  super().__init__(name, **kwargs)\n"
     ]
    },
    {
     "name": "stdout",
     "output_type": "stream",
     "text": [
      "157/157 [==============================] - 0s 1ms/step\n"
     ]
    },
    {
     "name": "stderr",
     "output_type": "stream",
     "text": [
      "C:\\Users\\Gabriel\\AppData\\Roaming\\Python\\Python39\\site-packages\\keras\\optimizers\\legacy\\gradient_descent.py:114: UserWarning: The `lr` argument is deprecated, use `learning_rate` instead.\n",
      "  super().__init__(name, **kwargs)\n"
     ]
    },
    {
     "ename": "KeyboardInterrupt",
     "evalue": "",
     "output_type": "error",
     "traceback": [
      "\u001b[1;31m---------------------------------------------------------------------------\u001b[0m",
      "\u001b[1;31mKeyboardInterrupt\u001b[0m                         Traceback (most recent call last)",
      "Input \u001b[1;32mIn [124]\u001b[0m, in \u001b[0;36m<cell line: 2>\u001b[1;34m()\u001b[0m\n\u001b[0;32m      1\u001b[0m \u001b[38;5;28mprint\u001b[39m(\u001b[38;5;124m\"\u001b[39m\u001b[38;5;124mTraining with ant colony optimization...\u001b[39m\u001b[38;5;124m\"\u001b[39m)\n\u001b[1;32m----> 2\u001b[0m aco_weights \u001b[38;5;241m=\u001b[39m \u001b[43mant_colony_optimization\u001b[49m\u001b[43m(\u001b[49m\u001b[43mmodel\u001b[49m\u001b[43m,\u001b[49m\u001b[43m \u001b[49m\u001b[43mpop_size\u001b[49m\u001b[38;5;241;43m=\u001b[39;49m\u001b[38;5;241;43m50\u001b[39;49m\u001b[43m,\u001b[49m\u001b[43m \u001b[49m\u001b[43mnum_ants\u001b[49m\u001b[38;5;241;43m=\u001b[39;49m\u001b[38;5;241;43m50\u001b[39;49m\u001b[43m,\u001b[49m\u001b[43m \u001b[49m\u001b[43mnum_generations\u001b[49m\u001b[38;5;241;43m=\u001b[39;49m\u001b[38;5;241;43m10\u001b[39;49m\u001b[43m)\u001b[49m\n\u001b[0;32m      3\u001b[0m model\u001b[38;5;241m.\u001b[39mset_weights(aco_weights)\n\u001b[0;32m      4\u001b[0m \u001b[38;5;28mprint\u001b[39m(\u001b[38;5;124m\"\u001b[39m\u001b[38;5;124mAccuracy on test set:\u001b[39m\u001b[38;5;124m\"\u001b[39m, accuracy_score(y_test, model\u001b[38;5;241m.\u001b[39mpredict(X_test)\u001b[38;5;241m.\u001b[39mround()))\n",
      "Input \u001b[1;32mIn [123]\u001b[0m, in \u001b[0;36mant_colony_optimization\u001b[1;34m(model, pop_size, num_ants, num_generations, alpha, beta, evaporation_rate)\u001b[0m\n\u001b[0;32m     15\u001b[0m     solutions\u001b[38;5;241m.\u001b[39mappend(candidate_weights)\n\u001b[0;32m     17\u001b[0m     \u001b[38;5;66;03m# Evaluate the fitness of the candidate solution\u001b[39;00m\n\u001b[1;32m---> 18\u001b[0m     fitness\u001b[38;5;241m.\u001b[39mappend(\u001b[43mfitness_function\u001b[49m\u001b[43m(\u001b[49m\u001b[43mmodel\u001b[49m\u001b[43m,\u001b[49m\u001b[43m \u001b[49m\u001b[43mcandidate_weights\u001b[49m\u001b[43m)\u001b[49m)\n\u001b[0;32m     20\u001b[0m \u001b[38;5;66;03m# Print the best fitness in the current generation\u001b[39;00m\n\u001b[0;32m     21\u001b[0m best_fitness \u001b[38;5;241m=\u001b[39m \u001b[38;5;28mmax\u001b[39m(fitness)\n",
      "Input \u001b[1;32mIn [76]\u001b[0m, in \u001b[0;36mfitness_function\u001b[1;34m(model, weights)\u001b[0m\n\u001b[0;32m     15\u001b[0m         \u001b[38;5;28mself\u001b[39m\u001b[38;5;241m.\u001b[39mfitness_score \u001b[38;5;241m=\u001b[39m logs\u001b[38;5;241m.\u001b[39mget(\u001b[38;5;124m'\u001b[39m\u001b[38;5;124maccuracy\u001b[39m\u001b[38;5;124m'\u001b[39m)\n\u001b[0;32m     17\u001b[0m fitness_callback \u001b[38;5;241m=\u001b[39m FitnessCallback()\n\u001b[1;32m---> 18\u001b[0m \u001b[43mmodel\u001b[49m\u001b[38;5;241;43m.\u001b[39;49m\u001b[43mfit\u001b[49m\u001b[43m(\u001b[49m\u001b[43minputs\u001b[49m\u001b[43m,\u001b[49m\u001b[43m \u001b[49m\u001b[43mtargets\u001b[49m\u001b[43m,\u001b[49m\u001b[43m \u001b[49m\u001b[43mepochs\u001b[49m\u001b[38;5;241;43m=\u001b[39;49m\u001b[38;5;241;43m1\u001b[39;49m\u001b[43m,\u001b[49m\u001b[43m \u001b[49m\u001b[43mbatch_size\u001b[49m\u001b[38;5;241;43m=\u001b[39;49m\u001b[38;5;241;43m1\u001b[39;49m\u001b[43m,\u001b[49m\u001b[43m \u001b[49m\u001b[43mcallbacks\u001b[49m\u001b[38;5;241;43m=\u001b[39;49m\u001b[43m[\u001b[49m\u001b[43mfitness_callback\u001b[49m\u001b[43m]\u001b[49m\u001b[43m,\u001b[49m\u001b[43m \u001b[49m\u001b[43mverbose\u001b[49m\u001b[38;5;241;43m=\u001b[39;49m\u001b[38;5;241;43m0\u001b[39;49m\u001b[43m)\u001b[49m\n\u001b[0;32m     20\u001b[0m \u001b[38;5;66;03m# Evaluate the accuracy of the neural network on the binary classification task\u001b[39;00m\n\u001b[0;32m     21\u001b[0m y_pred \u001b[38;5;241m=\u001b[39m np\u001b[38;5;241m.\u001b[39mround(model\u001b[38;5;241m.\u001b[39mpredict(inputs)\u001b[38;5;241m.\u001b[39mravel())\n",
      "File \u001b[1;32m~\\AppData\\Roaming\\Python\\Python39\\site-packages\\keras\\utils\\traceback_utils.py:65\u001b[0m, in \u001b[0;36mfilter_traceback.<locals>.error_handler\u001b[1;34m(*args, **kwargs)\u001b[0m\n\u001b[0;32m     63\u001b[0m filtered_tb \u001b[38;5;241m=\u001b[39m \u001b[38;5;28;01mNone\u001b[39;00m\n\u001b[0;32m     64\u001b[0m \u001b[38;5;28;01mtry\u001b[39;00m:\n\u001b[1;32m---> 65\u001b[0m     \u001b[38;5;28;01mreturn\u001b[39;00m fn(\u001b[38;5;241m*\u001b[39margs, \u001b[38;5;241m*\u001b[39m\u001b[38;5;241m*\u001b[39mkwargs)\n\u001b[0;32m     66\u001b[0m \u001b[38;5;28;01mexcept\u001b[39;00m \u001b[38;5;167;01mException\u001b[39;00m \u001b[38;5;28;01mas\u001b[39;00m e:\n\u001b[0;32m     67\u001b[0m     filtered_tb \u001b[38;5;241m=\u001b[39m _process_traceback_frames(e\u001b[38;5;241m.\u001b[39m__traceback__)\n",
      "File \u001b[1;32m~\\AppData\\Roaming\\Python\\Python39\\site-packages\\keras\\engine\\training.py:1685\u001b[0m, in \u001b[0;36mModel.fit\u001b[1;34m(self, x, y, batch_size, epochs, verbose, callbacks, validation_split, validation_data, shuffle, class_weight, sample_weight, initial_epoch, steps_per_epoch, validation_steps, validation_batch_size, validation_freq, max_queue_size, workers, use_multiprocessing)\u001b[0m\n\u001b[0;32m   1677\u001b[0m \u001b[38;5;28;01mwith\u001b[39;00m tf\u001b[38;5;241m.\u001b[39mprofiler\u001b[38;5;241m.\u001b[39mexperimental\u001b[38;5;241m.\u001b[39mTrace(\n\u001b[0;32m   1678\u001b[0m     \u001b[38;5;124m\"\u001b[39m\u001b[38;5;124mtrain\u001b[39m\u001b[38;5;124m\"\u001b[39m,\n\u001b[0;32m   1679\u001b[0m     epoch_num\u001b[38;5;241m=\u001b[39mepoch,\n\u001b[1;32m   (...)\u001b[0m\n\u001b[0;32m   1682\u001b[0m     _r\u001b[38;5;241m=\u001b[39m\u001b[38;5;241m1\u001b[39m,\n\u001b[0;32m   1683\u001b[0m ):\n\u001b[0;32m   1684\u001b[0m     callbacks\u001b[38;5;241m.\u001b[39mon_train_batch_begin(step)\n\u001b[1;32m-> 1685\u001b[0m     tmp_logs \u001b[38;5;241m=\u001b[39m \u001b[38;5;28;43mself\u001b[39;49m\u001b[38;5;241;43m.\u001b[39;49m\u001b[43mtrain_function\u001b[49m\u001b[43m(\u001b[49m\u001b[43miterator\u001b[49m\u001b[43m)\u001b[49m\n\u001b[0;32m   1686\u001b[0m     \u001b[38;5;28;01mif\u001b[39;00m data_handler\u001b[38;5;241m.\u001b[39mshould_sync:\n\u001b[0;32m   1687\u001b[0m         context\u001b[38;5;241m.\u001b[39masync_wait()\n",
      "File \u001b[1;32m~\\AppData\\Roaming\\Python\\Python39\\site-packages\\tensorflow\\python\\util\\traceback_utils.py:150\u001b[0m, in \u001b[0;36mfilter_traceback.<locals>.error_handler\u001b[1;34m(*args, **kwargs)\u001b[0m\n\u001b[0;32m    148\u001b[0m filtered_tb \u001b[38;5;241m=\u001b[39m \u001b[38;5;28;01mNone\u001b[39;00m\n\u001b[0;32m    149\u001b[0m \u001b[38;5;28;01mtry\u001b[39;00m:\n\u001b[1;32m--> 150\u001b[0m   \u001b[38;5;28;01mreturn\u001b[39;00m fn(\u001b[38;5;241m*\u001b[39margs, \u001b[38;5;241m*\u001b[39m\u001b[38;5;241m*\u001b[39mkwargs)\n\u001b[0;32m    151\u001b[0m \u001b[38;5;28;01mexcept\u001b[39;00m \u001b[38;5;167;01mException\u001b[39;00m \u001b[38;5;28;01mas\u001b[39;00m e:\n\u001b[0;32m    152\u001b[0m   filtered_tb \u001b[38;5;241m=\u001b[39m _process_traceback_frames(e\u001b[38;5;241m.\u001b[39m__traceback__)\n",
      "File \u001b[1;32m~\\AppData\\Roaming\\Python\\Python39\\site-packages\\tensorflow\\python\\eager\\polymorphic_function\\polymorphic_function.py:894\u001b[0m, in \u001b[0;36mFunction.__call__\u001b[1;34m(self, *args, **kwds)\u001b[0m\n\u001b[0;32m    891\u001b[0m compiler \u001b[38;5;241m=\u001b[39m \u001b[38;5;124m\"\u001b[39m\u001b[38;5;124mxla\u001b[39m\u001b[38;5;124m\"\u001b[39m \u001b[38;5;28;01mif\u001b[39;00m \u001b[38;5;28mself\u001b[39m\u001b[38;5;241m.\u001b[39m_jit_compile \u001b[38;5;28;01melse\u001b[39;00m \u001b[38;5;124m\"\u001b[39m\u001b[38;5;124mnonXla\u001b[39m\u001b[38;5;124m\"\u001b[39m\n\u001b[0;32m    893\u001b[0m \u001b[38;5;28;01mwith\u001b[39;00m OptionalXlaContext(\u001b[38;5;28mself\u001b[39m\u001b[38;5;241m.\u001b[39m_jit_compile):\n\u001b[1;32m--> 894\u001b[0m   result \u001b[38;5;241m=\u001b[39m \u001b[38;5;28mself\u001b[39m\u001b[38;5;241m.\u001b[39m_call(\u001b[38;5;241m*\u001b[39margs, \u001b[38;5;241m*\u001b[39m\u001b[38;5;241m*\u001b[39mkwds)\n\u001b[0;32m    896\u001b[0m new_tracing_count \u001b[38;5;241m=\u001b[39m \u001b[38;5;28mself\u001b[39m\u001b[38;5;241m.\u001b[39mexperimental_get_tracing_count()\n\u001b[0;32m    897\u001b[0m without_tracing \u001b[38;5;241m=\u001b[39m (tracing_count \u001b[38;5;241m==\u001b[39m new_tracing_count)\n",
      "File \u001b[1;32m~\\AppData\\Roaming\\Python\\Python39\\site-packages\\tensorflow\\python\\eager\\polymorphic_function\\polymorphic_function.py:926\u001b[0m, in \u001b[0;36mFunction._call\u001b[1;34m(self, *args, **kwds)\u001b[0m\n\u001b[0;32m    923\u001b[0m   \u001b[38;5;28mself\u001b[39m\u001b[38;5;241m.\u001b[39m_lock\u001b[38;5;241m.\u001b[39mrelease()\n\u001b[0;32m    924\u001b[0m   \u001b[38;5;66;03m# In this case we have created variables on the first call, so we run the\u001b[39;00m\n\u001b[0;32m    925\u001b[0m   \u001b[38;5;66;03m# defunned version which is guaranteed to never create variables.\u001b[39;00m\n\u001b[1;32m--> 926\u001b[0m   \u001b[38;5;28;01mreturn\u001b[39;00m \u001b[38;5;28mself\u001b[39m\u001b[38;5;241m.\u001b[39m_no_variable_creation_fn(\u001b[38;5;241m*\u001b[39margs, \u001b[38;5;241m*\u001b[39m\u001b[38;5;241m*\u001b[39mkwds)  \u001b[38;5;66;03m# pylint: disable=not-callable\u001b[39;00m\n\u001b[0;32m    927\u001b[0m \u001b[38;5;28;01melif\u001b[39;00m \u001b[38;5;28mself\u001b[39m\u001b[38;5;241m.\u001b[39m_variable_creation_fn \u001b[38;5;129;01mis\u001b[39;00m \u001b[38;5;129;01mnot\u001b[39;00m \u001b[38;5;28;01mNone\u001b[39;00m:\n\u001b[0;32m    928\u001b[0m   \u001b[38;5;66;03m# Release the lock early so that multiple threads can perform the call\u001b[39;00m\n\u001b[0;32m    929\u001b[0m   \u001b[38;5;66;03m# in parallel.\u001b[39;00m\n\u001b[0;32m    930\u001b[0m   \u001b[38;5;28mself\u001b[39m\u001b[38;5;241m.\u001b[39m_lock\u001b[38;5;241m.\u001b[39mrelease()\n",
      "File \u001b[1;32m~\\AppData\\Roaming\\Python\\Python39\\site-packages\\tensorflow\\python\\eager\\polymorphic_function\\tracing_compiler.py:143\u001b[0m, in \u001b[0;36mTracingCompiler.__call__\u001b[1;34m(self, *args, **kwargs)\u001b[0m\n\u001b[0;32m    140\u001b[0m \u001b[38;5;28;01mwith\u001b[39;00m \u001b[38;5;28mself\u001b[39m\u001b[38;5;241m.\u001b[39m_lock:\n\u001b[0;32m    141\u001b[0m   (concrete_function,\n\u001b[0;32m    142\u001b[0m    filtered_flat_args) \u001b[38;5;241m=\u001b[39m \u001b[38;5;28mself\u001b[39m\u001b[38;5;241m.\u001b[39m_maybe_define_function(args, kwargs)\n\u001b[1;32m--> 143\u001b[0m \u001b[38;5;28;01mreturn\u001b[39;00m \u001b[43mconcrete_function\u001b[49m\u001b[38;5;241;43m.\u001b[39;49m\u001b[43m_call_flat\u001b[49m\u001b[43m(\u001b[49m\n\u001b[0;32m    144\u001b[0m \u001b[43m    \u001b[49m\u001b[43mfiltered_flat_args\u001b[49m\u001b[43m,\u001b[49m\u001b[43m \u001b[49m\u001b[43mcaptured_inputs\u001b[49m\u001b[38;5;241;43m=\u001b[39;49m\u001b[43mconcrete_function\u001b[49m\u001b[38;5;241;43m.\u001b[39;49m\u001b[43mcaptured_inputs\u001b[49m\u001b[43m)\u001b[49m\n",
      "File \u001b[1;32m~\\AppData\\Roaming\\Python\\Python39\\site-packages\\tensorflow\\python\\eager\\polymorphic_function\\monomorphic_function.py:1757\u001b[0m, in \u001b[0;36mConcreteFunction._call_flat\u001b[1;34m(self, args, captured_inputs, cancellation_manager)\u001b[0m\n\u001b[0;32m   1753\u001b[0m possible_gradient_type \u001b[38;5;241m=\u001b[39m gradients_util\u001b[38;5;241m.\u001b[39mPossibleTapeGradientTypes(args)\n\u001b[0;32m   1754\u001b[0m \u001b[38;5;28;01mif\u001b[39;00m (possible_gradient_type \u001b[38;5;241m==\u001b[39m gradients_util\u001b[38;5;241m.\u001b[39mPOSSIBLE_GRADIENT_TYPES_NONE\n\u001b[0;32m   1755\u001b[0m     \u001b[38;5;129;01mand\u001b[39;00m executing_eagerly):\n\u001b[0;32m   1756\u001b[0m   \u001b[38;5;66;03m# No tape is watching; skip to running the function.\u001b[39;00m\n\u001b[1;32m-> 1757\u001b[0m   \u001b[38;5;28;01mreturn\u001b[39;00m \u001b[38;5;28mself\u001b[39m\u001b[38;5;241m.\u001b[39m_build_call_outputs(\u001b[38;5;28;43mself\u001b[39;49m\u001b[38;5;241;43m.\u001b[39;49m\u001b[43m_inference_function\u001b[49m\u001b[38;5;241;43m.\u001b[39;49m\u001b[43mcall\u001b[49m\u001b[43m(\u001b[49m\n\u001b[0;32m   1758\u001b[0m \u001b[43m      \u001b[49m\u001b[43mctx\u001b[49m\u001b[43m,\u001b[49m\u001b[43m \u001b[49m\u001b[43margs\u001b[49m\u001b[43m,\u001b[49m\u001b[43m \u001b[49m\u001b[43mcancellation_manager\u001b[49m\u001b[38;5;241;43m=\u001b[39;49m\u001b[43mcancellation_manager\u001b[49m\u001b[43m)\u001b[49m)\n\u001b[0;32m   1759\u001b[0m forward_backward \u001b[38;5;241m=\u001b[39m \u001b[38;5;28mself\u001b[39m\u001b[38;5;241m.\u001b[39m_select_forward_and_backward_functions(\n\u001b[0;32m   1760\u001b[0m     args,\n\u001b[0;32m   1761\u001b[0m     possible_gradient_type,\n\u001b[0;32m   1762\u001b[0m     executing_eagerly)\n\u001b[0;32m   1763\u001b[0m forward_function, args_with_tangents \u001b[38;5;241m=\u001b[39m forward_backward\u001b[38;5;241m.\u001b[39mforward()\n",
      "File \u001b[1;32m~\\AppData\\Roaming\\Python\\Python39\\site-packages\\tensorflow\\python\\eager\\polymorphic_function\\monomorphic_function.py:381\u001b[0m, in \u001b[0;36m_EagerDefinedFunction.call\u001b[1;34m(self, ctx, args, cancellation_manager)\u001b[0m\n\u001b[0;32m    379\u001b[0m \u001b[38;5;28;01mwith\u001b[39;00m _InterpolateFunctionError(\u001b[38;5;28mself\u001b[39m):\n\u001b[0;32m    380\u001b[0m   \u001b[38;5;28;01mif\u001b[39;00m cancellation_manager \u001b[38;5;129;01mis\u001b[39;00m \u001b[38;5;28;01mNone\u001b[39;00m:\n\u001b[1;32m--> 381\u001b[0m     outputs \u001b[38;5;241m=\u001b[39m \u001b[43mexecute\u001b[49m\u001b[38;5;241;43m.\u001b[39;49m\u001b[43mexecute\u001b[49m\u001b[43m(\u001b[49m\n\u001b[0;32m    382\u001b[0m \u001b[43m        \u001b[49m\u001b[38;5;28;43mstr\u001b[39;49m\u001b[43m(\u001b[49m\u001b[38;5;28;43mself\u001b[39;49m\u001b[38;5;241;43m.\u001b[39;49m\u001b[43msignature\u001b[49m\u001b[38;5;241;43m.\u001b[39;49m\u001b[43mname\u001b[49m\u001b[43m)\u001b[49m\u001b[43m,\u001b[49m\n\u001b[0;32m    383\u001b[0m \u001b[43m        \u001b[49m\u001b[43mnum_outputs\u001b[49m\u001b[38;5;241;43m=\u001b[39;49m\u001b[38;5;28;43mself\u001b[39;49m\u001b[38;5;241;43m.\u001b[39;49m\u001b[43m_num_outputs\u001b[49m\u001b[43m,\u001b[49m\n\u001b[0;32m    384\u001b[0m \u001b[43m        \u001b[49m\u001b[43minputs\u001b[49m\u001b[38;5;241;43m=\u001b[39;49m\u001b[43margs\u001b[49m\u001b[43m,\u001b[49m\n\u001b[0;32m    385\u001b[0m \u001b[43m        \u001b[49m\u001b[43mattrs\u001b[49m\u001b[38;5;241;43m=\u001b[39;49m\u001b[43mattrs\u001b[49m\u001b[43m,\u001b[49m\n\u001b[0;32m    386\u001b[0m \u001b[43m        \u001b[49m\u001b[43mctx\u001b[49m\u001b[38;5;241;43m=\u001b[39;49m\u001b[43mctx\u001b[49m\u001b[43m)\u001b[49m\n\u001b[0;32m    387\u001b[0m   \u001b[38;5;28;01melse\u001b[39;00m:\n\u001b[0;32m    388\u001b[0m     outputs \u001b[38;5;241m=\u001b[39m execute\u001b[38;5;241m.\u001b[39mexecute_with_cancellation(\n\u001b[0;32m    389\u001b[0m         \u001b[38;5;28mstr\u001b[39m(\u001b[38;5;28mself\u001b[39m\u001b[38;5;241m.\u001b[39msignature\u001b[38;5;241m.\u001b[39mname),\n\u001b[0;32m    390\u001b[0m         num_outputs\u001b[38;5;241m=\u001b[39m\u001b[38;5;28mself\u001b[39m\u001b[38;5;241m.\u001b[39m_num_outputs,\n\u001b[1;32m   (...)\u001b[0m\n\u001b[0;32m    393\u001b[0m         ctx\u001b[38;5;241m=\u001b[39mctx,\n\u001b[0;32m    394\u001b[0m         cancellation_manager\u001b[38;5;241m=\u001b[39mcancellation_manager)\n",
      "File \u001b[1;32m~\\AppData\\Roaming\\Python\\Python39\\site-packages\\tensorflow\\python\\eager\\execute.py:52\u001b[0m, in \u001b[0;36mquick_execute\u001b[1;34m(op_name, num_outputs, inputs, attrs, ctx, name)\u001b[0m\n\u001b[0;32m     50\u001b[0m \u001b[38;5;28;01mtry\u001b[39;00m:\n\u001b[0;32m     51\u001b[0m   ctx\u001b[38;5;241m.\u001b[39mensure_initialized()\n\u001b[1;32m---> 52\u001b[0m   tensors \u001b[38;5;241m=\u001b[39m \u001b[43mpywrap_tfe\u001b[49m\u001b[38;5;241;43m.\u001b[39;49m\u001b[43mTFE_Py_Execute\u001b[49m\u001b[43m(\u001b[49m\u001b[43mctx\u001b[49m\u001b[38;5;241;43m.\u001b[39;49m\u001b[43m_handle\u001b[49m\u001b[43m,\u001b[49m\u001b[43m \u001b[49m\u001b[43mdevice_name\u001b[49m\u001b[43m,\u001b[49m\u001b[43m \u001b[49m\u001b[43mop_name\u001b[49m\u001b[43m,\u001b[49m\n\u001b[0;32m     53\u001b[0m \u001b[43m                                      \u001b[49m\u001b[43minputs\u001b[49m\u001b[43m,\u001b[49m\u001b[43m \u001b[49m\u001b[43mattrs\u001b[49m\u001b[43m,\u001b[49m\u001b[43m \u001b[49m\u001b[43mnum_outputs\u001b[49m\u001b[43m)\u001b[49m\n\u001b[0;32m     54\u001b[0m \u001b[38;5;28;01mexcept\u001b[39;00m core\u001b[38;5;241m.\u001b[39m_NotOkStatusException \u001b[38;5;28;01mas\u001b[39;00m e:\n\u001b[0;32m     55\u001b[0m   \u001b[38;5;28;01mif\u001b[39;00m name \u001b[38;5;129;01mis\u001b[39;00m \u001b[38;5;129;01mnot\u001b[39;00m \u001b[38;5;28;01mNone\u001b[39;00m:\n",
      "\u001b[1;31mKeyboardInterrupt\u001b[0m: "
     ]
    }
   ],
   "source": [
    "print(\"Training with ant colony optimization...\")\n",
    "aco_weights = ant_colony_optimization(model, pop_size=50, num_ants=50, num_generations=100)\n",
    "model.set_weights(aco_weights)\n",
    "print(\"Accuracy on test set:\", accuracy_score(y_test, model.predict(X_test).round()))\n"
   ]
  },
  {
   "cell_type": "code",
   "execution_count": 129,
   "id": "475a7141",
   "metadata": {},
   "outputs": [],
   "source": [
    "def particle_swarm_optimization(model, pop_size=50, num_particles=50, num_generations=100, w=0.7, c1=1.494, c2=1.494):\n",
    "# Initialize the particles with random weights and velocities\n",
    "    particles = []\n",
    "    velocities = []\n",
    "    for i in range(num_particles):\n",
    "        weights = model.get_weights()\n",
    "    particles.append(weights)\n",
    "    particles_best = copy.deepcopy(particles)\n",
    "    particles_best_fitness = [fitness_function(model, i) for i in particles]\n",
    "    \n",
    "    velocities.append(np.zeros_like(weights))\n",
    "    \n",
    "    # Initialize the global best position and its fitness value\n",
    "    global_best_position = particles[0]\n",
    "    global_best_fitness = fitness_function(model, global_best_position)\n",
    "    \n",
    "    for gen in range(num_generations):\n",
    "        # Update the velocity and position of each particle\n",
    "        for i in range(num_particles):\n",
    "            # Update the velocity of the particle\n",
    "            for k in range(len(particles[0])):\n",
    "                new_velocity = w * velocities[k]\n",
    "                print(new_velocity.shape,velocities[k].shape)\n",
    "                cognitive_velocity = c1 * np.random.rand() * (particles[i][k] - particles_best[i][k])\n",
    "                social_velocity = c2 * np.random.rand() * (global_best_position[k] - particles[i][k])\n",
    "                new_velocity += cognitive_velocity + social_velocity\n",
    "                velocities[k] = new_velocity\n",
    "    \n",
    "            # Update the position of the particle\n",
    "            new_position = particles[i] + new_velocity\n",
    "            particles[i] = new_position\n",
    "    \n",
    "            # Update the best position of the particle\n",
    "            particle_fitness = fitness_function(model, particles[i])\n",
    "            if particle_fitness > particles_best_fitness[i]:\n",
    "                particles_best[i] = particles[i]\n",
    "                particles_best_fitness[i] = particle_fitness\n",
    "    \n",
    "            # Update the global best position\n",
    "            if particle_fitness > global_best_fitness:\n",
    "                global_best_position = particles[i]\n",
    "                global_best_fitness = particle_fitness\n",
    "    \n",
    "        # Print the best fitness in the current generation\n",
    "        print(f\"Generation {gen}: Best Fitness = {global_best_fitness}\")\n",
    "    \n",
    "    # Return the best weights found by the particle swarm optimization algorithm\n",
    "    best_weights = global_best_position\n",
    "    return best_weights\n",
    "\n"
   ]
  },
  {
   "cell_type": "code",
   "execution_count": 130,
   "id": "434960cb",
   "metadata": {
    "scrolled": true
   },
   "outputs": [
    {
     "name": "stdout",
     "output_type": "stream",
     "text": [
      "Training with particle swarm optimization...\n"
     ]
    },
    {
     "name": "stderr",
     "output_type": "stream",
     "text": [
      "C:\\Users\\Gabriel\\AppData\\Roaming\\Python\\Python39\\site-packages\\keras\\optimizers\\legacy\\gradient_descent.py:114: UserWarning: The `lr` argument is deprecated, use `learning_rate` instead.\n",
      "  super().__init__(name, **kwargs)\n"
     ]
    },
    {
     "name": "stdout",
     "output_type": "stream",
     "text": [
      "157/157 [==============================] - 0s 1ms/step\n"
     ]
    },
    {
     "name": "stderr",
     "output_type": "stream",
     "text": [
      "<__array_function__ internals>:180: VisibleDeprecationWarning: Creating an ndarray from ragged nested sequences (which is a list-or-tuple of lists-or-tuples-or ndarrays with different lengths or shapes) is deprecated. If you meant to do this, you must specify 'dtype=object' when creating the ndarray.\n",
      "C:\\Users\\Gabriel\\AppData\\Roaming\\Python\\Python39\\site-packages\\keras\\optimizers\\legacy\\gradient_descent.py:114: UserWarning: The `lr` argument is deprecated, use `learning_rate` instead.\n",
      "  super().__init__(name, **kwargs)\n"
     ]
    },
    {
     "name": "stdout",
     "output_type": "stream",
     "text": [
      "157/157 [==============================] - 0s 1ms/step\n",
      "(4,) (4,)\n"
     ]
    },
    {
     "ename": "ValueError",
     "evalue": "non-broadcastable output operand with shape (4,) doesn't match the broadcast shape (12,4)",
     "output_type": "error",
     "traceback": [
      "\u001b[1;31m---------------------------------------------------------------------------\u001b[0m",
      "\u001b[1;31mValueError\u001b[0m                                Traceback (most recent call last)",
      "Input \u001b[1;32mIn [130]\u001b[0m, in \u001b[0;36m<cell line: 2>\u001b[1;34m()\u001b[0m\n\u001b[0;32m      1\u001b[0m \u001b[38;5;28mprint\u001b[39m(\u001b[38;5;124m\"\u001b[39m\u001b[38;5;124mTraining with particle swarm optimization...\u001b[39m\u001b[38;5;124m\"\u001b[39m)\n\u001b[1;32m----> 2\u001b[0m pso_weights \u001b[38;5;241m=\u001b[39m \u001b[43mparticle_swarm_optimization\u001b[49m\u001b[43m(\u001b[49m\u001b[43mmodel\u001b[49m\u001b[43m,\u001b[49m\u001b[43m \u001b[49m\u001b[43mpop_size\u001b[49m\u001b[38;5;241;43m=\u001b[39;49m\u001b[38;5;241;43m50\u001b[39;49m\u001b[43m,\u001b[49m\u001b[43m \u001b[49m\u001b[43mnum_particles\u001b[49m\u001b[38;5;241;43m=\u001b[39;49m\u001b[38;5;241;43m50\u001b[39;49m\u001b[43m,\u001b[49m\u001b[43m \u001b[49m\u001b[43mnum_generations\u001b[49m\u001b[38;5;241;43m=\u001b[39;49m\u001b[38;5;241;43m10\u001b[39;49m\u001b[43m)\u001b[49m\n\u001b[0;32m      3\u001b[0m model\u001b[38;5;241m.\u001b[39mset_weights(pso_weights)\n\u001b[0;32m      4\u001b[0m \u001b[38;5;28mprint\u001b[39m(\u001b[38;5;124m\"\u001b[39m\u001b[38;5;124mAccuracy on test set:\u001b[39m\u001b[38;5;124m\"\u001b[39m, accuracy_score(y_test, model\u001b[38;5;241m.\u001b[39mpredict(X_test)\u001b[38;5;241m.\u001b[39mround()))\n",
      "Input \u001b[1;32mIn [129]\u001b[0m, in \u001b[0;36mparticle_swarm_optimization\u001b[1;34m(model, pop_size, num_particles, num_generations, w, c1, c2)\u001b[0m\n\u001b[0;32m     24\u001b[0m     cognitive_velocity \u001b[38;5;241m=\u001b[39m c1 \u001b[38;5;241m*\u001b[39m np\u001b[38;5;241m.\u001b[39mrandom\u001b[38;5;241m.\u001b[39mrand() \u001b[38;5;241m*\u001b[39m (particles[i][k] \u001b[38;5;241m-\u001b[39m particles_best[i][k])\n\u001b[0;32m     25\u001b[0m     social_velocity \u001b[38;5;241m=\u001b[39m c2 \u001b[38;5;241m*\u001b[39m np\u001b[38;5;241m.\u001b[39mrandom\u001b[38;5;241m.\u001b[39mrand() \u001b[38;5;241m*\u001b[39m (global_best_position[k] \u001b[38;5;241m-\u001b[39m particles[i][k])\n\u001b[1;32m---> 26\u001b[0m     new_velocity \u001b[38;5;241m+\u001b[39m\u001b[38;5;241m=\u001b[39m cognitive_velocity \u001b[38;5;241m+\u001b[39m social_velocity\n\u001b[0;32m     27\u001b[0m     velocities[k] \u001b[38;5;241m=\u001b[39m new_velocity\n\u001b[0;32m     29\u001b[0m \u001b[38;5;66;03m# Update the position of the particle\u001b[39;00m\n",
      "\u001b[1;31mValueError\u001b[0m: non-broadcastable output operand with shape (4,) doesn't match the broadcast shape (12,4)"
     ]
    }
   ],
   "source": [
    "print(\"Training with particle swarm optimization...\")\n",
    "pso_weights = particle_swarm_optimization(model, pop_size=50, num_particles=50, num_generations=10)\n",
    "model.set_weights(pso_weights)\n",
    "print(\"Accuracy on test set:\", accuracy_score(y_test, model.predict(X_test).round()))\n",
    "   "
   ]
  },
  {
   "cell_type": "code",
   "execution_count": null,
   "id": "92eca47f",
   "metadata": {},
   "outputs": [],
   "source": []
  },
  {
   "cell_type": "code",
   "execution_count": null,
   "id": "9424f8db",
   "metadata": {},
   "outputs": [],
   "source": []
  },
  {
   "cell_type": "code",
   "execution_count": null,
   "id": "4fcec441",
   "metadata": {},
   "outputs": [],
   "source": []
  },
  {
   "cell_type": "code",
   "execution_count": null,
   "id": "95f9bfa0",
   "metadata": {},
   "outputs": [],
   "source": []
  },
  {
   "cell_type": "code",
   "execution_count": null,
   "id": "54491dcd",
   "metadata": {},
   "outputs": [],
   "source": []
  },
  {
   "cell_type": "code",
   "execution_count": null,
   "id": "93feeeed",
   "metadata": {},
   "outputs": [],
   "source": []
  },
  {
   "cell_type": "code",
   "execution_count": 84,
   "id": "08d4e3ae",
   "metadata": {},
   "outputs": [
    {
     "name": "stdout",
     "output_type": "stream",
     "text": [
      "Training with genetic algorithm...\n"
     ]
    },
    {
     "name": "stderr",
     "output_type": "stream",
     "text": [
      "C:\\Users\\Gabriel\\AppData\\Roaming\\Python\\Python39\\site-packages\\keras\\optimizers\\legacy\\gradient_descent.py:114: UserWarning: The `lr` argument is deprecated, use `learning_rate` instead.\n",
      "  super().__init__(name, **kwargs)\n"
     ]
    },
    {
     "ename": "ValueError",
     "evalue": "in user code:\n\n    File \"C:\\Users\\Gabriel\\AppData\\Roaming\\Python\\Python39\\site-packages\\keras\\engine\\training.py\", line 1284, in train_function  *\n        return step_function(self, iterator)\n    File \"C:\\Users\\Gabriel\\AppData\\Roaming\\Python\\Python39\\site-packages\\keras\\engine\\training.py\", line 1268, in step_function  **\n        outputs = model.distribute_strategy.run(run_step, args=(data,))\n    File \"C:\\Users\\Gabriel\\AppData\\Roaming\\Python\\Python39\\site-packages\\keras\\engine\\training.py\", line 1249, in run_step  **\n        outputs = model.train_step(data)\n    File \"C:\\Users\\Gabriel\\AppData\\Roaming\\Python\\Python39\\site-packages\\keras\\engine\\training.py\", line 1050, in train_step\n        y_pred = self(x, training=True)\n    File \"C:\\Users\\Gabriel\\AppData\\Roaming\\Python\\Python39\\site-packages\\keras\\utils\\traceback_utils.py\", line 70, in error_handler\n        raise e.with_traceback(filtered_tb) from None\n    File \"C:\\Users\\Gabriel\\AppData\\Roaming\\Python\\Python39\\site-packages\\keras\\engine\\input_spec.py\", line 298, in assert_input_compatibility\n        raise ValueError(\n\n    ValueError: Input 0 of layer \"sequential_6\" is incompatible with the layer: expected shape=(None, 20), found shape=(1, 12)\n",
     "output_type": "error",
     "traceback": [
      "\u001b[1;31m---------------------------------------------------------------------------\u001b[0m",
      "\u001b[1;31mValueError\u001b[0m                                Traceback (most recent call last)",
      "Input \u001b[1;32mIn [84]\u001b[0m, in \u001b[0;36m<cell line: 8>\u001b[1;34m()\u001b[0m\n\u001b[0;32m      5\u001b[0m model\u001b[38;5;241m.\u001b[39mcompile(loss\u001b[38;5;241m=\u001b[39m\u001b[38;5;124m'\u001b[39m\u001b[38;5;124mbinary_crossentropy\u001b[39m\u001b[38;5;124m'\u001b[39m, optimizer\u001b[38;5;241m=\u001b[39m\u001b[38;5;124m'\u001b[39m\u001b[38;5;124madam\u001b[39m\u001b[38;5;124m'\u001b[39m, metrics\u001b[38;5;241m=\u001b[39m[\u001b[38;5;124m'\u001b[39m\u001b[38;5;124maccuracy\u001b[39m\u001b[38;5;124m'\u001b[39m])\n\u001b[0;32m      7\u001b[0m \u001b[38;5;28mprint\u001b[39m(\u001b[38;5;124m\"\u001b[39m\u001b[38;5;124mTraining with genetic algorithm...\u001b[39m\u001b[38;5;124m\"\u001b[39m)\n\u001b[1;32m----> 8\u001b[0m ga_weights \u001b[38;5;241m=\u001b[39m \u001b[43mgenetic_algorithm\u001b[49m\u001b[43m(\u001b[49m\u001b[43mmodel\u001b[49m\u001b[43m,\u001b[49m\u001b[43m \u001b[49m\u001b[43mpop_size\u001b[49m\u001b[38;5;241;43m=\u001b[39;49m\u001b[38;5;241;43m50\u001b[39;49m\u001b[43m,\u001b[49m\u001b[43m \u001b[49m\u001b[43mnum_generations\u001b[49m\u001b[38;5;241;43m=\u001b[39;49m\u001b[38;5;241;43m100\u001b[39;49m\u001b[43m)\u001b[49m\n\u001b[0;32m      9\u001b[0m model\u001b[38;5;241m.\u001b[39mset_weights(ga_weights)\n\u001b[0;32m     10\u001b[0m \u001b[38;5;28mprint\u001b[39m(\u001b[38;5;124m\"\u001b[39m\u001b[38;5;124mAccuracy on test set:\u001b[39m\u001b[38;5;124m\"\u001b[39m, accuracy_score(y_test, model\u001b[38;5;241m.\u001b[39mpredict(X_test)\u001b[38;5;241m.\u001b[39mround()))\n",
      "Input \u001b[1;32mIn [77]\u001b[0m, in \u001b[0;36mgenetic_algorithm\u001b[1;34m(model, pop_size, num_generations, mutation_rate)\u001b[0m\n\u001b[0;32m      4\u001b[0m population \u001b[38;5;241m=\u001b[39m [model\u001b[38;5;241m.\u001b[39mget_weights() \u001b[38;5;28;01mfor\u001b[39;00m i \u001b[38;5;129;01min\u001b[39;00m \u001b[38;5;28mrange\u001b[39m(pop_size)]\n\u001b[0;32m      6\u001b[0m \u001b[38;5;28;01mfor\u001b[39;00m gen \u001b[38;5;129;01min\u001b[39;00m \u001b[38;5;28mrange\u001b[39m(num_generations):\n\u001b[0;32m      7\u001b[0m     \u001b[38;5;66;03m# Evaluate the fitness of each candidate solution\u001b[39;00m\n\u001b[1;32m----> 8\u001b[0m     fitness \u001b[38;5;241m=\u001b[39m [fitness_function(model, weights) \u001b[38;5;28;01mfor\u001b[39;00m weights \u001b[38;5;129;01min\u001b[39;00m population]\n\u001b[0;32m     10\u001b[0m     \u001b[38;5;66;03m# Print the best fitness in the current generation\u001b[39;00m\n\u001b[0;32m     11\u001b[0m     best_fitness \u001b[38;5;241m=\u001b[39m \u001b[38;5;28mmax\u001b[39m(fitness)\n",
      "Input \u001b[1;32mIn [77]\u001b[0m, in \u001b[0;36m<listcomp>\u001b[1;34m(.0)\u001b[0m\n\u001b[0;32m      4\u001b[0m population \u001b[38;5;241m=\u001b[39m [model\u001b[38;5;241m.\u001b[39mget_weights() \u001b[38;5;28;01mfor\u001b[39;00m i \u001b[38;5;129;01min\u001b[39;00m \u001b[38;5;28mrange\u001b[39m(pop_size)]\n\u001b[0;32m      6\u001b[0m \u001b[38;5;28;01mfor\u001b[39;00m gen \u001b[38;5;129;01min\u001b[39;00m \u001b[38;5;28mrange\u001b[39m(num_generations):\n\u001b[0;32m      7\u001b[0m     \u001b[38;5;66;03m# Evaluate the fitness of each candidate solution\u001b[39;00m\n\u001b[1;32m----> 8\u001b[0m     fitness \u001b[38;5;241m=\u001b[39m [\u001b[43mfitness_function\u001b[49m\u001b[43m(\u001b[49m\u001b[43mmodel\u001b[49m\u001b[43m,\u001b[49m\u001b[43m \u001b[49m\u001b[43mweights\u001b[49m\u001b[43m)\u001b[49m \u001b[38;5;28;01mfor\u001b[39;00m weights \u001b[38;5;129;01min\u001b[39;00m population]\n\u001b[0;32m     10\u001b[0m     \u001b[38;5;66;03m# Print the best fitness in the current generation\u001b[39;00m\n\u001b[0;32m     11\u001b[0m     best_fitness \u001b[38;5;241m=\u001b[39m \u001b[38;5;28mmax\u001b[39m(fitness)\n",
      "Input \u001b[1;32mIn [76]\u001b[0m, in \u001b[0;36mfitness_function\u001b[1;34m(model, weights)\u001b[0m\n\u001b[0;32m     15\u001b[0m         \u001b[38;5;28mself\u001b[39m\u001b[38;5;241m.\u001b[39mfitness_score \u001b[38;5;241m=\u001b[39m logs\u001b[38;5;241m.\u001b[39mget(\u001b[38;5;124m'\u001b[39m\u001b[38;5;124maccuracy\u001b[39m\u001b[38;5;124m'\u001b[39m)\n\u001b[0;32m     17\u001b[0m fitness_callback \u001b[38;5;241m=\u001b[39m FitnessCallback()\n\u001b[1;32m---> 18\u001b[0m \u001b[43mmodel\u001b[49m\u001b[38;5;241;43m.\u001b[39;49m\u001b[43mfit\u001b[49m\u001b[43m(\u001b[49m\u001b[43minputs\u001b[49m\u001b[43m,\u001b[49m\u001b[43m \u001b[49m\u001b[43mtargets\u001b[49m\u001b[43m,\u001b[49m\u001b[43m \u001b[49m\u001b[43mepochs\u001b[49m\u001b[38;5;241;43m=\u001b[39;49m\u001b[38;5;241;43m1\u001b[39;49m\u001b[43m,\u001b[49m\u001b[43m \u001b[49m\u001b[43mbatch_size\u001b[49m\u001b[38;5;241;43m=\u001b[39;49m\u001b[38;5;241;43m1\u001b[39;49m\u001b[43m,\u001b[49m\u001b[43m \u001b[49m\u001b[43mcallbacks\u001b[49m\u001b[38;5;241;43m=\u001b[39;49m\u001b[43m[\u001b[49m\u001b[43mfitness_callback\u001b[49m\u001b[43m]\u001b[49m\u001b[43m,\u001b[49m\u001b[43m \u001b[49m\u001b[43mverbose\u001b[49m\u001b[38;5;241;43m=\u001b[39;49m\u001b[38;5;241;43m0\u001b[39;49m\u001b[43m)\u001b[49m\n\u001b[0;32m     20\u001b[0m \u001b[38;5;66;03m# Evaluate the accuracy of the neural network on the binary classification task\u001b[39;00m\n\u001b[0;32m     21\u001b[0m y_pred \u001b[38;5;241m=\u001b[39m np\u001b[38;5;241m.\u001b[39mround(model\u001b[38;5;241m.\u001b[39mpredict(inputs)\u001b[38;5;241m.\u001b[39mravel())\n",
      "File \u001b[1;32m~\\AppData\\Roaming\\Python\\Python39\\site-packages\\keras\\utils\\traceback_utils.py:70\u001b[0m, in \u001b[0;36mfilter_traceback.<locals>.error_handler\u001b[1;34m(*args, **kwargs)\u001b[0m\n\u001b[0;32m     67\u001b[0m     filtered_tb \u001b[38;5;241m=\u001b[39m _process_traceback_frames(e\u001b[38;5;241m.\u001b[39m__traceback__)\n\u001b[0;32m     68\u001b[0m     \u001b[38;5;66;03m# To get the full stack trace, call:\u001b[39;00m\n\u001b[0;32m     69\u001b[0m     \u001b[38;5;66;03m# `tf.debugging.disable_traceback_filtering()`\u001b[39;00m\n\u001b[1;32m---> 70\u001b[0m     \u001b[38;5;28;01mraise\u001b[39;00m e\u001b[38;5;241m.\u001b[39mwith_traceback(filtered_tb) \u001b[38;5;28;01mfrom\u001b[39;00m \u001b[38;5;28mNone\u001b[39m\n\u001b[0;32m     71\u001b[0m \u001b[38;5;28;01mfinally\u001b[39;00m:\n\u001b[0;32m     72\u001b[0m     \u001b[38;5;28;01mdel\u001b[39;00m filtered_tb\n",
      "File \u001b[1;32m~\\AppData\\Local\\Temp\\__autograph_generated_filety7n7vc4.py:15\u001b[0m, in \u001b[0;36mouter_factory.<locals>.inner_factory.<locals>.tf__train_function\u001b[1;34m(iterator)\u001b[0m\n\u001b[0;32m     13\u001b[0m \u001b[38;5;28;01mtry\u001b[39;00m:\n\u001b[0;32m     14\u001b[0m     do_return \u001b[38;5;241m=\u001b[39m \u001b[38;5;28;01mTrue\u001b[39;00m\n\u001b[1;32m---> 15\u001b[0m     retval_ \u001b[38;5;241m=\u001b[39m ag__\u001b[38;5;241m.\u001b[39mconverted_call(ag__\u001b[38;5;241m.\u001b[39mld(step_function), (ag__\u001b[38;5;241m.\u001b[39mld(\u001b[38;5;28mself\u001b[39m), ag__\u001b[38;5;241m.\u001b[39mld(iterator)), \u001b[38;5;28;01mNone\u001b[39;00m, fscope)\n\u001b[0;32m     16\u001b[0m \u001b[38;5;28;01mexcept\u001b[39;00m:\n\u001b[0;32m     17\u001b[0m     do_return \u001b[38;5;241m=\u001b[39m \u001b[38;5;28;01mFalse\u001b[39;00m\n",
      "\u001b[1;31mValueError\u001b[0m: in user code:\n\n    File \"C:\\Users\\Gabriel\\AppData\\Roaming\\Python\\Python39\\site-packages\\keras\\engine\\training.py\", line 1284, in train_function  *\n        return step_function(self, iterator)\n    File \"C:\\Users\\Gabriel\\AppData\\Roaming\\Python\\Python39\\site-packages\\keras\\engine\\training.py\", line 1268, in step_function  **\n        outputs = model.distribute_strategy.run(run_step, args=(data,))\n    File \"C:\\Users\\Gabriel\\AppData\\Roaming\\Python\\Python39\\site-packages\\keras\\engine\\training.py\", line 1249, in run_step  **\n        outputs = model.train_step(data)\n    File \"C:\\Users\\Gabriel\\AppData\\Roaming\\Python\\Python39\\site-packages\\keras\\engine\\training.py\", line 1050, in train_step\n        y_pred = self(x, training=True)\n    File \"C:\\Users\\Gabriel\\AppData\\Roaming\\Python\\Python39\\site-packages\\keras\\utils\\traceback_utils.py\", line 70, in error_handler\n        raise e.with_traceback(filtered_tb) from None\n    File \"C:\\Users\\Gabriel\\AppData\\Roaming\\Python\\Python39\\site-packages\\keras\\engine\\input_spec.py\", line 298, in assert_input_compatibility\n        raise ValueError(\n\n    ValueError: Input 0 of layer \"sequential_6\" is incompatible with the layer: expected shape=(None, 20), found shape=(1, 12)\n"
     ]
    }
   ],
   "source": [
    "                \n",
    "model = Sequential([\n",
    "Dense(input_dim=20, units = 10,activation='relu'),\n",
    "Dense(1, activation='sigmoid')\n",
    "])\n",
    "model.compile(loss='binary_crossentropy', optimizer='adam', metrics=['accuracy'])\n",
    "\n",
    "print(\"Training with genetic algorithm...\")\n",
    "ga_weights = genetic_algorithm(model, pop_size=50, num_generations=100)\n",
    "model.set_weights(ga_weights)\n",
    "print(\"Accuracy on test set:\", accuracy_score(y_test, model.predict(X_test).round()))\n",
    "\n",
    "print(\"Training with cultural algorithm...\")\n",
    "cultural_weights = cultural_algorithm(model, pop_size=50, num_generations=100)\n",
    "model.set_weights(cultural_weights)\n",
    "print(\"Accuracy on test set:\", accuracy_score(y_test, model.predict(X_test).round()))\n",
    "\n",
    "print(\"Training with ant colony optimization...\")\n",
    "aco_weights = ant_colony_optimization(model, pop_size=50, num_ants=50, num_generations=100)\n",
    "model.set_weights(aco_weights)\n",
    "print(\"Accuracy on test set:\", accuracy_score(y_test, model.predict(X_test).round()))\n",
    "\n",
    "print(\"Training with particle swarm optimization...\")\n",
    "pso_weights = particle_swarm_optimization(model, pop_size=50, num_particles=50, num_generations=100)\n",
    "model.set_weights(pso_weights)\n",
    "print(\"Accuracy on test set:\", accuracy_score(y_test, model.predict(X_test).round()))\n",
    "                           \n"
   ]
  },
  {
   "cell_type": "code",
   "execution_count": 33,
   "id": "c6e82525",
   "metadata": {},
   "outputs": [
    {
     "data": {
      "text/plain": [
       "<keras.engine.sequential.Sequential at 0x1c8f222ed60>"
      ]
     },
     "execution_count": 33,
     "metadata": {},
     "output_type": "execute_result"
    }
   ],
   "source": [
    "model"
   ]
  },
  {
   "cell_type": "code",
   "execution_count": 66,
   "id": "b1b5db2a",
   "metadata": {},
   "outputs": [
    {
     "name": "stdout",
     "output_type": "stream",
     "text": [
      "Model: \"sequential_2\"\n",
      "_________________________________________________________________\n",
      " Layer (type)                Output Shape              Param #   \n",
      "=================================================================\n",
      " dense_4 (Dense)             (None, 10)                210       \n",
      "                                                                 \n",
      " dense_5 (Dense)             (None, 1)                 11        \n",
      "                                                                 \n",
      "=================================================================\n",
      "Total params: 221\n",
      "Trainable params: 221\n",
      "Non-trainable params: 0\n",
      "_________________________________________________________________\n"
     ]
    }
   ],
   "source": [
    "model.summary()"
   ]
  },
  {
   "cell_type": "code",
   "execution_count": 35,
   "id": "02f8db43",
   "metadata": {},
   "outputs": [
    {
     "data": {
      "text/plain": [
       "(1650, 12)"
      ]
     },
     "execution_count": 35,
     "metadata": {},
     "output_type": "execute_result"
    }
   ],
   "source": [
    "X_test.shape"
   ]
  },
  {
   "cell_type": "code",
   "execution_count": null,
   "id": "067517ed",
   "metadata": {},
   "outputs": [],
   "source": [
    "\n"
   ]
  }
 ],
 "metadata": {
  "kernelspec": {
   "display_name": "Python 3 (ipykernel)",
   "language": "python",
   "name": "python3"
  },
  "language_info": {
   "codemirror_mode": {
    "name": "ipython",
    "version": 3
   },
   "file_extension": ".py",
   "mimetype": "text/x-python",
   "name": "python",
   "nbconvert_exporter": "python",
   "pygments_lexer": "ipython3",
   "version": "3.9.12"
  }
 },
 "nbformat": 4,
 "nbformat_minor": 5
}
